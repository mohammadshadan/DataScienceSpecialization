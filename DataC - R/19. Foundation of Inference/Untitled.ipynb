{
 "cells": [
  {
   "cell_type": "markdown",
   "metadata": {},
   "source": [
    "## Working with the NHANES data\n",
    "\n",
    "Throughout this chapter, you will use the NHANES dataset from the NHANES R package. These data are collected by the CDC and can be thought of as a random sample of US residents.\n",
    "\n",
    "Before moving on to investigate particular variables, you'll have an opportunity to briefly explore the data in this exercise.\n",
    "\n",
    "Instructions\n",
    " - Load the dplyr, ggplot2, and NHANES packages, one at a time.\n",
    " - Use the names() function to list the variables included in NHANES. (See ?NHANES for more info.)\n",
    " - Create a barplot for HomeOwn broken down by Gender. Use geom_bar(position = \"fill\") to compare relative frequencies.\n",
    " - Create a density plot for SleepHrsNight colored by SleepTrouble and faceted by HealthGen.\n",
    " - Note that because of the discrete nature of the data collection, the density should be smoothed a bit using adjust = 2.\n",
    " - Use facet_wrap(~ HealthGen) for the faceting, which will make it easier to visualize how the variables of interest vary by."
   ]
  },
  {
   "cell_type": "code",
   "execution_count": 1,
   "metadata": {
    "collapsed": false
   },
   "outputs": [
    {
     "ename": "NameError",
     "evalue": "name 'library' is not defined",
     "output_type": "error",
     "traceback": [
      "\u001b[0;31m---------------------------------------------------------------------------\u001b[0m",
      "\u001b[0;31mNameError\u001b[0m                                 Traceback (most recent call last)",
      "\u001b[0;32m<ipython-input-1-802e3884cda7>\u001b[0m in \u001b[0;36m<module>\u001b[0;34m()\u001b[0m\n\u001b[0;32m----> 1\u001b[0;31m \u001b[0mlibrary\u001b[0m\u001b[1;33m(\u001b[0m\u001b[0mdplyr\u001b[0m\u001b[1;33m)\u001b[0m\u001b[1;33m\u001b[0m\u001b[0m\n\u001b[0m",
      "\u001b[0;31mNameError\u001b[0m: name 'library' is not defined"
     ]
    }
   ],
   "source": [
    "library(dplyr)"
   ]
  },
  {
   "cell_type": "code",
   "execution_count": null,
   "metadata": {
    "collapsed": true
   },
   "outputs": [],
   "source": []
  }
 ],
 "metadata": {
  "anaconda-cloud": {},
  "kernelspec": {
   "display_name": "Python [conda root]",
   "language": "python",
   "name": "conda-root-py"
  },
  "language_info": {
   "codemirror_mode": {
    "name": "ipython",
    "version": 3
   },
   "file_extension": ".py",
   "mimetype": "text/x-python",
   "name": "python",
   "nbconvert_exporter": "python",
   "pygments_lexer": "ipython3",
   "version": "3.5.2"
  }
 },
 "nbformat": 4,
 "nbformat_minor": 1
}
