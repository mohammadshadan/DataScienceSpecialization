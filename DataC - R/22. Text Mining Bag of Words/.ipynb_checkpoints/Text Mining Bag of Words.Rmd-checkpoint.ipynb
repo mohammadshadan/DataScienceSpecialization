{
 "cells": [
  {
   "cell_type": "code",
   "execution_count": 21,
   "metadata": {
    "collapsed": false
   },
   "outputs": [
    {
     "name": "stderr",
     "output_type": "stream",
     "text": [
      "Warning message:\n",
      "\"package 'qdap' was built under R version 3.3.3\"Loading required package: qdapDictionaries\n",
      "Loading required package: qdapRegex\n",
      "Warning message:\n",
      "\"package 'qdapRegex' was built under R version 3.3.3\"Loading required package: qdapTools\n",
      "Warning message:\n",
      "\"package 'qdapTools' was built under R version 3.3.3\"Loading required package: RColorBrewer\n",
      "\n",
      "Attaching package: 'qdap'\n",
      "\n",
      "The following object is masked from 'package:base':\n",
      "\n",
      "    Filter\n",
      "\n",
      "Loading required package: NLP\n",
      "\n",
      "Attaching package: 'NLP'\n",
      "\n",
      "The following object is masked from 'package:qdap':\n",
      "\n",
      "    ngrams\n",
      "\n",
      "\n",
      "Attaching package: 'tm'\n",
      "\n",
      "The following objects are masked from 'package:qdap':\n",
      "\n",
      "    as.DocumentTermMatrix, as.TermDocumentMatrix\n",
      "\n"
     ]
    }
   ],
   "source": [
    "library(qdap)\n",
    "library(tm)"
   ]
  },
  {
   "cell_type": "markdown",
   "metadata": {},
   "source": [
    "# 1. Jumping into text mining with bag of words "
   ]
  },
  {
   "cell_type": "markdown",
   "metadata": {},
   "source": [
    "### Quick taste of text mining\n",
    "\n",
    "It is always fun to jump in with a quick and easy example. Sometimes we can find out the author's intent and main ideas just by looking at the most common words.\n",
    "\n",
    "At its heart, bag of words text mining represents a way to count terms, or n-grams, across a collection of documents. Consider the following sentences, which we've saved to text and made available in your workspace:\n",
    "\n",
    "text <- \"Text mining usually involves the process of structuring the input text. The overarching goal is, essentially, to turn text into data for analysis, via application of natural language processing (NLP) and analytical methods.\"\n",
    "Manually counting words in the sentences above is a pain! Fortunately, the qdap package offers a better alternative. You can easily find the top 4 most frequent terms (including ties) in text by calling the freq_terms function and specifying 4.\n",
    "\n",
    "frequent_terms <- freq_terms(text, 4)\n",
    "The frequent_terms object stores all unique words and their count. You can then make a bar chart simply by calling the plot function on the frequent_terms object.\n",
    "\n",
    "plot(frequent_terms)\n",
    "Instructions\n",
    "We've created an object in your workspace called new_text containing several sentences.\n",
    "\n",
    "Load the qdap package\n",
    "\n",
    " - Print new_text to the console.\n",
    " - Create term_count consisting of the 10 most frequent terms in new_text.\n",
    " - Plot a bar chart with the results of term_count."
   ]
  },
  {
   "cell_type": "code",
   "execution_count": 1,
   "metadata": {
    "collapsed": false
   },
   "outputs": [
    {
     "name": "stderr",
     "output_type": "stream",
     "text": [
      "Warning message:\n",
      "\"package 'qdap' was built under R version 3.3.3\"Loading required package: qdapDictionaries\n",
      "Loading required package: qdapRegex\n",
      "Warning message:\n",
      "\"package 'qdapRegex' was built under R version 3.3.3\"Loading required package: qdapTools\n",
      "Warning message:\n",
      "\"package 'qdapTools' was built under R version 3.3.3\"Loading required package: RColorBrewer\n",
      "\n",
      "Attaching package: 'qdap'\n",
      "\n",
      "The following object is masked from 'package:base':\n",
      "\n",
      "    Filter\n",
      "\n"
     ]
    }
   ],
   "source": [
    "library(qdap)"
   ]
  },
  {
   "cell_type": "code",
   "execution_count": 2,
   "metadata": {
    "collapsed": true
   },
   "outputs": [],
   "source": [
    "new_text <- \"DataCamp is the first online learning platform that focuses on building the best learning experience specifically for Data Science. We have offices in Boston and Belgium and to date, we trained over 250,000 (aspiring) data scientists in over 150 countries. These data science enthusiasts completed more than 9 million exercises. You can take free beginner courses, or subscribe for $25/month to get access to all premium courses.\""
   ]
  },
  {
   "cell_type": "code",
   "execution_count": 3,
   "metadata": {
    "collapsed": false
   },
   "outputs": [
    {
     "data": {
      "text/html": [
       "'character'"
      ],
      "text/latex": [
       "'character'"
      ],
      "text/markdown": [
       "'character'"
      ],
      "text/plain": [
       "[1] \"character\""
      ]
     },
     "metadata": {},
     "output_type": "display_data"
    }
   ],
   "source": [
    "class(new_text)"
   ]
  },
  {
   "cell_type": "code",
   "execution_count": 4,
   "metadata": {
    "collapsed": false
   },
   "outputs": [
    {
     "name": "stdout",
     "output_type": "stream",
     "text": [
      "[1] \"DataCamp is the first online learning platform that focuses on building the best learning experience specifically for Data Science. We have offices in Boston and Belgium and to date, we trained over 250,000 (aspiring) data scientists in over 150 countries. These data science enthusiasts completed more than 9 million exercises. You can take free beginner courses, or subscribe for $25/month to get access to all premium courses.\"\n"
     ]
    },
    {
     "data": {
      "image/png": "[encoded data removed]",
      "text/plain": [
       "plot without title"
      ]
     },
     "metadata": {},
     "output_type": "display_data"
    }
   ],
   "source": [
    "# Print new_text to the console\n",
    "print(new_text)\n",
    "\n",
    "# Find the 10 most frequent terms: term_count\n",
    "term_count <- freq_terms(new_text,10)\n",
    "\n",
    "# Plot term_count\n",
    "plot(term_count)"
   ]
  },
  {
   "cell_type": "markdown",
   "metadata": {
    "collapsed": true
   },
   "source": [
    "## Getting started"
   ]
  },
  {
   "cell_type": "markdown",
   "metadata": {},
   "source": [
    "Load some text\n",
    "100xp\n",
    "Text mining begins with loading some text data into R, which we'll do with the read.csv() function. By default, read.csv() treats character strings as factor levels like Male/Female. To prevent this from happening, it's very important to use the argument stringsAsFactors = FALSE.\n",
    "\n",
    "A best practice is to examine the object you read in to make sure you know which column(s) are important. The str() function provides an efficient way of doing this. You can also count the number of documents using the nrow() function on the new object. In this example, it will tell you how many coffee tweets are in the vector.\n",
    "\n",
    "If the data frame contains columns that are not text, you may want to make a new object using only the correct column of text (e.g. some_object$column_name).\n",
    "\n",
    "A word of warning: you'll be working with real tweets from real people in this course, so you may find some mild profanity from time to time.\n",
    "\n",
    "Instructions\n",
    "Create a new object tweets using read.csv() on the file coffee.csv, which contains tweets mentioning coffee. Don't forget to add stringsAsFactors = FALSE!\n",
    "Examine the tweets object using str() to determine which column has the text you'll want to analyze.\n",
    "Print out the number of rows in the tweets data frame.\n",
    "Make a new coffee_tweets object using only the text column you identified earlier. To do so, use the $ operator and column name."
   ]
  },
  {
   "cell_type": "code",
   "execution_count": 26,
   "metadata": {
    "collapsed": false
   },
   "outputs": [
    {
     "name": "stdout",
     "output_type": "stream",
     "text": [
      "'data.frame':\t1000 obs. of  1 variable:\n",
      " $ text: chr  \"@ayyytylerb that is so true drink lots of coffee\" \"RT @bryzy_brib: Senior March tmw morning at 7:25 A.M. in the SENIOR lot. Get up early, make yo coffee/breakfast, cus this will \"| __truncated__ \"If you believe in #gunsense tomorrow would be a very good day to have your coffee any place BUT @Starbucks Guns+Coffee=#nosense\"| __truncated__ \"My cute coffee mug. http://t.co/2udvMU6XIG\" ...\n"
     ]
    },
    {
     "data": {
      "text/html": [
       "1000"
      ],
      "text/latex": [
       "1000"
      ],
      "text/markdown": [
       "1000"
      ],
      "text/plain": [
       "[1] 1000"
      ]
     },
     "metadata": {},
     "output_type": "display_data"
    }
   ],
   "source": [
    "# Import text data\n",
    "tweets <- read.csv(\"coffee.csv\", stringsAsFactors=FALSE)\n",
    "names(tweets) <- \"text\" #my addition\n",
    "\n",
    "# View the structure of tweets\n",
    "str(tweets)\n",
    "\n",
    "# Print out the number of rows in tweets\n",
    "nrow(tweets)\n",
    "\n",
    "# Isolate text from tweets: coffee_tweets\n",
    "coffee_tweets <- tweets$text"
   ]
  },
  {
   "cell_type": "markdown",
   "metadata": {},
   "source": [
    "### Make the vector a VCorpus object (1)\n",
    "\n",
    "Recall that you've loaded your text data as a vector called coffee_tweets in the last exercise. Your next step is to convert this vector containing the text data to a corpus. As you've learned in the video, a corpus is a collection of documents, but it's also important to know that in the tm domain, R recognizes it as a data type.\n",
    "\n",
    "There are two kinds of the corpus data type, the permanent corpus, PCorpus, and the volatile corpus, VCorpus. In essence, the difference between the two has to do with how the collection of documents is stored in your computer. In this course, we will use the volatile corpus, which is held in your computer's RAM rather than saved to disk, just to be more memory efficient.\n",
    "\n",
    "To make a volatile corpus, R needs to interpret each element in our vector of text, coffee_tweets, as a document. And the tm package provides what are called Source functions to do just that! In this exercise, we'll use a Source function called VectorSource() because our text data is contained in a vector. The output of this function is called a Source object. Give it a shot!\n",
    "\n",
    "Instructions\n",
    "- Load the tm package.\n",
    "- Create a Source object from the coffee_tweets vector. Call this new object coffee_source."
   ]
  },
  {
   "cell_type": "code",
   "execution_count": 27,
   "metadata": {
    "collapsed": true
   },
   "outputs": [],
   "source": [
    "# Load tm\n",
    "library(tm)\n",
    "\n",
    "# Make a vector source: coffee_source\n",
    "coffee_source <- VectorSource(coffee_tweets)"
   ]
  },
  {
   "cell_type": "markdown",
   "metadata": {},
   "source": [
    "### Make the vector a VCorpus object (2)\n",
    "\n",
    "Now that we've converted our vector to a Source object, we pass it to another tm function, VCorpus(), to create our volatile corpus. Pretty straightforward, right?\n",
    "\n",
    "The VCorpus object is a nested list, or list of lists. At each index of the VCorpus object, there is a PlainTextDocument object, which is essentially a list that contains the actual text data (content), as well as some corresponding metadata (meta). It can help to visualize a VCorpus object to conceptualize the whole thing.\n",
    "\n",
    "For example, to examine the contents of the second tweet in coffee_corpus, you'd subset twice. Once to specify the second PlainTextDocument corresponding to the second tweet and again to extract the first (or content) element of that PlainTextDocument:\n",
    "\n",
    "coffee_corpus[[15]][1]  \n",
    "\n",
    "Instructions\n",
    "- Call the VCorpus() function on the coffee_source object to create coffee_corpus.\n",
    "- Verify coffee_corpus is a VCorpus object by printing it to the console.\n",
    "- Print the 15th element of coffee_corpus to the console to verify that it's a PlainTextDocument that contains the content and metadata of the 15th tweet. Use double bracket subsetting.\n",
    "- Print the content of the 15th tweet in coffee_corpus. Use double brackets to select the proper tweet, followed by single brackets (or the $ notation) to extract the content of that tweet."
   ]
  },
  {
   "cell_type": "code",
   "execution_count": 28,
   "metadata": {
    "collapsed": false
   },
   "outputs": [
    {
     "name": "stdout",
     "output_type": "stream",
     "text": [
      "<<VCorpus>>\n",
      "Metadata:  corpus specific: 0, document level (indexed): 0\n",
      "Content:  documents: 1000\n"
     ]
    },
    {
     "data": {
      "text/plain": [
       "<<PlainTextDocument>>\n",
       "Metadata:  7\n",
       "Content:  chars: 111"
      ]
     },
     "metadata": {},
     "output_type": "display_data"
    },
    {
     "data": {
      "text/html": [
       "<strong>$content</strong> = '@HeatherWhaley I was about 2 joke it takes 2 hands to hold hot coffee...then I read headline! #Don\\'tDrinkNShoot'"
      ],
      "text/latex": [
       "\\textbf{\\$content} = '@HeatherWhaley I was about 2 joke it takes 2 hands to hold hot coffee...then I read headline! \\#Don\\textbackslash{}'tDrinkNShoot'"
      ],
      "text/markdown": [
       "**$content** = '@HeatherWhaley I was about 2 joke it takes 2 hands to hold hot coffee...then I read headline! #Don\\'tDrinkNShoot'"
      ],
      "text/plain": [
       "$content\n",
       "[1] \"@HeatherWhaley I was about 2 joke it takes 2 hands to hold hot coffee...then I read headline! #Don'tDrinkNShoot\"\n"
      ]
     },
     "metadata": {},
     "output_type": "display_data"
    }
   ],
   "source": [
    "## coffee_source is already in your workspace\n",
    "\n",
    "# Make a volatile corpus: coffee_corpus\n",
    "coffee_corpus <- VCorpus(coffee_source)\n",
    "\n",
    "# Print out coffee_corpus\n",
    "print(coffee_corpus)\n",
    "\n",
    "# Print data on the 15th tweet in coffee_corpus\n",
    "coffee_corpus[[15]]\n",
    "\n",
    "# Print the content of the 15th tweet in coffee_corpus\n",
    "coffee_corpus[[15]][1]"
   ]
  },
  {
   "cell_type": "markdown",
   "metadata": {
    "collapsed": true
   },
   "source": [
    "### Make a VCorpus from a data frame\n",
    "\n",
    "Because another common text source is a data frame, there is a Source function called DataframeSource(). The DataframeSource() function treats the entire row as a complete document, so be careful you don't pick up non-text data like customer IDs when sourcing a document this way.\n",
    "\n",
    "Instructions\n",
    "In your workspace, there's a simple data frame called example_text from which we're only interested in the second and third columns (i.e. example_text[, 2:3]).\n",
    "\n",
    "Print example_text to the console\n",
    "Create df_source using DataframeSource() on columns 2 and 3 from example_text.\n",
    "Create df_corpus by converting df_source to a corpus object.\n",
    "Print out df_corpus. Notice how many documents it contains.\n",
    "Make another object vec_source using the VectorSource() function on just the third column from example_text.\n",
    "Create vec_corpus by converting vec_source to a corpus object.\n",
    "Print out vec_corpus. Observe whether it has the same number of documents as df_corpus."
   ]
  },
  {
   "cell_type": "code",
   "execution_count": null,
   "metadata": {
    "collapsed": true
   },
   "outputs": [],
   "source": [
    "  num                             Author1               Author2\n",
    "1   1        Text mining is a great time. R is a great language\n",
    "2   2     Text analysis provides insights       R has many uses\n",
    "3   3 qdap and tm are used in text mining     DataCamp is cool!"
   ]
  },
  {
   "cell_type": "code",
   "execution_count": 33,
   "metadata": {
    "collapsed": false
   },
   "outputs": [],
   "source": [
    "example_text=data.frame(num=c(1,2,3), \n",
    "                        Author1=c(\"Text mining is a great time.\",\"Text analysis provides insights\",\"qdap and tm are used in text mining\"),\n",
    "                        Author2=c(\"R is a great language\",\"R has many uses\",\"DataCamp is cool!\"))"
   ]
  },
  {
   "cell_type": "code",
   "execution_count": 34,
   "metadata": {
    "collapsed": false
   },
   "outputs": [
    {
     "data": {
      "text/html": [
       "<table>\n",
       "<thead><tr><th scope=col>num</th><th scope=col>Author1</th><th scope=col>Author2</th></tr></thead>\n",
       "<tbody>\n",
       "\t<tr><td>1                                  </td><td>Text mining is a great time.       </td><td>R is a great language              </td></tr>\n",
       "\t<tr><td>2                                  </td><td>Text analysis provides insights    </td><td>R has many uses                    </td></tr>\n",
       "\t<tr><td>3                                  </td><td>qdap and tm are used in text mining</td><td>DataCamp is cool!                  </td></tr>\n",
       "</tbody>\n",
       "</table>\n"
      ],
      "text/latex": [
       "\\begin{tabular}{r|lll}\n",
       " num & Author1 & Author2\\\\\n",
       "\\hline\n",
       "\t 1                                   & Text mining is a great time.        & R is a great language              \\\\\n",
       "\t 2                                   & Text analysis provides insights     & R has many uses                    \\\\\n",
       "\t 3                                   & qdap and tm are used in text mining & DataCamp is cool!                  \\\\\n",
       "\\end{tabular}\n"
      ],
      "text/markdown": [
       "\n",
       "num | Author1 | Author2 | \n",
       "|---|---|---|\n",
       "| 1                                   | Text mining is a great time.        | R is a great language               | \n",
       "| 2                                   | Text analysis provides insights     | R has many uses                     | \n",
       "| 3                                   | qdap and tm are used in text mining | DataCamp is cool!                   | \n",
       "\n",
       "\n"
      ],
      "text/plain": [
       "  num Author1                             Author2              \n",
       "1 1   Text mining is a great time.        R is a great language\n",
       "2 2   Text analysis provides insights     R has many uses      \n",
       "3 3   qdap and tm are used in text mining DataCamp is cool!    "
      ]
     },
     "metadata": {},
     "output_type": "display_data"
    }
   ],
   "source": [
    "example_text"
   ]
  },
  {
   "cell_type": "code",
   "execution_count": 35,
   "metadata": {
    "collapsed": false
   },
   "outputs": [
    {
     "name": "stdout",
     "output_type": "stream",
     "text": [
      "  num                             Author1               Author2\n",
      "1   1        Text mining is a great time. R is a great language\n",
      "2   2     Text analysis provides insights       R has many uses\n",
      "3   3 qdap and tm are used in text mining     DataCamp is cool!\n",
      "<<VCorpus>>\n",
      "Metadata:  corpus specific: 0, document level (indexed): 0\n",
      "Content:  documents: 3\n",
      "<<VCorpus>>\n",
      "Metadata:  corpus specific: 0, document level (indexed): 0\n",
      "Content:  documents: 3\n"
     ]
    }
   ],
   "source": [
    "# Print example_text to the console\n",
    "print(example_text)\n",
    "\n",
    "# Create a DataframeSource on columns 2 and 3: df_source\n",
    "df_source <- DataframeSource(example_text[, 2:3])\n",
    "\n",
    "# Convert df_source to a corpus: df_corpus\n",
    "df_corpus <- VCorpus(df_source)\n",
    "\n",
    "# Examine df_corpus\n",
    "print(df_corpus)\n",
    "\n",
    "# Create a VectorSource on column 3: vec_source\n",
    "vec_source <- VectorSource(example_text$Author2)\n",
    "\n",
    "# Convert vec_source to a corpus: vec_corpus\n",
    "vec_corpus <- VCorpus(vec_source)\n",
    "\n",
    "# Examine vec_corpus\n",
    "print(vec_corpus)"
   ]
  },
  {
   "cell_type": "markdown",
   "metadata": {},
   "source": [
    "## Cleaning and preprocessing text"
   ]
  },
  {
   "cell_type": "markdown",
   "metadata": {},
   "source": [
    "Common cleaning functions from tm\n",
    "100xp\n",
    "Now that you know two ways to make a corpus, we can focus on cleaning, or preprocessing, the text. First, we'll clean a small piece of text so you can see how it works. Then we will move on to actual corpora.\n",
    "\n",
    "In bag of words text mining, cleaning helps aggregate terms. For example, it may make sense that the words \"miner\", \"mining\" and \"mine\" should be considered one term. Specific preprocessing steps will vary based on the project. For example, the words used in tweets are vastly different than those used in legal documents, so the cleaning process can also be quite different.\n",
    "\n",
    "Common preprocessing functions include:\n",
    "\n",
    "tolower(): Make all characters lowercase\n",
    "removePunctuation(): Remove all punctuation marks\n",
    "removeNumbers(): Remove numbers\n",
    "stripWhitespace(): Remove excess whitespace\n",
    "Note that tolower() is part of base R, while the other three functions come from the tm package. Going forward, we'll load the tm and qdap for you when they are needed. Every time we introduce a new package, we'll have you load it the first time.\n",
    "\n",
    "Instructions\n",
    "- Create an object, text, containing the sentence below:\n",
    "- <b>She</b> woke up at       6 A.M. It\\'s so early!  She was only 10% awake and began drinking coffee in front of her computer.\n",
    "- Apply each of the following functions to text, simply printing results to the console:\n",
    "tolower()\n",
    "removePunctuation()\n",
    "removeNumbers()\n",
    "stripWhitespace()"
   ]
  },
  {
   "cell_type": "code",
   "execution_count": 5,
   "metadata": {
    "collapsed": false
   },
   "outputs": [
    {
     "name": "stderr",
     "output_type": "stream",
     "text": [
      "Warning message:\n",
      "\"package 'qdap' was built under R version 3.3.3\"Loading required package: qdapDictionaries\n",
      "Loading required package: qdapRegex\n",
      "Warning message:\n",
      "\"package 'qdapRegex' was built under R version 3.3.3\"Loading required package: qdapTools\n",
      "Warning message:\n",
      "\"package 'qdapTools' was built under R version 3.3.3\"Loading required package: RColorBrewer\n",
      "\n",
      "Attaching package: 'qdap'\n",
      "\n",
      "The following objects are masked from 'package:tm':\n",
      "\n",
      "    as.DocumentTermMatrix, as.TermDocumentMatrix\n",
      "\n",
      "The following object is masked from 'package:NLP':\n",
      "\n",
      "    ngrams\n",
      "\n",
      "The following object is masked from 'package:base':\n",
      "\n",
      "    Filter\n",
      "\n"
     ]
    }
   ],
   "source": [
    "library(tm)\n",
    "library(qdap)"
   ]
  },
  {
   "cell_type": "code",
   "execution_count": 3,
   "metadata": {
    "collapsed": false
   },
   "outputs": [
    {
     "data": {
      "text/html": [
       "<span style=white-space:pre-wrap>'&lt;b&gt;she&lt;/b&gt; woke up at       6 a.m. it\\'s so early!  she was only 10% awake and began drinking coffee in front of her computer.'</span>"
      ],
      "text/latex": [
       "'<b>she</b> woke up at       6 a.m. it\\textbackslash{}'s so early!  she was only 10\\% awake and began drinking coffee in front of her computer.'"
      ],
      "text/markdown": [
       "<span style=white-space:pre-wrap>'&lt;b&gt;she&lt;/b&gt; woke up at       6 a.m. it\\'s so early!  she was only 10% awake and began drinking coffee in front of her computer.'</span>"
      ],
      "text/plain": [
       "[1] \"<b>she</b> woke up at       6 a.m. it's so early!  she was only 10% awake and began drinking coffee in front of her computer.\""
      ]
     },
     "metadata": {},
     "output_type": "display_data"
    },
    {
     "data": {
      "text/html": [
       "<span style=white-space:pre-wrap>'bSheb woke up at       6 AM Its so early  She was only 10 awake and began drinking coffee in front of her computer'</span>"
      ],
      "text/latex": [
       "'bSheb woke up at       6 AM Its so early  She was only 10 awake and began drinking coffee in front of her computer'"
      ],
      "text/markdown": [
       "<span style=white-space:pre-wrap>'bSheb woke up at       6 AM Its so early  She was only 10 awake and began drinking coffee in front of her computer'</span>"
      ],
      "text/plain": [
       "[1] \"bSheb woke up at       6 AM Its so early  She was only 10 awake and began drinking coffee in front of her computer\""
      ]
     },
     "metadata": {},
     "output_type": "display_data"
    },
    {
     "data": {
      "text/html": [
       "<span style=white-space:pre-wrap>'&lt;b&gt;She&lt;/b&gt; woke up at        A.M. It\\'s so early!  She was only % awake and began drinking coffee in front of her computer.'</span>"
      ],
      "text/latex": [
       "'<b>She</b> woke up at        A.M. It\\textbackslash{}'s so early!  She was only \\% awake and began drinking coffee in front of her computer.'"
      ],
      "text/markdown": [
       "<span style=white-space:pre-wrap>'&lt;b&gt;She&lt;/b&gt; woke up at        A.M. It\\'s so early!  She was only % awake and began drinking coffee in front of her computer.'</span>"
      ],
      "text/plain": [
       "[1] \"<b>She</b> woke up at        A.M. It's so early!  She was only % awake and began drinking coffee in front of her computer.\""
      ]
     },
     "metadata": {},
     "output_type": "display_data"
    },
    {
     "data": {
      "text/html": [
       "'&lt;b&gt;She&lt;/b&gt; woke up at 6 A.M. It\\'s so early! She was only 10% awake and began drinking coffee in front of her computer.'"
      ],
      "text/latex": [
       "'<b>She</b> woke up at 6 A.M. It\\textbackslash{}'s so early! She was only 10\\% awake and began drinking coffee in front of her computer.'"
      ],
      "text/markdown": [
       "'&lt;b&gt;She&lt;/b&gt; woke up at 6 A.M. It\\'s so early! She was only 10% awake and began drinking coffee in front of her computer.'"
      ],
      "text/plain": [
       "[1] \"<b>She</b> woke up at 6 A.M. It's so early! She was only 10% awake and began drinking coffee in front of her computer.\""
      ]
     },
     "metadata": {},
     "output_type": "display_data"
    }
   ],
   "source": [
    "# Create the object: text\n",
    "text <- \"<b>She</b> woke up at       6 A.M. It\\'s so early!  She was only 10% awake and began drinking coffee in front of her computer.\"\n",
    "\n",
    "# All lowercase\n",
    "tolower(text)\n",
    "\n",
    "# Remove punctuation\n",
    "removePunctuation(text)\n",
    "\n",
    "# Remove numbers\n",
    "removeNumbers(text)\n",
    "\n",
    "# Remove whitespace\n",
    "stripWhitespace(text)"
   ]
  },
  {
   "cell_type": "markdown",
   "metadata": {},
   "source": [
    "Cleaning with qdap\n",
    "100xp\n",
    "The qdap package offers other text cleaning functions. Each is useful in its own way and is particularly powerful when combined with the others.\n",
    "\n",
    "bracketX(): Remove all text within brackets (e.g. \"It's (so) cool\" becomes \"It's cool\")\n",
    "replace_number(): Replace numbers with their word equivalents (e.g. \"2\" becomes \"two\")\n",
    "replace_abbreviation(): Replace abbreviations with their full text equivalents (e.g. \"Sr\" becomes \"Senior\")\n",
    "replace_contraction(): Convert contractions back to their base words (e.g. \"shouldn't\" becomes \"should not\")\n",
    "replace_symbol() Replace common symbols with their word equivalents (e.g. \"$\" becomes \"dollar\")\n",
    "Instructions\n",
    "Apply the following functions to the text object from the previous exercise:\n",
    "\n",
    "bracketX()\n",
    "replace_number()\n",
    "replace_abbreviation()\n",
    "replace_contraction()\n",
    "replace_symbol()"
   ]
  },
  {
   "cell_type": "code",
   "execution_count": 6,
   "metadata": {
    "collapsed": false
   },
   "outputs": [
    {
     "data": {
      "text/html": [
       "'She woke up at 6 A.M. It\\'s so early! She was only 10% awake and began drinking coffee in front of her computer.'"
      ],
      "text/latex": [
       "'She woke up at 6 A.M. It\\textbackslash{}'s so early! She was only 10\\% awake and began drinking coffee in front of her computer.'"
      ],
      "text/markdown": [
       "'She woke up at 6 A.M. It\\'s so early! She was only 10% awake and began drinking coffee in front of her computer.'"
      ],
      "text/plain": [
       "[1] \"She woke up at 6 A.M. It's so early! She was only 10% awake and began drinking coffee in front of her computer.\""
      ]
     },
     "metadata": {},
     "output_type": "display_data"
    },
    {
     "data": {
      "text/html": [
       "'&lt;b&gt;She&lt;/b&gt; woke up at six A.M. It\\'s so early! She was only ten% awake and began drinking coffee in front of her computer.'"
      ],
      "text/latex": [
       "'<b>She</b> woke up at six A.M. It\\textbackslash{}'s so early! She was only ten\\% awake and began drinking coffee in front of her computer.'"
      ],
      "text/markdown": [
       "'&lt;b&gt;She&lt;/b&gt; woke up at six A.M. It\\'s so early! She was only ten% awake and began drinking coffee in front of her computer.'"
      ],
      "text/plain": [
       "[1] \"<b>She</b> woke up at six A.M. It's so early! She was only ten% awake and began drinking coffee in front of her computer.\""
      ]
     },
     "metadata": {},
     "output_type": "display_data"
    },
    {
     "data": {
      "text/html": [
       "'&lt;b&gt;She&lt;/b&gt; woke up at 6 AM It\\'s so early! She was only 10% awake and began drinking coffee in front of her computer.'"
      ],
      "text/latex": [
       "'<b>She</b> woke up at 6 AM It\\textbackslash{}'s so early! She was only 10\\% awake and began drinking coffee in front of her computer.'"
      ],
      "text/markdown": [
       "'&lt;b&gt;She&lt;/b&gt; woke up at 6 AM It\\'s so early! She was only 10% awake and began drinking coffee in front of her computer.'"
      ],
      "text/plain": [
       "[1] \"<b>She</b> woke up at 6 AM It's so early! She was only 10% awake and began drinking coffee in front of her computer.\""
      ]
     },
     "metadata": {},
     "output_type": "display_data"
    },
    {
     "data": {
      "text/html": [
       "'&lt;b&gt;She&lt;/b&gt; woke up at 6 A.M. it is so early! She was only 10% awake and began drinking coffee in front of her computer.'"
      ],
      "text/latex": [
       "'<b>She</b> woke up at 6 A.M. it is so early! She was only 10\\% awake and began drinking coffee in front of her computer.'"
      ],
      "text/markdown": [
       "'&lt;b&gt;She&lt;/b&gt; woke up at 6 A.M. it is so early! She was only 10% awake and began drinking coffee in front of her computer.'"
      ],
      "text/plain": [
       "[1] \"<b>She</b> woke up at 6 A.M. it is so early! She was only 10% awake and began drinking coffee in front of her computer.\""
      ]
     },
     "metadata": {},
     "output_type": "display_data"
    },
    {
     "data": {
      "text/html": [
       "'&lt;b&gt;She&lt;/b&gt; woke up at 6 A.M. It\\'s so early! She was only 10 percent awake and began drinking coffee in front of her computer.'"
      ],
      "text/latex": [
       "'<b>She</b> woke up at 6 A.M. It\\textbackslash{}'s so early! She was only 10 percent awake and began drinking coffee in front of her computer.'"
      ],
      "text/markdown": [
       "'&lt;b&gt;She&lt;/b&gt; woke up at 6 A.M. It\\'s so early! She was only 10 percent awake and began drinking coffee in front of her computer.'"
      ],
      "text/plain": [
       "[1] \"<b>She</b> woke up at 6 A.M. It's so early! She was only 10 percent awake and began drinking coffee in front of her computer.\""
      ]
     },
     "metadata": {},
     "output_type": "display_data"
    }
   ],
   "source": [
    "## text is still loaded in your workspace\n",
    "\n",
    "# Remove text within brackets\n",
    "bracketX(text)\n",
    "\n",
    "# Replace numbers with words\n",
    "replace_number(text)\n",
    "\n",
    "# Replace abbreviations\n",
    "replace_abbreviation(text)\n",
    "\n",
    "# Replace contractions\n",
    "replace_contraction(text)\n",
    "\n",
    "# Replace symbols with words\n",
    "replace_symbol(text)"
   ]
  },
  {
   "cell_type": "markdown",
   "metadata": {},
   "source": [
    "All about stop words\n",
    "100xp\n",
    "Often there are words that are frequent but provide little information. So you may want to remove these so-called stop words. Some common English stop words include \"I\", \"she'll\", \"the\", etc. In the tm package, there are 174 stop words on this common list.\n",
    "\n",
    "In fact, when you are doing an analysis you will likely need to add to this list. In our coffee tweet example, all tweets contain \"coffee\", so it's important to pull out that word in addition to the common stop words. Leaving it in doesn't add any insight and will cause it to be overemphasized in a frequency analysis.\n",
    "\n",
    "Using the c() function allows you to add new words (separated by commas) to the stop words list. For example, the following would add \"word1\" and \"word2\" to the default list of English stop words:\n",
    "\n",
    "all_stops <- c(\"word1\", \"word2\", stopwords(\"en\"))\n",
    "Once you have a list of stop words that makes sense, you will use the removeWords() function on your text. removeWords() takes two arguments: the text object to which it's being applied and the list of words to remove.\n",
    "\n",
    "Instructions\n",
    "Print out the standard stop words using stopwords(\"en\").\n",
    "Print out text with the standard stop words removed.\n",
    "Create new_stops consisting of the standard stop words plus \"coffee\" and \"bean\".\n",
    "Print out text with your customized stop words removed."
   ]
  },
  {
   "cell_type": "code",
   "execution_count": 7,
   "metadata": {
    "collapsed": false
   },
   "outputs": [
    {
     "name": "stdout",
     "output_type": "stream",
     "text": [
      "  [1] \"i\"          \"me\"         \"my\"         \"myself\"     \"we\"        \n",
      "  [6] \"our\"        \"ours\"       \"ourselves\"  \"you\"        \"your\"      \n",
      " [11] \"yours\"      \"yourself\"   \"yourselves\" \"he\"         \"him\"       \n",
      " [16] \"his\"        \"himself\"    \"she\"        \"her\"        \"hers\"      \n",
      " [21] \"herself\"    \"it\"         \"its\"        \"itself\"     \"they\"      \n",
      " [26] \"them\"       \"their\"      \"theirs\"     \"themselves\" \"what\"      \n",
      " [31] \"which\"      \"who\"        \"whom\"       \"this\"       \"that\"      \n",
      " [36] \"these\"      \"those\"      \"am\"         \"is\"         \"are\"       \n",
      " [41] \"was\"        \"were\"       \"be\"         \"been\"       \"being\"     \n",
      " [46] \"have\"       \"has\"        \"had\"        \"having\"     \"do\"        \n",
      " [51] \"does\"       \"did\"        \"doing\"      \"would\"      \"should\"    \n",
      " [56] \"could\"      \"ought\"      \"i'm\"        \"you're\"     \"he's\"      \n",
      " [61] \"she's\"      \"it's\"       \"we're\"      \"they're\"    \"i've\"      \n",
      " [66] \"you've\"     \"we've\"      \"they've\"    \"i'd\"        \"you'd\"     \n",
      " [71] \"he'd\"       \"she'd\"      \"we'd\"       \"they'd\"     \"i'll\"      \n",
      " [76] \"you'll\"     \"he'll\"      \"she'll\"     \"we'll\"      \"they'll\"   \n",
      " [81] \"isn't\"      \"aren't\"     \"wasn't\"     \"weren't\"    \"hasn't\"    \n",
      " [86] \"haven't\"    \"hadn't\"     \"doesn't\"    \"don't\"      \"didn't\"    \n",
      " [91] \"won't\"      \"wouldn't\"   \"shan't\"     \"shouldn't\"  \"can't\"     \n",
      " [96] \"cannot\"     \"couldn't\"   \"mustn't\"    \"let's\"      \"that's\"    \n",
      "[101] \"who's\"      \"what's\"     \"here's\"     \"there's\"    \"when's\"    \n",
      "[106] \"where's\"    \"why's\"      \"how's\"      \"a\"          \"an\"        \n",
      "[111] \"the\"        \"and\"        \"but\"        \"if\"         \"or\"        \n",
      "[116] \"because\"    \"as\"         \"until\"      \"while\"      \"of\"        \n",
      "[121] \"at\"         \"by\"         \"for\"        \"with\"       \"about\"     \n",
      "[126] \"against\"    \"between\"    \"into\"       \"through\"    \"during\"    \n",
      "[131] \"before\"     \"after\"      \"above\"      \"below\"      \"to\"        \n",
      "[136] \"from\"       \"up\"         \"down\"       \"in\"         \"out\"       \n",
      "[141] \"on\"         \"off\"        \"over\"       \"under\"      \"again\"     \n",
      "[146] \"further\"    \"then\"       \"once\"       \"here\"       \"there\"     \n",
      "[151] \"when\"       \"where\"      \"why\"        \"how\"        \"all\"       \n",
      "[156] \"any\"        \"both\"       \"each\"       \"few\"        \"more\"      \n",
      "[161] \"most\"       \"other\"      \"some\"       \"such\"       \"no\"        \n",
      "[166] \"nor\"        \"not\"        \"only\"       \"own\"        \"same\"      \n",
      "[171] \"so\"         \"than\"       \"too\"        \"very\"      \n"
     ]
    },
    {
     "data": {
      "text/html": [
       "<span style=white-space:pre-wrap>'&lt;b&gt;She&lt;/b&gt; woke         6 A.M. It\\'s  early!  She   10% awake  began drinking coffee  front   computer.'</span>"
      ],
      "text/latex": [
       "'<b>She</b> woke         6 A.M. It\\textbackslash{}'s  early!  She   10\\% awake  began drinking coffee  front   computer.'"
      ],
      "text/markdown": [
       "<span style=white-space:pre-wrap>'&lt;b&gt;She&lt;/b&gt; woke         6 A.M. It\\'s  early!  She   10% awake  began drinking coffee  front   computer.'</span>"
      ],
      "text/plain": [
       "[1] \"<b>She</b> woke         6 A.M. It's  early!  She   10% awake  began drinking coffee  front   computer.\""
      ]
     },
     "metadata": {},
     "output_type": "display_data"
    },
    {
     "data": {
      "text/html": [
       "<span style=white-space:pre-wrap>'&lt;b&gt;She&lt;/b&gt; woke         6 A.M. It\\'s  early!  She   10% awake  began drinking   front   computer.'</span>"
      ],
      "text/latex": [
       "'<b>She</b> woke         6 A.M. It\\textbackslash{}'s  early!  She   10\\% awake  began drinking   front   computer.'"
      ],
      "text/markdown": [
       "<span style=white-space:pre-wrap>'&lt;b&gt;She&lt;/b&gt; woke         6 A.M. It\\'s  early!  She   10% awake  began drinking   front   computer.'</span>"
      ],
      "text/plain": [
       "[1] \"<b>She</b> woke         6 A.M. It's  early!  She   10% awake  began drinking   front   computer.\""
      ]
     },
     "metadata": {},
     "output_type": "display_data"
    }
   ],
   "source": [
    "## text is preloaded into your workspace\n",
    "\n",
    "# List standard English stop words\n",
    "print(stopwords(\"en\"))\n",
    "\n",
    "# Print text without standard stop words\n",
    "removeWords(text, stopwords(\"en\"))\n",
    "\n",
    "# Add \"coffee\" and \"bean\" to the list: new_stops\n",
    "new_stops <- c(\"coffee\", \"bean\", stopwords(\"en\"))\n",
    "\n",
    "# Remove stop words from text\n",
    "removeWords(text, new_stops)"
   ]
  },
  {
   "cell_type": "markdown",
   "metadata": {},
   "source": [
    "### Intro to word stemming and stem completion\n",
    "\n",
    "Still another useful preprocessing step involves word stemming and stem completion. The tm package provides the stemDocument() function to get to a word's root. This function either takes in a character vector and returns a character vector, or takes in a PlainTextDocument and returns a PlainTextDocument.\n",
    "\n",
    "For example,\n",
    "\n",
    "stemDocument(c(\"computational\", \"computers\", \"computation\"))\n",
    "returns \"comput\" \"comput\" \"comput\". But because \"comput\" isn't a real word, we want to re-complete the words so that \"computational\", \"computers\", and \"computation\" all refer to the same word, say \"computer\", in our ongoing analysis.\n",
    "\n",
    "We can easily do this with the stemCompletion() function, which takes in a character vector and an argument for the completion dictionary. The completion dictionary can be a character vector or a Corpus object. Either way, the completion dictionary for our example would need to contain the word \"computer\" for all the words to refer to it.\n",
    "\n",
    "Instructions\n",
    "- Create a vector called complicate consisting of the words \"complicated\", \"complication\", and \"complicatedly\" in that order.\n",
    "- Store the stemmed version of complicate to an object called stem_doc.\n",
    "- Create comp_dict that contains one word, \"complicate\".\n",
    "- Create complete_text by applying stemCompletion() to stem_doc. Re-complete the words using comp_dict as the reference corpus.\n",
    "- Print complete_text to the console."
   ]
  },
  {
   "cell_type": "code",
   "execution_count": 36,
   "metadata": {
    "collapsed": false
   },
   "outputs": [
    {
     "name": "stdout",
     "output_type": "stream",
     "text": [
      "     complic      complic      complic \n",
      "\"complicate\" \"complicate\" \"complicate\" \n"
     ]
    }
   ],
   "source": [
    "# Create complicate\n",
    "complicate <- c(\"complicated\", \"complication\",\"complicatedly\" )\n",
    "\n",
    "# Perform word stemming: stem_doc\n",
    "stem_doc <- stemDocument(complicate)\n",
    "\n",
    "# Create the completion dictionary: comp_dict\n",
    "comp_dict <- \"complicate\"\n",
    "\n",
    "# Perform stem completion: complete_text \n",
    "complete_text <- stemCompletion(stem_doc, comp_dict)\n",
    "\n",
    "# Print complete_text\n",
    "print(complete_text)"
   ]
  },
  {
   "cell_type": "markdown",
   "metadata": {},
   "source": [
    "### Word stemming and stem completion on a sentence\n",
    "\n",
    "Let's consider the following sentence as our document for this exercise:\n",
    "\n",
    "\"In a complicated haste, Tom rushed to fix a new complication, too complicatedly.\"\n",
    "This sentence contains the same three forms of the word \"complicate\" that we saw in the previous exercise. The difference here is that even if you called stemDocument() on this sentence, it would return the sentence without stemming any words. Take a moment and try it out in the console. Be sure to include the punctuation marks.\n",
    "\n",
    "This happens because stemDocument() treats the whole sentence as one word. In other words, our document is a character vector of length 1, instead of length n, where n is the number of words in the document. To solve this problem, we first remove the punctation marks with the removePunctuation() function you learned a few exercises back. We then strsplit() this character vector of length 1 to length n, unlist(), then proceed to stem and re-complete.\n",
    "\n",
    "Don't worry if that was confusing. Let's go through the process step by step!\n",
    "\n",
    "Instructions\n",
    "The document text_data and the completion dictionary comp_dict are loaded in your workspace.\n",
    "\n",
    "- Remove the punctuation marks in text_data using removePunctuation() and store the result into rm_punc.\n",
    "- Call strsplit() on rm_punc with the split argument set equal to \" \". Nest this inside unlist() and store the result as n_char_vec.\n",
    "- Use stemDocument() again to perform word stemming on n_char_vec and store the result as stem_doc.\n",
    "- Print stem_doc on your console.\n",
    "- Create complete_doc by re-completing your stemmed document with stemCompletion() and using comp_dict as your reference corpus.\n",
    "- Print complete_doc to the console."
   ]
  },
  {
   "cell_type": "code",
   "execution_count": 37,
   "metadata": {
    "collapsed": true
   },
   "outputs": [],
   "source": [
    "text_data= \"In a complicated haste, Tom rushed to fix a new complication, too complicatedly.\"\n",
    "\n",
    "comp_dict=c(\"In\",         \"a\" ,         \"complicate\" ,\"haste\"  ,    \"Tom\",\"rush\",\"to\",\"fix\",\"new\",\"too\")"
   ]
  },
  {
   "cell_type": "code",
   "execution_count": 38,
   "metadata": {
    "collapsed": false
   },
   "outputs": [
    {
     "data": {
      "text/html": [
       "<ol class=list-inline>\n",
       "\t<li>'In'</li>\n",
       "\t<li>'a'</li>\n",
       "\t<li>'complic'</li>\n",
       "\t<li>'hast'</li>\n",
       "\t<li>'Tom'</li>\n",
       "\t<li>'rush'</li>\n",
       "\t<li>'to'</li>\n",
       "\t<li>'fix'</li>\n",
       "\t<li>'a'</li>\n",
       "\t<li>'new'</li>\n",
       "\t<li>'complic'</li>\n",
       "\t<li>'too'</li>\n",
       "\t<li>'complic'</li>\n",
       "</ol>\n"
      ],
      "text/latex": [
       "\\begin{enumerate*}\n",
       "\\item 'In'\n",
       "\\item 'a'\n",
       "\\item 'complic'\n",
       "\\item 'hast'\n",
       "\\item 'Tom'\n",
       "\\item 'rush'\n",
       "\\item 'to'\n",
       "\\item 'fix'\n",
       "\\item 'a'\n",
       "\\item 'new'\n",
       "\\item 'complic'\n",
       "\\item 'too'\n",
       "\\item 'complic'\n",
       "\\end{enumerate*}\n"
      ],
      "text/markdown": [
       "1. 'In'\n",
       "2. 'a'\n",
       "3. 'complic'\n",
       "4. 'hast'\n",
       "5. 'Tom'\n",
       "6. 'rush'\n",
       "7. 'to'\n",
       "8. 'fix'\n",
       "9. 'a'\n",
       "10. 'new'\n",
       "11. 'complic'\n",
       "12. 'too'\n",
       "13. 'complic'\n",
       "\n",
       "\n"
      ],
      "text/plain": [
       " [1] \"In\"      \"a\"       \"complic\" \"hast\"    \"Tom\"     \"rush\"    \"to\"     \n",
       " [8] \"fix\"     \"a\"       \"new\"     \"complic\" \"too\"     \"complic\""
      ]
     },
     "metadata": {},
     "output_type": "display_data"
    },
    {
     "name": "stdout",
     "output_type": "stream",
     "text": [
      "          In            a      complic         hast          Tom         rush \n",
      "        \"In\"          \"a\" \"complicate\"      \"haste\"        \"Tom\"       \"rush\" \n",
      "          to          fix            a          new      complic          too \n",
      "        \"to\"        \"fix\"          \"a\"        \"new\" \"complicate\"        \"too\" \n",
      "     complic \n",
      "\"complicate\" \n"
     ]
    }
   ],
   "source": [
    "# Remove punctuation: rm_punc\n",
    "rm_punc <- removePunctuation(text_data)\n",
    "\n",
    "# Create character vector: n_char_vec\n",
    "n_char_vec <- unlist(strsplit(rm_punc, split = ' '))\n",
    "\n",
    "# Perform word stemming: stem_doc\n",
    "stem_doc <- stemDocument(n_char_vec)\n",
    "\n",
    "# Print stem_doc\n",
    "stem_doc\n",
    "\n",
    "# Re-complete stemmed document: complete_doc\n",
    "complete_doc <- stemCompletion(stem_doc, comp_dict)\n",
    "\n",
    "# Print complete_doc\n",
    "print(complete_doc)"
   ]
  },
  {
   "cell_type": "markdown",
   "metadata": {},
   "source": [
    "### Apply preprocessing steps to a corpus\n",
    "100xp\n",
    "The tm package provides a special function tm_map() to apply cleaning functions to a corpus. Mapping these functions to an entire corpus makes scaling the cleaning steps very easy.\n",
    "\n",
    "To save time (and lines of code) it's a good idea to use a custom function like the one displayed in the editor, since you may be applying the same functions over multiple corpora. You can probably guess what the clean_corpus() function does. It takes one argument, corpus, and applies a series of cleaning functions to it in order, then returns the final result.\n",
    "\n",
    "Notice how the tm package functions do not need content_transformer(), but base R and qdap functions do.\n",
    "\n",
    "Be sure to test your function's results. If you want to draw out currency amounts, then removeNumbers() shouldn't be used! Plus, the order of cleaning steps makes a difference. For example, if you removeNumbers() and then replace_number(), the second function won't find anything to change! Check, check, and re-check!\n",
    "\n",
    "Instructions\n",
    "\n",
    "- Edit the custom function clean_corpus() in the sample code to apply (in order):\n",
    "    - tm's stripWhitespace()\n",
    "    - tm's removePunctuation()\n",
    "    - Base R's tolower()\n",
    "    - Add \"mug\" to the stop words list c(stopwords(\"en\"), \"coffee\")\n",
    "- Create clean_corp by applying clean_corpus() to the included corpus tweet_corp.\n",
    "- Print the cleaned 227th tweet in clean_corp using indexing [[227]][1].\n",
    "- Compare it to the original tweet from tweets$text tweet using [227]."
   ]
  },
  {
   "cell_type": "code",
   "execution_count": 3,
   "metadata": {
    "collapsed": true
   },
   "outputs": [],
   "source": [
    "#My Codes\n",
    "tweets <- read.csv(\"tweets.csv\")\n",
    "names(tweets) <- \"text\"\n",
    "tweet_corp <- VCorpus(VectorSource(tweets$text))"
   ]
  },
  {
   "cell_type": "code",
   "execution_count": 4,
   "metadata": {
    "collapsed": false
   },
   "outputs": [
    {
     "data": {
      "text/html": [
       "<table>\n",
       "<thead><tr><th scope=col>text</th></tr></thead>\n",
       "<tbody>\n",
       "\t<tr><td>@ayyytylerb that is so true drink lots of coffee                                                                                            </td></tr>\n",
       "\t<tr><td>RT @bryzy_brib: Senior March tmw morning at 7:25 A.M. in the SENIOR lot. Get up early, make yo coffee/breakfast, cus this will only happen ?</td></tr>\n",
       "\t<tr><td>If you believe in #gunsense tomorrow would be a very good day to have your coffee any place BUT @Starbucks Guns+Coffee=#nosense @MomsDemand </td></tr>\n",
       "\t<tr><td>My cute coffee mug. http://t.co/2udvMU6XIG                                                                                                  </td></tr>\n",
       "\t<tr><td>RT @slaredo21: I wish we had Starbucks here... Cause coffee dates in the morning sound perff!                                               </td></tr>\n",
       "\t<tr><td>Does anyone ever get a cup of coffee before a cocktail??                                                                                    </td></tr>\n",
       "</tbody>\n",
       "</table>\n"
      ],
      "text/latex": [
       "\\begin{tabular}{r|l}\n",
       " text\\\\\n",
       "\\hline\n",
       "\t @ayyytylerb that is so true drink lots of coffee                                                                                            \\\\\n",
       "\t RT @bryzy\\_brib: Senior March tmw morning at 7:25 A.M. in the SENIOR lot. Get up early, make yo coffee/breakfast, cus this will only happen ?\\\\\n",
       "\t If you believe in \\#gunsense tomorrow would be a very good day to have your coffee any place BUT @Starbucks Guns+Coffee=\\#nosense @MomsDemand \\\\\n",
       "\t My cute coffee mug. http://t.co/2udvMU6XIG                                                                                                  \\\\\n",
       "\t RT @slaredo21: I wish we had Starbucks here... Cause coffee dates in the morning sound perff!                                               \\\\\n",
       "\t Does anyone ever get a cup of coffee before a cocktail??                                                                                    \\\\\n",
       "\\end{tabular}\n"
      ],
      "text/markdown": [
       "\n",
       "text | \n",
       "|---|---|---|---|---|---|\n",
       "| @ayyytylerb that is so true drink lots of coffee                                                                                             | \n",
       "| RT @bryzy_brib: Senior March tmw morning at 7:25 A.M. in the SENIOR lot. Get up early, make yo coffee/breakfast, cus this will only happen ? | \n",
       "| If you believe in #gunsense tomorrow would be a very good day to have your coffee any place BUT @Starbucks Guns+Coffee=#nosense @MomsDemand  | \n",
       "| My cute coffee mug. http://t.co/2udvMU6XIG                                                                                                   | \n",
       "| RT @slaredo21: I wish we had Starbucks here... Cause coffee dates in the morning sound perff!                                                | \n",
       "| Does anyone ever get a cup of coffee before a cocktail??                                                                                     | \n",
       "\n",
       "\n"
      ],
      "text/plain": [
       "  text                                                                                                                                        \n",
       "1 @ayyytylerb that is so true drink lots of coffee                                                                                            \n",
       "2 RT @bryzy_brib: Senior March tmw morning at 7:25 A.M. in the SENIOR lot. Get up early, make yo coffee/breakfast, cus this will only happen ?\n",
       "3 If you believe in #gunsense tomorrow would be a very good day to have your coffee any place BUT @Starbucks Guns+Coffee=#nosense @MomsDemand \n",
       "4 My cute coffee mug. http://t.co/2udvMU6XIG                                                                                                  \n",
       "5 RT @slaredo21: I wish we had Starbucks here... Cause coffee dates in the morning sound perff!                                               \n",
       "6 Does anyone ever get a cup of coffee before a cocktail??                                                                                    "
      ]
     },
     "metadata": {},
     "output_type": "display_data"
    }
   ],
   "source": [
    "head(tweets)"
   ]
  },
  {
   "cell_type": "code",
   "execution_count": 55,
   "metadata": {
    "collapsed": false
   },
   "outputs": [
    {
     "name": "stdout",
     "output_type": "stream",
     "text": [
      "$content\n",
      "[1] \"also dogs arent smart enough  dip  donut      eat  part thats  dipped ladyandthetramp\"\n",
      "\n"
     ]
    },
    {
     "data": {
      "text/html": [
       "'Also, dogs aren\\'t smart enough to dip the donut in the coffee and then eat the part that's been dipped. #ladyandthetramp'"
      ],
      "text/latex": [
       "'Also, dogs aren\\textbackslash{}'t smart enough to dip the donut in the coffee and then eat the part that's been dipped. \\#ladyandthetramp'"
      ],
      "text/markdown": [
       "'Also, dogs aren\\'t smart enough to dip the donut in the coffee and then eat the part that's been dipped. #ladyandthetramp'"
      ],
      "text/plain": [
       "[1] \"Also, dogs aren't smart enough to dip the donut in the coffee and then eat the part that's been dipped. #ladyandthetramp\""
      ]
     },
     "metadata": {},
     "output_type": "display_data"
    }
   ],
   "source": [
    "# Alter the function code to match the instructions\n",
    "clean_corpus <- function(corpus){\n",
    "  corpus <- tm_map(corpus, content_transformer(replace_abbreviation))\n",
    "  corpus <- tm_map(corpus, removePunctuation)\n",
    "  corpus <- tm_map(corpus, removeNumbers)\n",
    "  corpus <- tm_map(corpus, removeWords, c(stopwords(\"en\"), \"coffee\", \"mug\"))\n",
    "  corpus <- tm_map(corpus, content_transformer(tolower))\n",
    "  return(corpus)\n",
    "}\n",
    "\n",
    "# Apply your customized function to the tweet_corp: clean_corp\n",
    "clean_corp <- clean_corpus(tweet_corp)\n",
    "\n",
    "# Print out a cleaned up tweet\n",
    "print(clean_corp[[227]][1])\n",
    "\n",
    "# Print out the same tweet in original form\n",
    "tweets$text[227]"
   ]
  },
  {
   "cell_type": "code",
   "execution_count": 56,
   "metadata": {
    "collapsed": false
   },
   "outputs": [
    {
     "name": "stdout",
     "output_type": "stream",
     "text": [
      "$content\n",
      "[1] \"my cute   httptcoudvmuxig\"\n",
      "\n"
     ]
    }
   ],
   "source": [
    "print(clean_corp[[4]][1]) #just for verifying"
   ]
  },
  {
   "cell_type": "markdown",
   "metadata": {},
   "source": [
    "## The TDM & DTM - Video"
   ]
  },
  {
   "cell_type": "markdown",
   "metadata": {
    "collapsed": true
   },
   "source": [
    "### Understanding TDM and DTM\n",
    "\n",
    "When should you use the term-document matrix instead of the document-term matrix?\n",
    "\n",
    "Possible Answers\n",
    "- When you have big data.\n",
    "- When you want the documents as rows and words as columns.\n",
    "- When you want the words as rows and documents as columns.(Correct)\n",
    "- When you need to store it on disk."
   ]
  },
  {
   "cell_type": "markdown",
   "metadata": {},
   "source": [
    "### Make a document-term matrix\n",
    "\n",
    "Hopefully you are not too tired after all this basic text mining work! Just in case, let's revisit the coffee tweets to build a document-term matrix.\n",
    "\n",
    "Beginning with the coffee.csv file, we have used common transformations to produce a clean corpus called clean_corp.\n",
    "\n",
    "The document-term matrix is used when you want to have each document represented as a row. This can be useful if you are comparing authors within rows, or the data is arranged chronologically and you want to preserve the time series.\n",
    "\n",
    "Instructions\n",
    "- Create coffee_dtm by applying DocumentTermMatrix() to clean_corp.\n",
    "- Print the information about the coffee_dtm object.\n",
    "- Create coffee_m, a matrix version of coffee_dtm, using the as.matrix() function.\n",
    "- Print the dimensions of coffee_m to the console using the dim() function. Note the number of rows and columns.\n",
    "- Look at documents 148 through 150 and terms 2587 through 2590 (i.e. [148:150, 2587:2590])."
   ]
  },
  {
   "cell_type": "code",
   "execution_count": 57,
   "metadata": {
    "collapsed": false
   },
   "outputs": [
    {
     "name": "stdout",
     "output_type": "stream",
     "text": [
      "<<DocumentTermMatrix (documents: 1000, terms: 3097)>>\n",
      "Non-/sparse entries: 7765/3089235\n",
      "Sparsity           : 100%\n",
      "Maximal term length: 27\n",
      "Weighting          : term frequency (tf)\n"
     ]
    },
    {
     "data": {
      "text/html": [
       "<ol class=list-inline>\n",
       "\t<li>1000</li>\n",
       "\t<li>3097</li>\n",
       "</ol>\n"
      ],
      "text/latex": [
       "\\begin{enumerate*}\n",
       "\\item 1000\n",
       "\\item 3097\n",
       "\\end{enumerate*}\n"
      ],
      "text/markdown": [
       "1. 1000\n",
       "2. 3097\n",
       "\n",
       "\n"
      ],
      "text/plain": [
       "[1] 1000 3097"
      ]
     },
     "metadata": {},
     "output_type": "display_data"
    },
    {
     "data": {
      "text/html": [
       "<table>\n",
       "<thead><tr><th></th><th scope=col>stand</th><th scope=col>star</th><th scope=col>starbucks</th><th scope=col>starbuckscard</th></tr></thead>\n",
       "<tbody>\n",
       "\t<tr><th scope=row>148</th><td>0</td><td>0</td><td>0</td><td>0</td></tr>\n",
       "\t<tr><th scope=row>149</th><td>0</td><td>0</td><td>0</td><td>0</td></tr>\n",
       "\t<tr><th scope=row>150</th><td>0</td><td>0</td><td>0</td><td>0</td></tr>\n",
       "</tbody>\n",
       "</table>\n"
      ],
      "text/latex": [
       "\\begin{tabular}{r|llll}\n",
       "  & stand & star & starbucks & starbuckscard\\\\\n",
       "\\hline\n",
       "\t148 & 0 & 0 & 0 & 0\\\\\n",
       "\t149 & 0 & 0 & 0 & 0\\\\\n",
       "\t150 & 0 & 0 & 0 & 0\\\\\n",
       "\\end{tabular}\n"
      ],
      "text/markdown": [
       "\n",
       "| <!--/--> | stand | star | starbucks | starbuckscard | \n",
       "|---|---|---|\n",
       "| 148 | 0 | 0 | 0 | 0 | \n",
       "| 149 | 0 | 0 | 0 | 0 | \n",
       "| 150 | 0 | 0 | 0 | 0 | \n",
       "\n",
       "\n"
      ],
      "text/plain": [
       "     Terms\n",
       "Docs  stand star starbucks starbuckscard\n",
       "  148 0     0    0         0            \n",
       "  149 0     0    0         0            \n",
       "  150 0     0    0         0            "
      ]
     },
     "metadata": {},
     "output_type": "display_data"
    }
   ],
   "source": [
    "# Create the dtm from the corpus: coffee_dtm\n",
    "coffee_dtm <- DocumentTermMatrix(clean_corp)\n",
    "\n",
    "# Print out coffee_dtm data\n",
    "print(coffee_dtm)\n",
    "\n",
    "# Convert coffee_dtm to a matrix: coffee_m\n",
    "coffee_m <- as.matrix(coffee_dtm)\n",
    "\n",
    "# Print the dimensions of coffee_m\n",
    "dim(coffee_m)\n",
    "\n",
    "# Review a portion of the matrix\n",
    "coffee_m[148:150, 2587:2590]"
   ]
  },
  {
   "cell_type": "markdown",
   "metadata": {},
   "source": [
    "### Make a term-document matrix\n",
    "\n",
    "You're almost done with the not-so-exciting foundational work before we get to some fun visualizations and analyses based on the concepts you've learned so far!\n",
    "\n",
    "In this exercise, you are performing a similar process but taking the transpose of the document-term matrix. In this case, the term-document matrix has terms in the first column and documents across the top as individual column names.\n",
    "\n",
    "The TDM is often the matrix used for language analysis. This is because you likely have more terms than authors or documents and life is generally easier when you have more rows than columns. An easy way to start analyzing the information is to change the matrix into a simple matrix using as.matrix() on the TDM.\n",
    "\n",
    "Instructions\n",
    "- Create coffee_tdm by applying TermDocumentMatrix() to clean_corp.\n",
    "- Print out information about the coffee_tdm object.\n",
    "- Create coffee_m by converting coffee_tdm to a matrix using as.matrix().\n",
    "- Print the dimensions of coffee_m to the console. Note the number of rows then columns.\n",
    "- Look at terms 2587 through 2590 and documents 148 through 150 (i.e. [2587:2590, 148:150])."
   ]
  },
  {
   "cell_type": "code",
   "execution_count": 44,
   "metadata": {
    "collapsed": false
   },
   "outputs": [
    {
     "name": "stdout",
     "output_type": "stream",
     "text": [
      "<<TermDocumentMatrix (terms: 3098, documents: 1000)>>\n",
      "Non-/sparse entries: 7772/3090228\n",
      "Sparsity           : 100%\n",
      "Maximal term length: 27\n",
      "Weighting          : term frequency (tf)\n"
     ]
    },
    {
     "data": {
      "text/html": [
       "<ol class=list-inline>\n",
       "\t<li>3098</li>\n",
       "\t<li>1000</li>\n",
       "</ol>\n"
      ],
      "text/latex": [
       "\\begin{enumerate*}\n",
       "\\item 3098\n",
       "\\item 1000\n",
       "\\end{enumerate*}\n"
      ],
      "text/markdown": [
       "1. 3098\n",
       "2. 1000\n",
       "\n",
       "\n"
      ],
      "text/plain": [
       "[1] 3098 1000"
      ]
     },
     "metadata": {},
     "output_type": "display_data"
    },
    {
     "data": {
      "text/html": [
       "<table>\n",
       "<thead><tr><th></th><th scope=col>148</th><th scope=col>149</th><th scope=col>150</th></tr></thead>\n",
       "<tbody>\n",
       "\t<tr><th scope=row>stampedeblue</th><td>0</td><td>0</td><td>0</td></tr>\n",
       "\t<tr><th scope=row>stand</th><td>0</td><td>0</td><td>0</td></tr>\n",
       "\t<tr><th scope=row>star</th><td>0</td><td>0</td><td>0</td></tr>\n",
       "\t<tr><th scope=row>starbucks</th><td>0</td><td>0</td><td>0</td></tr>\n",
       "</tbody>\n",
       "</table>\n"
      ],
      "text/latex": [
       "\\begin{tabular}{r|lll}\n",
       "  & 148 & 149 & 150\\\\\n",
       "\\hline\n",
       "\tstampedeblue & 0 & 0 & 0\\\\\n",
       "\tstand & 0 & 0 & 0\\\\\n",
       "\tstar & 0 & 0 & 0\\\\\n",
       "\tstarbucks & 0 & 0 & 0\\\\\n",
       "\\end{tabular}\n"
      ],
      "text/markdown": [
       "\n",
       "| <!--/--> | 148 | 149 | 150 | \n",
       "|---|---|---|---|\n",
       "| stampedeblue | 0 | 0 | 0 | \n",
       "| stand | 0 | 0 | 0 | \n",
       "| star | 0 | 0 | 0 | \n",
       "| starbucks | 0 | 0 | 0 | \n",
       "\n",
       "\n"
      ],
      "text/plain": [
       "              Docs\n",
       "Terms          148 149 150\n",
       "  stampedeblue 0   0   0  \n",
       "  stand        0   0   0  \n",
       "  star         0   0   0  \n",
       "  starbucks    0   0   0  "
      ]
     },
     "metadata": {},
     "output_type": "display_data"
    }
   ],
   "source": [
    "# Create a TDM from clean_corp: coffee_tdm\n",
    "coffee_tdm <- TermDocumentMatrix(clean_corp)\n",
    "\n",
    "# Print coffee_tdm data\n",
    "print(coffee_tdm)\n",
    "\n",
    "# Convert coffee_tdm to a matrix: coffee_m\n",
    "coffee_m <- as.matrix(coffee_tdm)\n",
    "\n",
    "# Print the dimensions of the matrix\n",
    "dim(coffee_m)\n",
    "\n",
    "# Review a portion of the matrix\n",
    "coffee_m[2587:2590, 148:150]"
   ]
  },
  {
   "cell_type": "markdown",
   "metadata": {},
   "source": [
    "Did you notice that the number of rows and columns for the TDM is just the number of columns and rows of the DTM?"
   ]
  },
  {
   "cell_type": "markdown",
   "metadata": {},
   "source": [
    "# 2. Word clouds and more interesting visuals"
   ]
  },
  {
   "cell_type": "markdown",
   "metadata": {
    "collapsed": true
   },
   "source": [
    "Test your understanding of text mining\n",
    "50xp\n",
    "What is a sound business reason to create a text mining visual like a word cloud?\n",
    "\n",
    "Possible Answers\n",
    "Words clouds help decision makers come to quick conclusions. (Correct)\n",
    "Visuals can be manipulated so you can lead your audience.\n",
    "Visuals are pretty and people like colorful things.\n",
    "Millions of words can be put into a word cloud so its faster."
   ]
  },
  {
   "cell_type": "markdown",
   "metadata": {},
   "source": [
    "## Frequent terms with tm\n",
    "\n",
    "Now that you know how to make a term-document matrix, as well as its transpose, the document-term matrix, we will use it as the basis for some analysis. In order to analyze it we need to change it to a simple matrix like we did in chapter 1 using as.matrix.\n",
    "\n",
    "Calling rowSums() on your newly made matrix aggregates all the terms used in a passage. Once you have the rowSums(), you can sort() them with decreasing = TRUE, so you can focus on the most common terms.\n",
    "\n",
    "Lastly, you can make a barplot() of the top 5 terms of term_frequency with the following code.\n",
    "\n",
    "barplot(term_frequency[1:5], col = \"#C0DE25\")\n",
    "Of course, you could take our ggplot2 course to learn how to customize the plot even more... :)\n",
    "\n",
    "Instructions\n",
    "Create coffee_m as a matrix using the term-document matrix coffee_tdm from the last chapter.\n",
    "Create term_frequency using the rowSums() function on coffee_m.\n",
    "Sort term_frequency in descending order and store the result in term_frequency.\n",
    "Use subsetting to print out the top 10 terms from term_frequency.\n",
    "Make a barplot of the top 10 terms with col = \"tan\" and las = 2 (for vertical x-axis labels)."
   ]
  },
  {
   "cell_type": "code",
   "execution_count": 54,
   "metadata": {
    "collapsed": false
   },
   "outputs": [
    {
     "data": {
      "text/html": [
       "<dl class=dl-horizontal>\n",
       "\t<dt>coffee</dt>\n",
       "\t\t<dd>191</dd>\n",
       "\t<dt>like</dt>\n",
       "\t\t<dd>111</dd>\n",
       "\t<dt>cup</dt>\n",
       "\t\t<dd>103</dd>\n",
       "\t<dt>shop</dt>\n",
       "\t\t<dd>69</dd>\n",
       "\t<dt>just</dt>\n",
       "\t\t<dd>67</dd>\n",
       "\t<dt>get</dt>\n",
       "\t\t<dd>62</dd>\n",
       "\t<dt>morning</dt>\n",
       "\t\t<dd>57</dd>\n",
       "\t<dt>want</dt>\n",
       "\t\t<dd>49</dd>\n",
       "\t<dt>drinking</dt>\n",
       "\t\t<dd>47</dd>\n",
       "\t<dt>can</dt>\n",
       "\t\t<dd>45</dd>\n",
       "</dl>\n"
      ],
      "text/latex": [
       "\\begin{description*}\n",
       "\\item[coffee] 191\n",
       "\\item[like] 111\n",
       "\\item[cup] 103\n",
       "\\item[shop] 69\n",
       "\\item[just] 67\n",
       "\\item[get] 62\n",
       "\\item[morning] 57\n",
       "\\item[want] 49\n",
       "\\item[drinking] 47\n",
       "\\item[can] 45\n",
       "\\end{description*}\n"
      ],
      "text/markdown": [
       "coffee\n",
       ":   191like\n",
       ":   111cup\n",
       ":   103shop\n",
       ":   69just\n",
       ":   67get\n",
       ":   62morning\n",
       ":   57want\n",
       ":   49drinking\n",
       ":   47can\n",
       ":   45\n",
       "\n"
      ],
      "text/plain": [
       "  coffee     like      cup     shop     just      get  morning     want \n",
       "     191      111      103       69       67       62       57       49 \n",
       "drinking      can \n",
       "      47       45 "
      ]
     },
     "metadata": {},
     "output_type": "display_data"
    },
    {
     "data": {
      "image/png": "[encoded data removed]",
      "text/plain": [
       "plot without title"
      ]
     },
     "metadata": {},
     "output_type": "display_data"
    }
   ],
   "source": [
    "## coffee_tdm is still loaded in your workspace\n",
    "\n",
    "# Create a matrix: coffee_m\n",
    "coffee_m <- as.matrix(coffee_tdm)\n",
    "\n",
    "# Calculate the rowSums: term_frequency\n",
    "term_frequency <- rowSums(coffee_m)\n",
    "\n",
    "# Sort term_frequency in descending order\n",
    "term_frequency <- sort(term_frequency, decreasing = TRUE)\n",
    "\n",
    "# View the top 10 most common words\n",
    "term_frequency[1:10]\n",
    "\n",
    "# Plot a barchart of the 10 most common words\n",
    "barplot(term_frequency[1:10], col=\"tan\",las=2)"
   ]
  },
  {
   "cell_type": "markdown",
   "metadata": {},
   "source": [
    "Frequent terms with qdap\n",
    "100xp\n",
    "If you are OK giving up some control over the exact preproccessing steps, then a fast way to get frequent terms is with freq_terms() from qdap.\n",
    "\n",
    "The function accepts a text variable, which in our case is the tweets$text vector. You can specify the top number of terms to show with the top argument, a vector of stop words to remove with the stopwords argument, and the minimum character length of a word to be included with the at.least argument. qdap has its own list of stop words that differ from those in tm. Our exercise will show you how to use either and compare their results.\n",
    "\n",
    "Making a basic plot of the results is easy. Just call plot() on the freq_terms() object.\n",
    "\n",
    "Instructions\n",
    "Create frequency using the freq_terms() function on tweets$text. Include arguments to accomplish the following:\n",
    "Limit to the top 10 terms\n",
    "At least 3 letters per term\n",
    "Use \"Top200Words\" to define stop words\n",
    "Produce a plot() of the frequency object. Compare it to the plot you produced in the previous exercise.\n",
    "Create frequency2 using the freq_terms() function on tweets$text. Include the following arguments:\n",
    "Limit to the top 10 terms\n",
    "At least 3 letters per term\n",
    "Use tm::stopwords(\"english\") to define stop words\n",
    "Produce a plot() of frequency2. Compare it to the plot of frequency. Do certain words change based on the stop words criterion?"
   ]
  },
  {
   "cell_type": "code",
   "execution_count": 10,
   "metadata": {
    "collapsed": false
   },
   "outputs": [
    {
     "data": {
      "image/png": "[encoded data removed]",
      "text/plain": [
       "plot without title"
      ]
     },
     "metadata": {},
     "output_type": "display_data"
    },
    {
     "data": {
      "image/png": "[encoded data removed]",
      "text/plain": [
       "plot without title"
      ]
     },
     "metadata": {},
     "output_type": "display_data"
    }
   ],
   "source": [
    "# Create frequency\n",
    "frequency <- freq_terms(tweets$text,top = 10,at.least = 3,stopwords = \"Top200Words\")\n",
    "\n",
    "# Make a frequency barchart\n",
    "plot(frequency)\n",
    "\n",
    "# Create frequency2\n",
    "frequency2 <- freq_terms(tweets$text,top = 10,at.least = 3,stopwords = tm::stopwords(\"english\"))\n",
    "\n",
    "# Make a frequency2 barchart\n",
    "plot(frequency2)"
   ]
  },
  {
   "cell_type": "markdown",
   "metadata": {},
   "source": [
    "Be sure to toggle between the two plots on the right to examine the differences."
   ]
  },
  {
   "cell_type": "markdown",
   "metadata": {},
   "source": [
    "## Intro to word clouds - Video"
   ]
  },
  {
   "cell_type": "code",
   "execution_count": 11,
   "metadata": {
    "collapsed": true
   },
   "outputs": [],
   "source": [
    "library(wordcloud)"
   ]
  },
  {
   "cell_type": "code",
   "execution_count": 12,
   "metadata": {
    "collapsed": false
   },
   "outputs": [
    {
     "name": "stdout",
     "output_type": "stream",
     "text": [
      "  coffee     like      cup     shop     just      get  morning     want \n",
      "     191      111      103       69       67       62       57       49 \n",
      "drinking      can \n",
      "      47       45 \n"
     ]
    },
    {
     "data": {
      "image/png": "[encoded data removed]",
      "text/plain": [
       "plot without title"
      ]
     },
     "metadata": {},
     "output_type": "display_data"
    }
   ],
   "source": [
    "## term_frequency is loaded into your workspace\n",
    "\n",
    "# Load wordcloud package\n",
    "library(wordcloud)\n",
    "\n",
    "# Print the first 10 entries in term_frequency\n",
    "print(term_frequency[1:10])\n",
    "\n",
    "# Create word_freqs\n",
    "word_freqs <- data.frame(term=names(term_frequency), num=term_frequency)\n",
    "\n",
    "# Create a wordcloud for the values in word_freqs\n",
    "wordcloud(word_freqs$term,word_freqs$num, max.words=100, colors=\"red\")"
   ]
  },
  {
   "cell_type": "code",
   "execution_count": null,
   "metadata": {
    "collapsed": true
   },
   "outputs": [],
   "source": [
    "Great job! But whoa, chardonnay looks huge!"
   ]
  },
  {
   "cell_type": "markdown",
   "metadata": {},
   "source": [
    "Stop words and word clouds\n",
    "100xp\n",
    "Now that you are in the text mining mindset, sitting down for a nice glass of chardonnay, we need to dig deeper. In the last word cloud, \"chardonnay\" dominated the visual. It was so dominant that you couldn't draw out any other interesting insights.\n",
    "\n",
    "Let's change the stop words to include \"chardonnay\" to see what other words are common, yet were originally drowned out.\n",
    "\n",
    "The previous word cloud used the clean_corpus() function below:\n",
    "\n",
    "clean_corpus <- function(corpus){\n",
    "  corpus <- tm_map(corpus, removePunctuation)\n",
    "  corpus <- tm_map(corpus, stripWhitespace)\n",
    "  corpus <- tm_map(corpus, removeNumbers)\n",
    "  corpus <- tm_map(corpus, content_transformer(tolower))\n",
    "  corpus <- tm_map(corpus, removeWords, c(stopwords(\"en\"), \"amp\"))\n",
    "  return(corpus)\n",
    "}\n",
    "Instructions\n",
    "Edit the clean_corpus() function in the sample code by adding \"chardonnay\", \"wine\", and \"glass\" to the existing stop words.\n",
    "Create clean_chardonnay by applying your newly edited function to chardonnay_corp, which is already loaded in your workspace.\n",
    "Create chardonnay_tdm, a term-document matrix of clean_chardonnay.\n",
    "Create chardonnay_m by converting chardonnay_tdm into a matrix.\n",
    "Create a vector of terms chardonnay_words by taking the row sums of chardonnay_m"
   ]
  },
  {
   "cell_type": "code",
   "execution_count": null,
   "metadata": {
    "collapsed": true
   },
   "outputs": [],
   "source": [
    "# Add new stop words to clean_corpus()\n",
    "clean_corpus <- function(corpus){\n",
    "  corpus <- tm_map(corpus, removePunctuation)\n",
    "  corpus <- tm_map(corpus, stripWhitespace)\n",
    "  corpus <- tm_map(corpus, removeNumbers)\n",
    "  corpus <- tm_map(corpus, content_transformer(tolower))\n",
    "  corpus <- tm_map(corpus, removeWords, \n",
    "                   c(stopwords(\"en\"), \"amp\", \"chardonnay\", \"wine\", \"glass\"))\n",
    "  return(corpus)\n",
    "}\n",
    "\n",
    "# Create clean_chardonnay\n",
    "clean_chardonnay <- clean_corpus(chardonnay_corp)\n",
    "\n",
    "# Create chardonnay_tdm\n",
    "chardonnay_tdm <- TermDocumentMatrix(clean_chardonnay)\n",
    "\n",
    "# Create chardonnay_m\n",
    "chardonnay_m <- as.matrix(chardonnay_tdm)\n",
    "\n",
    "# Create chardonnay_words\n",
    "chardonnay_words <- rowSums(chardonnay_m)"
   ]
  },
  {
   "cell_type": "markdown",
   "metadata": {},
   "source": [
    "Plot the better word cloud\n",
    "100xp\n",
    "Now that you've added new stop words to the clean_corpus() function, let's take a look at the improved word cloud!\n",
    "\n",
    "Your results from the previous exercise are preloaded into your workspace. Let's take a look at these new results.\n",
    "\n",
    "Instructions\n",
    "We've loaded the wordcloud package for you behind the scenes and will do so for all additional exercises requiring it.\n",
    "\n",
    "- Sort the values in chardonnay_words with decreasing = TRUE.\n",
    "- Look at the top 6 words in chardonnay_words and their values.\n",
    "- Create chardonnay_freqs, a data frame with two columns:\n",
    "    - term = names(chardonnay_words)\n",
    "    - num = chardonnay_words\n",
    "- Create a wordcloud() using chardonnay_freqs$term as the words, and chardonnay_freqs$num as the frequencies. Add the parameters max.words = 50 and colors = \"red\". Review what other words pop out now that \"chardonnay\" is removed."
   ]
  },
  {
   "cell_type": "code",
   "execution_count": null,
   "metadata": {
    "collapsed": true
   },
   "outputs": [],
   "source": [
    "# Sort the chardonnay_words in descending order\n",
    "chardonnay_words <- sort(chardonnay_words, decreasing=TRUE)\n",
    "\n",
    "# Print the 6 most frequent chardonnay terms\n",
    "chardonnay_words[1:6]\n",
    "\n",
    "# Create chardonnay_freqs\n",
    "chardonnay_freqs <- data.frame(term = names(chardonnay_words), num = chardonnay_words)\n",
    "\n",
    "# Create a wordcloud for the values in word_freqs\n",
    "wordcloud(chardonnay_freqs$term, chardonnay_freqs$num, max.words=50, colors=\"red\")"
   ]
  },
  {
   "cell_type": "markdown",
   "metadata": {},
   "source": [
    "Improve word cloud colors\n",
    "100xp\n",
    "So far, you have specified only a single hexidecimal color to make your word clouds. You can easily improve the appearance of a word cloud. Instead of the #AD1DA5 in the code below, you can specify a vector of colors to make certain words stand out or to fit an existing color scheme.\n",
    "\n",
    "wordcloud(chardonnay_freqs$term, \n",
    "          chardonnay_freqs$num, \n",
    "          max.words = 100, \n",
    "          colors = \"#AD1DA5\")\n",
    "To change the colors argument of the wordcloud() function, you can use a vector of named colors like c(\"chartreuse\", \"cornflowerblue\", \"darkorange\"). The function colors() will list all 657 named colors. You can also use this PDF as a reference.\n",
    "\n",
    "Instructions\n",
    "Call thecolors() function to list all basic colors.\n",
    "Create a wordcloud() using the predefined chardonnay_freqs with the colors \"grey80\", \"darkgoldenrod1\", and \"tomato\". Include the top 100 terms using max.words."
   ]
  },
  {
   "cell_type": "code",
   "execution_count": null,
   "metadata": {
    "collapsed": true
   },
   "outputs": [],
   "source": [
    "# Print the list of colors\n",
    "colors()\n",
    "\n",
    "# Print the wordcloud with the specified colors\n",
    "wordcloud(chardonnay_freqs$term, chardonnay_freqs$num, max.words=100, colors=c(\"grey80\", \"darkgoldenrod1\", \"tomato\"))"
   ]
  },
  {
   "cell_type": "markdown",
   "metadata": {},
   "source": [
    "Use prebuilt color palettes\n",
    "100xp\n",
    "In celebration of your text mining skills, you may have had too many glasses of chardonnay while listening to Marvin Gaye. If that's the case and you find yourself unable to pick good looking colors on your own, you can use the RColorBrewer package to help. RColorBrewer color schemes are organized into three categories:\n",
    "\n",
    "Sequential: Colors ascend from light to dark in sequence\n",
    "Qualitative: Colors are chosen for their pleasing qualities together\n",
    "Diverging: Colors have two distinct color spectra with lighter colors in between\n",
    "To change the colors parameter of the wordcloud() function you can use a select a palette from RColorBrewer such as \"Greens\". The function display.brewer.all() will list all predefined color palettes. More information on ColorBrewer (the framework behind RColorBrewer) is available on its [website](http://www.colorbrewer.org/).\n",
    "\n",
    "The function brewer.pal() allows you to select colors from a palette. Specify the number of distinct colors needed (e.g. 8) and the predefined palette to select from (e.g. \"Greens\"). Often in word clouds, very faint colors are washed out so it may make sense to remove the first couple from a brewer.pal() selection, leaving only the darkest.\n",
    "\n",
    "Here's an example:\n",
    "\n",
    "green_pal <- brewer.pal(8, \"Greens\")\n",
    "green_pal <- green_pal[-(1:2)]\n",
    "Then just add that object to the wordcloud() function.\n",
    "\n",
    "wordcloud(chardonnay_freqs$term, chardonnay_freqs$num, max.words = 100, colors = green_pal)\n",
    "Instructions\n",
    "Call thedisplay.brewer.all() function to list all available palettes.\n",
    "Create purple_orange selecting the first 10 colors from the PuOr palette.\n",
    "Drop the first 2 colors from purple_orange.\n",
    "Create a wordcloud for chardonnay_freqs using the purple_orange palette. Include the top 100 terms using max.words."
   ]
  },
  {
   "cell_type": "code",
   "execution_count": null,
   "metadata": {
    "collapsed": true
   },
   "outputs": [],
   "source": [
    "# List the available colors\n",
    "display.brewer.all()\n",
    "\n",
    "# Create purple_orange\n",
    "purple_orange<- brewer.pal(10, \"PuOr\")\n",
    "\n",
    "# Drop 2 faintest colors\n",
    "purple_orange <- purple_orange[-(1:2)]\n",
    "\n",
    "# Create a wordcloud with purple_orange palette\n",
    "wordcloud(chardonnay_freqs$term, chardonnay_freqs$num, max.words = 100, colors = purple_orange)"
   ]
  },
  {
   "cell_type": "markdown",
   "metadata": {},
   "source": [
    "Find common words\n",
    "\n",
    "Say you want to visualize common words across multiple documents. You can do this with commonality.cloud().\n",
    "\n",
    "Each of our coffee and chardonnay corpora is composed of many individual tweets. To treat the coffee tweets as a single document and likewise for chardonnay, you paste() together all the tweets in each corpus along with the parameter collapse = \" \". This collapses all tweets (separated by a space) into a single vector. Then you can create a vector containing the two collapsed documents.\n",
    "\n",
    "all_coffee <- paste(coffee$tweets, collapse = \" \")\n",
    "all_chardonnay <- paste(chardonnay$tweets, collapse = \" \")\n",
    "all_tweets <- c(all_coffee, all_chardonnay)\n",
    "Once you're done with these steps, you can take the same approach you've seen before to create a VCorpus() based on a VectorSource from the all_tweets object.\n",
    "\n",
    "Instructions\n",
    "- Create all_coffee by using paste() with collapse = \" \" on coffee_tweets$text.\n",
    "- Create all_chardonnay by using paste() with collapse = \" \" on chardonnay_tweets$text.\n",
    "- Create all_tweets using c() to combine all_coffee and all_chardonnay. Make all_coffee the first term.\n",
    "- Convert all_tweets to a VectorSource().\n",
    "- Create all_corpus by using VCorpus() on all_tweets."
   ]
  },
  {
   "cell_type": "code",
   "execution_count": null,
   "metadata": {
    "collapsed": true
   },
   "outputs": [],
   "source": [
    "# Create all_coffee\n",
    "all_coffee <- paste(coffee_tweets$text, collapse=\" \")\n",
    "\n",
    "# Create all_chardonnay\n",
    "all_chardonnay <- paste(chardonnay_tweets$text, collapse=\" \")\n",
    "\n",
    "# Create all_tweets\n",
    "all_tweets <- c(all_coffee, all_chardonnay)\n",
    "\n",
    "# Convert to a vector source\n",
    "all_tweets <- VectorSource(all_tweets)\n",
    "\n",
    "# Create all_corpus\n",
    "all_corpus <- VCorpus(all_tweets)"
   ]
  },
  {
   "cell_type": "markdown",
   "metadata": {},
   "source": [
    "## Visualize common words\n",
    "\n",
    "Now that you have a corpus filled with words used in both the chardonnay and coffee tweets files, you can clean the corpus, convert it into a TermDocumentMatrix, and then a matrix to prepare it for a commonality.cloud()\n",
    "\n",
    "The commonality.cloud() function accepts this matrix object, plus additional arguments like max.words and colors to further customize the plot.\n",
    "\n",
    "commonality.cloud(tdm_matrix, max.words = 100, colors = \"springgreen\")\n",
    "Instructions\n",
    "Create all_clean by applying the predefined clean_corpus() function to all_corpus.\n",
    "Create all_tdm, a TermDocumentMatrix from all_clean.\n",
    "Create all_m by converting all_tdm to a matrix object.\n",
    "Create a commonality.cloud() from all_m with colors = \"steelblue1\" and max.words = 100."
   ]
  },
  {
   "cell_type": "code",
   "execution_count": null,
   "metadata": {
    "collapsed": true
   },
   "outputs": [],
   "source": [
    "# Clean the corpus\n",
    "all_clean <- clean_corpus(all_corpus)\n",
    "\n",
    "# Create all_tdm\n",
    "all_tdm <- TermDocumentMatrix(all_clean)\n",
    "\n",
    "# Create all_m\n",
    "all_m <- as.matrix(all_tdm)\n",
    "\n",
    "# Print a commonality cloud\n",
    "commonality.cloud(all_m, max.words = 100, colors = \"steelblue1\")"
   ]
  },
  {
   "cell_type": "markdown",
   "metadata": {},
   "source": [
    "Visualize dissimilar words\n",
    "100xp\n",
    "Say you want to visualize the words not in common. To do this, you can also use comparison.cloud() and the steps are quite similar with one main difference.\n",
    "\n",
    "Like when you were searching for words in common, you start by unifying the tweets into distinct corpora and combining them into their own VCorpus() object. Next apply a clean_corpus() function and organize it into a TermDocumentMatrix.\n",
    "\n",
    "To keep track of what words belong to coffee versus chardonnay, you can set the column names of the TDM like this:\n",
    "\n",
    "colnames(all_tdm) <- c(\"chardonnay\", \"coffee\")\n",
    "Lastly, convert the object to a matrix using as.matrix() for use in comparison.cloud(). For every distinct corpora passed to the comparison.cloud() you can specify a color as in colors = c(\"red\", \"yellow\", \"green\") to make the sections distinguishable.\n",
    "\n",
    "Instructions\n",
    "all_corpus is preloaded in your workspace.\n",
    "\n",
    "Create all_clean by applying the predefined clean_corpus function to all_corpus.\n",
    "Create all_tdm, a TermDocumentMatrix from all_clean.\n",
    "Use colnames() to rename each distinct corpora within all_tdm. Name the first column \"coffee\" and the second column \"chardonnay\".\n",
    "Create all_m by converting all_tdm into matrix form.\n",
    "Create a comparison.cloud() using all_m, with colors = c(\"orange\", \"blue\") and max.words = 50."
   ]
  },
  {
   "cell_type": "code",
   "execution_count": null,
   "metadata": {
    "collapsed": true
   },
   "outputs": [],
   "source": [
    "# Clean the corpus\n",
    "all_clean <- clean_corpus(all_corpus)\n",
    "\n",
    "# Create all_tdm\n",
    "all_tdm <- TermDocumentMatrix(all_clean)\n",
    "\n",
    "# Give the columns distinct names\n",
    "colnames(all_tdm) <- c(\"coffee\", \"chardonnay\")\n",
    "\n",
    "# Create all_m\n",
    "all_m <- as.matrix(all_tdm)\n",
    "\n",
    "# Create comparison cloud\n",
    "comparison.cloud(all_m, colors = c(\"orange\", \"blue\"), max.words = 50)"
   ]
  },
  {
   "cell_type": "markdown",
   "metadata": {},
   "source": [
    "Polarized tag cloud\n",
    "100xp\n",
    "A commonality.cloud() may be misleading since words could be represented disproportionately in one corpus or the other, even if they are shared. In the commonality cloud, they would show up without telling you which one of the corpora has more term occurrences. To solve this problem, we can create a pyramid.plot() from the plotrix package.\n",
    "\n",
    "Building on what you already know, we have created a simple matrix from the coffee and chardonnay tweets using all_tdm_m <- as.matrix(all_tdm). Recall that this matrix contains two columns: one for term frequency in the chardonnay corpus, and another for term frequency in the coffee corpus. So we can use the subset() function in the following way to get terms that appear one or more times in both corpora:\n",
    "\n",
    "same_words <- subset(all_tdm_m, all_tdm_m[, 1] > 0 & all_tdm_m[, 2] > 0)\n",
    "Once you have the terms that are common to both corpora, you can create a new column in same_words that contains the absolute difference between how often each term is used in each corpus.\n",
    "\n",
    "To identify the words that differ the most between documents, we must order() the rows of same_words by the absolute difference column with decreasing = TRUE like this:\n",
    "\n",
    "same_words <- same_words[order(same_words[, 3], decreasing = TRUE), ]\n",
    "Now that same_words is ordered by the absolute difference, let's create a small data.frame() of the 20 top terms so we can pass that along to pyramid.plot():\n",
    "\n",
    "top_words <- data.frame(\n",
    "  x = same_words[1:20, 1],\n",
    "  y = same_words[1:20, 2],\n",
    "  labels = rownames(same_words[1:20, ])\n",
    ")\n",
    "Note that top_words contains columns x and y for the frequency of the top words for each of the documents, and a third column, labels, that contains the words themselves.\n",
    "\n",
    "Finally, you can create your pyramid.plot() and get a better feel for how the word usages differ by topic!\n",
    "\n",
    "pyramid.plot(top_words$x, top_words$y,\n",
    "             labels = top_words$labels, gap = 8,\n",
    "             top.labels = c(\"Chardonnay\", \"Words\", \"Coffee\"),\n",
    "             main = \"Words in Common\", laxlab = NULL, \n",
    "             raxlab = NULL, unit = NULL)\n",
    "Instructions\n",
    "Create common_words by using subset() on all_tdm_m to get terms that appear multiple times in both corpora.\n",
    "Create difference by taking the absolute difference between the columns, using the abs() function.\n",
    "Use cbind() to add difference to common_words.\n",
    "Order common_words by the difference column (i.e. common_words[, 3]) with decreasing = TRUE.\n",
    "Create top25_df with the 25 most common words. Use \"x\", \"y\" and \"labels\" as headers.\n",
    "Plot a pyramid.plot() with the parameters from top25_df. Use the pyramid.plot() code above as a template. Just change top_words to the appropriate data frame."
   ]
  },
  {
   "cell_type": "code",
   "execution_count": null,
   "metadata": {
    "collapsed": true
   },
   "outputs": [],
   "source": [
    "# Create common_words\n",
    "common_words <- subset(all_tdm_m, all_tdm_m[, 1] > 0 & all_tdm_m[, 2] > 0)\n",
    "\n",
    "# Create difference\n",
    "difference <- abs(common_words[, 1] - common_words[, 2])\n",
    "\n",
    "# Combine common_words and difference\n",
    "common_words <- cbind(common_words, difference)\n",
    "\n",
    "# Order the data frame from most differences to least\n",
    "common_words <- common_words[order(common_words[, 3], decreasing = TRUE), ]\n",
    "\n",
    "# Create top25_df\n",
    "top25_df <- data.frame(x = common_words[1:25, 1], \n",
    "                       y = common_words[1:25, 2], \n",
    "                       labels = rownames(common_words[1:25, ]))\n",
    "\n",
    "# Create the pyramid plot\n",
    "pyramid.plot(top25_df$x, top25_df$y,\n",
    "             labels = top25_df$labels, gap = 8,\n",
    "             top.labels = c(\"Chardonnay\", \"Words\", \"Coffee\"),\n",
    "             main = \"Words in Common\", laxlab = NULL, \n",
    "             raxlab = NULL, unit = NULL)"
   ]
  },
  {
   "cell_type": "markdown",
   "metadata": {},
   "source": [
    "Visualize word networks\n",
    "100xp\n",
    "Another way to view word connections is to treat them as a network, similar to a social network. Word networks show term association and cohesion. A word of caution: these visuals can become very dense and hard to interpret visually.\n",
    "\n",
    "In a network graph, the circles are called nodes and represent individual terms, while the lines connecting the circles are called edges and represent the connections between the terms.\n",
    "\n",
    "For the over-caffeinated text miner, qdap provides a shorcut for making word networks. The word_network_plot() and word_associate() functions both make word networks easy!\n",
    "\n",
    "The sample code constructs a word network for words associated with \"Marvin\".\n",
    "\n",
    "Instructions\n",
    "- Using word_associate() sample code, change the string to \"barista\". Change the vector to coffee_tweets$text. Remember to change \"chardonnay\" to \"coffee\" in the stopwords too.\n",
    "- Change the title to \"Barista Coffee Tweet Associations\" in the sample code for the plot."
   ]
  },
  {
   "cell_type": "code",
   "execution_count": null,
   "metadata": {
    "collapsed": true
   },
   "outputs": [],
   "source": [
    "# Word association\n",
    "word_associate(coffee_tweets$text, match.string = c(\"barista\"), \n",
    "               stopwords = c(Top200Words, \"coffee\", \"amp\"), \n",
    "               network.plot = TRUE, cloud.colors = c(\"gray85\", \"darkred\"))\n",
    "\n",
    "# Add title\n",
    "title(main = \"Barista Coffee Tweet Associations\")"
   ]
  },
  {
   "cell_type": "markdown",
   "metadata": {},
   "source": [
    "Teaser: simple word clustering\n",
    "100xp\n",
    "In the next chapter, we cover some miscellaneous (yet very important) text mining subjects including:\n",
    "\n",
    "TDM/DTM weighting\n",
    "Dealing with TDM/DTM sparsity\n",
    "Capturing metadata\n",
    "Simple word clustering for topics\n",
    "Analysis on more than one word\n",
    "For now, let's simply create a new visual called a dendrogram from our coffee_tweets. The next chapter will explain it in detail.\n",
    "\n",
    "Instructions\n",
    "Create a dendrogram using plot() on the hc object."
   ]
  },
  {
   "cell_type": "code",
   "execution_count": null,
   "metadata": {
    "collapsed": true
   },
   "outputs": [],
   "source": [
    "# Plot a dendrogram\n",
    "plot(hc)"
   ]
  },
  {
   "cell_type": "code",
   "execution_count": null,
   "metadata": {
    "collapsed": true
   },
   "outputs": [],
   "source": []
  },
  {
   "cell_type": "code",
   "execution_count": null,
   "metadata": {
    "collapsed": true
   },
   "outputs": [],
   "source": []
  },
  {
   "cell_type": "markdown",
   "metadata": {},
   "source": [
    "Distance matrix and dendrogram\n",
    "100xp\n",
    "A simple way to do word cluster analysis is with a dendrogram on your term-document matrix. Once you have a TDM, you can call dist() to compute the differences between each row of the matrix.\n",
    "\n",
    "Next, you call hclust() to perform cluster analysis on the dissimilarities of the distance matrix. Lastly, you can visualize the word frequency distances using a dendrogram and plot(). Often in text mining, you can tease out some interesting insights or word clusters based on a dendrogram.\n",
    "\n",
    "Consider the table of annual rainfall that you saw in the last video. Cleveland and Portland have the same amount of rainfall, so their distance is 0. You might expect the two cities to be a cluster and for New Orleans to be on its own since it gets vastly more rain.\n",
    "\n",
    "       city rainfall\n",
    "  Cleveland    39.14\n",
    "   Portland    39.14\n",
    "     Boston    43.77\n",
    "New Orleans    62.45\n",
    "Instructions\n",
    "The data frame rain has been preloaded in your workspace.\n",
    "\n",
    "- Create dist_rain by using the dist() function on the values in the second column of rain.\n",
    "- Print the dist_rain matrix to the console.\n",
    "- Create hc by performing a cluster analysis, using hclust() on dist_rain.\n",
    "- plot() the hc object with labels = rain$city to add the city names."
   ]
  },
  {
   "cell_type": "code",
   "execution_count": null,
   "metadata": {
    "collapsed": true
   },
   "outputs": [],
   "source": [
    "city\trainfall\n",
    "  Cleveland\t39.14\n",
    "   Portland\t39.14\n",
    "     Boston\t43.77\n",
    "New Orleans\t62.45"
   ]
  },
  {
   "cell_type": "code",
   "execution_count": 16,
   "metadata": {
    "collapsed": false
   },
   "outputs": [
    {
     "name": "stderr",
     "output_type": "stream",
     "text": [
      "Warning message in read.table(file = file, header = header, sep = sep, quote = quote, :\n",
      "\"incomplete final line found by readTableHeader on 'clipboard'\""
     ]
    }
   ],
   "source": [
    "rain <- read.delim(\"clipboard\", header=TRUE)"
   ]
  },
  {
   "cell_type": "code",
   "execution_count": 17,
   "metadata": {
    "collapsed": false
   },
   "outputs": [
    {
     "data": {
      "text/html": [
       "<table>\n",
       "<thead><tr><th scope=col>city</th><th scope=col>rainfall</th></tr></thead>\n",
       "<tbody>\n",
       "\t<tr><td>  Cleveland</td><td>39.14      </td></tr>\n",
       "\t<tr><td>   Portland</td><td>39.14      </td></tr>\n",
       "\t<tr><td>     Boston</td><td>43.77      </td></tr>\n",
       "\t<tr><td>New Orleans</td><td>62.45      </td></tr>\n",
       "</tbody>\n",
       "</table>\n"
      ],
      "text/latex": [
       "\\begin{tabular}{r|ll}\n",
       " city & rainfall\\\\\n",
       "\\hline\n",
       "\t   Cleveland & 39.14      \\\\\n",
       "\t    Portland & 39.14      \\\\\n",
       "\t      Boston & 43.77      \\\\\n",
       "\t New Orleans & 62.45      \\\\\n",
       "\\end{tabular}\n"
      ],
      "text/markdown": [
       "\n",
       "city | rainfall | \n",
       "|---|---|---|---|\n",
       "|   Cleveland | 39.14       | \n",
       "|    Portland | 39.14       | \n",
       "|      Boston | 43.77       | \n",
       "| New Orleans | 62.45       | \n",
       "\n",
       "\n"
      ],
      "text/plain": [
       "  city        rainfall\n",
       "1   Cleveland 39.14   \n",
       "2    Portland 39.14   \n",
       "3      Boston 43.77   \n",
       "4 New Orleans 62.45   "
      ]
     },
     "metadata": {},
     "output_type": "display_data"
    }
   ],
   "source": [
    "head(rain)"
   ]
  },
  {
   "cell_type": "code",
   "execution_count": 18,
   "metadata": {
    "collapsed": false
   },
   "outputs": [
    {
     "name": "stdout",
     "output_type": "stream",
     "text": [
      "      1     2     3\n",
      "2  0.00            \n",
      "3  4.63  4.63      \n",
      "4 23.31 23.31 18.68\n"
     ]
    },
    {
     "data": {
      "image/png": "[encoded data removed]",
      "text/plain": [
       "Plot with title \"Cluster Dendrogram\""
      ]
     },
     "metadata": {},
     "output_type": "display_data"
    }
   ],
   "source": [
    "# Create dist_rain\n",
    "dist_rain <- dist(rain[,2])\n",
    "\n",
    "# View the distance matrix\n",
    "print(dist_rain)\n",
    "\n",
    "# Create hc\n",
    "hc <- hclust(dist_rain)\n",
    "\n",
    "# Plot hc\n",
    "plot(hc, labels=rain$city)"
   ]
  },
  {
   "cell_type": "markdown",
   "metadata": {},
   "source": [
    "Make a distance matrix and dendrogram from a TDM\n",
    "100xp\n",
    "Now that you understand the steps in making a dendrogram, you can apply them to text. But first, you have to limit the number of words in your TDM using removeSparseTerms() from tm. Why would you want to adjust the sparsity of the TDM/DTM?\n",
    "\n",
    "TDMs and DTMs are sparse, meaning they contain mostly zeros. Remember that 1000 tweets can become a TDM with over 3000 terms! You won't be able to easily interpret a dendrogram that is so cluttered, especially if you are working on more text.\n",
    "\n",
    "A good TDM has between 25 and 70 terms. The lower the sparse value, the more terms are kept. The closer it is to 1, the fewer are kept. This value is a percentage cutoff of zeros for each term in the TDM.\n",
    "\n",
    "Instructions    \n",
    "tweets_tdm has been created using the chardonnay tweets.\n",
    "\n",
    "- Print the dimensions of tweets_tdm to the console.\n",
    "- Create tdm1 using removeSparseTerms() with sparse = 0.95 on tweets_tdm.\n",
    "- Create tdm2 using removeSparseTerms() with sparse = 0.975 on tweets_tdm.\n",
    "- Print tdm1 to the console to see how many terms are left.\n",
    "- Print tdm2 to the console to see how many terms are left."
   ]
  },
  {
   "cell_type": "code",
   "execution_count": null,
   "metadata": {
    "collapsed": true
   },
   "outputs": [],
   "source": [
    "# Print the dimensions of tweets_tdm\n",
    "dim(tweets_tdm)\n",
    "\n",
    "# Create tdm1\n",
    "tdm1 <- removeSparseTerms(tweets_tdm, sparse=0.95)\n",
    "\n",
    "# Create tdm2\n",
    "tdm2 <- removeSparseTerms(tweets_tdm, sparse=0.975)\n",
    "\n",
    "# Print tdm1\n",
    "print(tdm1)\n",
    "\n",
    "# Print tdm2\n",
    "print(tdm2)"
   ]
  },
  {
   "cell_type": "markdown",
   "metadata": {},
   "source": [
    "### Put it all together: a text based dendrogram\n",
    "\n",
    "Its time to put your skills to work to make your first text-based dendrogram. Remember, dendrograms reduce information to help you make sense of the data. This is much like how an average tells you something, but not everything, about a population. Both can be misleading. With text, there are often a lot of nonsensical clusters, but some valuable clusters may also appear.\n",
    "\n",
    "A peculiarity of TDM and DTM objects is that you have to convert them first to matrices (with as.matrix()), then to data frames (with as.data.frame()), before using them with the dist() function.\n",
    "\n",
    "For the chardonnay tweets, you may have been surprised to see the soul music legend Marvin Gaye appear in the word cloud. Let's see if the dendrogram picks up the same.\n",
    "\n",
    "Instructions\n",
    "- Create tweets_tdm2 by applying removeSparseTerms() on tweets_tdm. Use sparse = 0.975.\n",
    "- Create tdm_m by using as.matrix() on tweets_tdm2 to convert it to matrix form.\n",
    "- Create tdm_df by converting tdm_m to a data frame using as.data.frame().\n",
    "- Create tweets_dist containing the distances of tdm_df using the dist() function.\n",
    "- Create a hierarchical cluster object called hc using hclust() on tweets_dist.\n",
    "- Make a dendrogram with plot() and hc."
   ]
  },
  {
   "cell_type": "code",
   "execution_count": null,
   "metadata": {
    "collapsed": true
   },
   "outputs": [],
   "source": [
    "# Create tweets_tdm2\n",
    "tweets_tdm2 <- removeSparseTerms(tweets_tdm, sparse=0.975)\n",
    "\n",
    "# Create tdm_m\n",
    "tdm_m <- as.matrix(tweets_tdm2)\n",
    "\n",
    "# Create tdm_df\n",
    "tdm_df <- as.data.frame(tdm_m)\n",
    "\n",
    "# Create tweets_dist\n",
    "tweets_dist <- dist(tdm_df)\n",
    "\n",
    "# Create hc\n",
    "hc <- hclust(tweets_dist)\n",
    "\n",
    "# Plot the dendrogram\n",
    "plot(hc)"
   ]
  },
  {
   "cell_type": "markdown",
   "metadata": {},
   "source": [
    "Dendrogram aesthetics\n",
    "100xp\n",
    "So you made a dendrogram...but its not as eye catching as you had hoped!\n",
    "\n",
    "The dendextend package can help your audience by coloring branches and outlining clusters. dendextend is designed to operate on dendrogram objects, so you'll have to change the hierarchical cluster from hclust using as.dendrogram().\n",
    "\n",
    "A good way to review the terms in your dendrogram is with the labels() function. It will print all terms of the dendrogram. To highlight specific branches, use branches_attr_by_labels(). First, pass in the dendrogram object, then a vector of terms as in c(\"data\", \"camp\"). Lastly add a color such as \"blue\".\n",
    "\n",
    "After you make your plot, you can call out clusters with rect.dendrogram(). This adds rectangles for each cluster. The first argument to rect.dendrogram() is the dendrogram, followed by the number of clusters (k). You can also pass a border argument specifying what color you want the rectangles to be (e.g. \"green\").\n",
    "\n",
    "Instructions\n",
    "- Load the dendextend package.\n",
    "- Create hc as a hierarchical cluster object from the tweets_dist distance matrix.\n",
    "- Create hcd as a dendrogram using as.dendrogram() on hc.\n",
    "- Print the labels of hcd to the console.\n",
    "- Recreate the hcd object using branches_attr_by_labels() with three arguments: the hcd object, c(\"marvin\", \"gaye\"), and the color \"red\".\n",
    "- plot() the dendgrogram hcd with a title main = \"Better Dendrogram\".\n",
    "- Add rectangles to the plot using rect.dendrogram(). Specify k = 2 clusters and a border color of \"grey50\"."
   ]
  },
  {
   "cell_type": "code",
   "execution_count": null,
   "metadata": {
    "collapsed": true
   },
   "outputs": [],
   "source": [
    "# Load dendextend\n",
    "library(dendextend)\n",
    "\n",
    "# Create hc\n",
    "hc <- hclust(tweets_dist)\n",
    "\n",
    "# Create hcd\n",
    "hcd <- as.dendrogram(hc)\n",
    "\n",
    "# Print the labels in hcd\n",
    "labels(hcd)\n",
    "\n",
    "# Change the branch color to red for \"marvin\" and \"gaye\"\n",
    "hcd <- branches_attr_by_labels(hcd, c(\"marvin\",\"gaye\"),\"red\")\n",
    "\n",
    "# Plot hcd\n",
    "plot(hcd, main=\"Better Dendrogram\")\n",
    "\n",
    "# Add cluster rectangles \n",
    "rect.dendrogram(hcd, k=2, border=\"grey50\")"
   ]
  },
  {
   "cell_type": "markdown",
   "metadata": {},
   "source": [
    "Using word association\n",
    "100xp\n",
    "Another way to think about word relationships is with the findAssocs() function in the tm package. For any given word, findAssocs() calculates its correlation with every other word in a TDM or DTM. Scores range from 0 to 1. A score of 1 means that two words always appear together, while a score of 0 means that they never appear together.\n",
    "\n",
    "To use findAssocs() pass in a TDM or DTM, the search term, and a minimum correlation. The function will return a list of all other terms that meet or exceed the minimum threshold.\n",
    "\n",
    "findAssocs(tdm, \"word\", 0.25)\n",
    "Minimum correlation values are often relatively low because of word diversity. Don't be surprised if 0.10 demonstrates a strong pairwise term association.\n",
    "\n",
    "The coffee tweets have been cleaned and organized into tweets_tdm for the exercise. You will search for a term association, and manipulate the results with list_vect2df() from qdap and then create a plot with the ggplot2 code in the example script.\n",
    "\n",
    "Instructions\n",
    "- Create associations using findAssocs() on tweets_tdm to find terms associated with \"venti\", which meet a minimum threshold of 0.2.\n",
    "- View the terms associated with \"venti\" by printing associations to the console.\n",
    "- Create associations_df, a data frame containing the result from list_vect2df(associations)[, 2:3].\n",
    "- Use the ggplot2 code to make a dot plot of the association values."
   ]
  },
  {
   "cell_type": "code",
   "execution_count": null,
   "metadata": {
    "collapsed": true
   },
   "outputs": [],
   "source": [
    "# Create associations\n",
    "associations <- findAssocs(tweets_tdm, \"venti\", 0.2)\n",
    "\n",
    "# View the venti associations\n",
    "associations\n",
    "\n",
    "# Create associations_df\n",
    "associations_df <- list_vect2df(associations)[, 2:3]\n",
    "\n",
    "# Plot the associations_df values (don't change this)\n",
    "ggplot(associations_df, aes(y = associations_df[, 1])) + \n",
    "  geom_point(aes(x = associations_df[, 2]), \n",
    "             data = associations_df, size = 3) + \n",
    "  theme_gdocs()"
   ]
  },
  {
   "cell_type": "markdown",
   "metadata": {},
   "source": [
    "## Getting past single words - Video"
   ]
  },
  {
   "cell_type": "markdown",
   "metadata": {},
   "source": [
    "## N-gram tokenization\n",
    "\n",
    "Will increasing the n-gram length increase, decrease or make no difference for the TDM or DTM size?\n",
    "\n",
    "Possible Answers\n",
    "- Increase (Correct)\n",
    "- Decrease\n",
    "- No difference"
   ]
  },
  {
   "cell_type": "markdown",
   "metadata": {},
   "source": [
    "Changing n-grams\n",
    "100xp\n",
    "So far, we have only made TDMs and DTMs using single words. The default is to make them with unigrams, but you can also focus on tokens containing two or more words. This can help extract useful phrases which lead to some additional insights or provide improved predictive attributes for a machine learning algorithm.\n",
    "\n",
    "The function below uses the RWeka package to create trigram (three word) tokens: min and max are both set to 3.\n",
    "\n",
    "tokenizer <- function(x) \n",
    "  NGramTokenizer(x, Weka_control(min = 3, max = 3))\n",
    "Then the customized tokenizer() function can be passed into the TermDocumentMatrix or DocumentTermMatrix functions as an additional parameter:\n",
    "\n",
    "tdm <- TermDocumentMatrix(\n",
    "  corpus, \n",
    "  control = list(tokenize = tokenizer)\n",
    ")\n",
    "Instructions\n",
    "A corpus has been preprocessed as before using the chardonnay tweets. The resulting object text_corp is available in your workspace.\n",
    "\n",
    "- Create a tokenizer function like the above which creates 2-word bigrams.\n",
    "- Make unigram_dtm by calling DocumentTermMatrix() on text_corp without using the tokenizer() function.\n",
    "- Make bigram_dtm using DocumentTermMatrix() on text_corp with the tokenizer() function you just made.\n",
    "- Examine the unigram_dtm and take note of the number of terms.\n",
    "- Examine the bigram_dtm and see how the number of terms increases when using bigrams."
   ]
  },
  {
   "cell_type": "code",
   "execution_count": null,
   "metadata": {
    "collapsed": true
   },
   "outputs": [],
   "source": [
    "# Make tokenizer function \n",
    "tokenizer <- function(x) \n",
    "  NGramTokenizer(x, Weka_control(min = 2, max = 2))\n",
    "\n",
    "# Create unigram_dtm\n",
    "unigram_dtm <- DocumentTermMatrix(text_corp)\n",
    "\n",
    "# Create bigram_dtm\n",
    "bigram_dtm <- DocumentTermMatrix(text_corp, control = list(tokenize = tokenizer))\n",
    "\n",
    "# Examine unigram_dtm\n",
    "unigram_dtm\n",
    "\n",
    "# Examine bigram_dtm\n",
    "bigram_dtm"
   ]
  },
  {
   "cell_type": "markdown",
   "metadata": {},
   "source": [
    "How do bigrams affect word clouds?\n",
    "100xp\n",
    "Now that you have made a bigram DTM, you can examine it and remake a word cloud. The new tokenization method affects not only the matrices, but also any visuals or modeling based on the matrices.\n",
    "\n",
    "Remember how \"Marvin\" and \"Gaye\" were separate and large terms in the chardonnay word cloud? Using bigram tokenization grabs all two word combinations. Observe what happens to the word cloud in this exercise.\n",
    "\n",
    "Instructions\n",
    "The chardonnay tweets have been cleaned and organized into a DTM called bigram_dtm.\n",
    "\n",
    "- Create bigram_dtm_m by converting bigram_dtm to a matrix.\n",
    "- Create an object freq consisting of the word frequencies by applying colSums() on bigram_dtm_m.\n",
    "- Extract the character vector of word combinations with names(freq) and assign the result to bi_words.\n",
    "- Examine the word vector bi_words from [2577:2587] to see all 2-word combinations that include \"marvin\" as the first term.\n",
    "- Plot a simple wordcloud() passing bi_words, freq and max.words = 15 into the function."
   ]
  },
  {
   "cell_type": "code",
   "execution_count": null,
   "metadata": {
    "collapsed": true
   },
   "outputs": [],
   "source": [
    "# Create bigram_dtm_m\n",
    "bigram_dtm_m <- as.matrix(bigram_dtm)\n",
    "\n",
    "# Create freq\n",
    "freq <- colSums(bigram_dtm_m)\n",
    "\n",
    "# Create bi_words\n",
    "bi_words <- names(freq)\n",
    "\n",
    "# Examine part of bi_words\n",
    "bi_words[2577:2587]\n",
    "\n",
    "# Plot a wordcloud\n",
    "wordcloud(bi_words, freq, max.words=15)"
   ]
  },
  {
   "cell_type": "markdown",
   "metadata": {},
   "source": [
    "## Different frequency criteria - Video"
   ]
  },
  {
   "cell_type": "markdown",
   "metadata": {},
   "source": [
    "Changing frequency weights\n",
    "100xp\n",
    "So far you have used term frequency to make the DocumentTermMatrix or TermDocumentMatrix. There are other term weights that can be helpful. The most popular weight is TfIdf, which stands for term frequency-inverse document frequency.\n",
    "\n",
    "The TfIdf score increases by term occurrence but is penalized by the frequency of appearance among all documents.\n",
    "\n",
    "From a common sense perspective, if a term appears often it must be important. This attribute is represented by term frequency (i.e. Tf), which is normalized by the length of the document. However, if the term appears in all documents, it is not likely to be insightful. This is captured in the inverse document frequency (i.e. Idf).\n",
    "\n",
    "The wiki page on TfIdf contains the mathematical explanation behind the score, but the exercise will demonstrate the practical difference.\n",
    "\n",
    "Instructions\n",
    "The coffee tweets have been cleaned and organized into the corpus text_corp, but the term \"coffee\" was not removed.\n",
    "\n",
    "Create tf_tdm, a term frequency-based TermDocumentMatrix() using text_corp.\n",
    "Make tfidf_tdm using TermDocumentMatrix() on text_corp along with TfIdf weighting. Pass control = list(weighting = weightTfIdf) as an argument to the function.\n",
    "Create tf_tdm_m by converting tf_tdm to matrix form.\n",
    "Create tfidf_tdm_m calling as.matrix() on tfidf_tdm.\n",
    "Examine the term frequency for \"coffee\" in 5 tweets by examining rows 508 and 509 and columns 5 through 10 of tf_tdm_m.\n",
    "Compare the TfIdf score for \"coffee\" in 5 tweets by examining rows 508 and 509 and columns 5 through 10 of tfidf_tdm_m."
   ]
  },
  {
   "cell_type": "code",
   "execution_count": null,
   "metadata": {
    "collapsed": true
   },
   "outputs": [],
   "source": [
    "# Create tf_tdm\n",
    "tf_tdm = TermDocumentMatrix(text_corp)\n",
    "\n",
    "# Create tfidf_tdm\n",
    "tfidf_tdm = TermDocumentMatrix(text_corp, control = list(weighting = weightTfIdf))\n",
    "\n",
    "# Create tf_tdm_m\n",
    "tf_tdm_m = as.matrix(tf_tdm)\n",
    "\n",
    "# Create tfidf_tdm_m \n",
    "tfidf_tdm_m = as.matrix(tfidf_tdm)\n",
    "\n",
    "# Examine part of tf_tdm_m\n",
    "tf_tdm_m[508:509,5:10]\n",
    "\n",
    "# Examine part of tfidf_tdm_m\n",
    "tfidf_tdm_m[508:509,5:10]"
   ]
  },
  {
   "cell_type": "markdown",
   "metadata": {},
   "source": [
    "Capturing metadata in tm\n",
    "100xp\n",
    "Depending on what you are trying to accomplish, you may want to keep metadata about the document when you create a TDM or DTM. This metadata can be incorporated into the corpus fairly easily by creating a readerControl list and applying it to a DataframeSource when calling VCorpus().\n",
    "\n",
    "You will need to know the column names of the data frame containing the metadata to be captured. The names() function is helpful for this.\n",
    "\n",
    "To capture the text column of the coffee tweets text along with a metadata column of unique numbers called num you would use the code below.\n",
    "\n",
    "custom_reader <- readTabular(\n",
    "  mapping = list(content = \"text\", id = \"num\")\n",
    ")\n",
    "text_corpus <- VCorpus(\n",
    "  DataframeSource(tweets), \n",
    "  readerControl = list(reader = custom_reader)\n",
    ")\n",
    "Instructions\n",
    "- Add author = \"screenName\" and date = \"created\" to the custom_reader object to get even more metadata.\n",
    "- Create text_corpus with VCorpus() and a custom_reader.\n",
    "- Now that text_corpus contains 1000 coffee tweets along with 4 pieces of metadata. Overwrite the text_corpus applying a custom clean_corpus function as you did earlier.\n",
    "- Examine the cleaned text content of the first tweet using [[1]][1].\n",
    "- Confirm that all metadata was captured correctly in the second part of the document [[1]][2]."
   ]
  },
  {
   "cell_type": "code",
   "execution_count": null,
   "metadata": {
    "collapsed": true
   },
   "outputs": [],
   "source": [
    "# Add author to custom reading list\n",
    "custom_reader <- readTabular(mapping = list(content = \"text\", \n",
    "                                            id = \"num\",\n",
    "                                            author = \"screenName\",\n",
    "                                            date = \"created\"\n",
    "                                            ))\n",
    "\n",
    "# Make corpus with custom reading\n",
    "text_corpus <- VCorpus(DataframeSource(tweets),  \n",
    "readerControl = list(reader = custom_reader))\n",
    "\n",
    "# Clean corpus\n",
    "text_corpus <- clean_corpus(text_corpus)\n",
    "\n",
    "# Print data\n",
    "print(text_corpus[[1]][1])\n",
    "\n",
    "# Print metadata\n",
    "print(text_corpus[[1]][2])"
   ]
  },
  {
   "cell_type": "code",
   "execution_count": null,
   "metadata": {
    "collapsed": true
   },
   "outputs": [],
   "source": []
  },
  {
   "cell_type": "markdown",
   "metadata": {},
   "source": [
    "## Amazon vs. Google - Video"
   ]
  },
  {
   "cell_type": "markdown",
   "metadata": {},
   "source": [
    "Organizing a text mining project\n",
    "50xp\n",
    "How many well-defined steps are in the text mining process?\n",
    "\n",
    "Possible Answers\n",
    "- 1\n",
    "- 3\n",
    "- 6\n",
    "- None...they aren't needed."
   ]
  },
  {
   "cell_type": "markdown",
   "metadata": {},
   "source": [
    "Step 1: Problem definition\n",
    "50xp\n",
    "Which of these are NOT appropriate problem statements?\n",
    "\n",
    "Possible Answers\n",
    "- Does Amazon or Google have a better perceived pay according to online reviews?\n",
    "- Let's learn something about how employees review both Amazon and Google.\n",
    "- Does Amazon or Google have a better work-life balance according to current employees?\n",
    "- Take Hint (-15xp)"
   ]
  },
  {
   "cell_type": "markdown",
   "metadata": {},
   "source": [
    "## Step 2: Identifying the text sources\n",
    "\n",
    "Employee reviews can come from various sources. If your human resources department had the resources, you could have a third party administer focus groups to interview employees both internally and from your competitor.\n",
    "\n",
    "Forbes and others publish articles about the \"best places to work\", which may mention Amazon and Google. Another source of information might be anonymous online reviews from websites like Indeed, Glassdoor or CareerBliss.\n",
    "\n",
    "Here, we'll focus on a collection of anonymous online reviews.\n",
    "\n",
    "Instructions\n",
    "View the structure of amzn with str() to get its dimensions and a preview of the data.\n",
    "Create amzn_pros from the positive reviews column amzn$pros.\n",
    "Create amzn_cons from the negative reviews column amzn$cons.\n",
    "Print the structure of goog with str() to get its dimensions and a preview of the data.\n",
    "Create goog_pros from the positive reviews column goog$pros.\n",
    "Create goog_cons from the negative reviews column goog$cons."
   ]
  },
  {
   "cell_type": "code",
   "execution_count": 14,
   "metadata": {
    "collapsed": false
   },
   "outputs": [],
   "source": [
    "library(readxl)\n",
    "amzn <- read_excel(\"amzn.xlsx\", sheet=\"amzn\")\n",
    "goog <- read_excel(\"goog.xlsx\", sheet=\"goog\")"
   ]
  },
  {
   "cell_type": "code",
   "execution_count": 16,
   "metadata": {
    "collapsed": false
   },
   "outputs": [
    {
     "data": {
      "text/html": [
       "<ol class=list-inline>\n",
       "\t<li>'pros'</li>\n",
       "\t<li>'cons'</li>\n",
       "</ol>\n"
      ],
      "text/latex": [
       "\\begin{enumerate*}\n",
       "\\item 'pros'\n",
       "\\item 'cons'\n",
       "\\end{enumerate*}\n"
      ],
      "text/markdown": [
       "1. 'pros'\n",
       "2. 'cons'\n",
       "\n",
       "\n"
      ],
      "text/plain": [
       "[1] \"pros\" \"cons\""
      ]
     },
     "metadata": {},
     "output_type": "display_data"
    }
   ],
   "source": [
    "names(goog)"
   ]
  },
  {
   "cell_type": "code",
   "execution_count": 17,
   "metadata": {
    "collapsed": false
   },
   "outputs": [
    {
     "name": "stdout",
     "output_type": "stream",
     "text": [
      "Classes 'tbl_df', 'tbl' and 'data.frame':\t500 obs. of  2 variables:\n",
      " $ pros: chr  \"You're surrounded by smart people and the projects are interesting, if a little daunting.\" \"Brand name is great. Have yet to meet somebody who is unfamiliar with Amazon. Hours weren't as bad as I had previously heard. B\"| __truncated__ \"Good money.Interaction with some great minds in the world during internal conferences and sessions.Of course the pride of being\"| __truncated__ \"nice pay and overtime and different shifts\" ...\n",
      " $ cons: chr  \"You're surrounded by smart people and the projects are interesting, if a little daunting.\" \"Brand name is great. Have yet to meet somebody who is unfamiliar with Amazon. Hours weren't as bad as I had previously heard. B\"| __truncated__ \"Good money.Interaction with some great minds in the world during internal conferences and sessions.Of course the pride of being\"| __truncated__ \"nice pay and overtime and different shifts\" ...\n",
      "Classes 'tbl_df', 'tbl' and 'data.frame':\t501 obs. of  2 variables:\n",
      " $ pros: chr  \"* If you're a software engineer, you're among the kings of the hill at Google. It's an engineer-driven company without a doubt \"| __truncated__ \"1) Food, food, food. 15+ cafes on main campus (MTV) alone. Mini-kitchens, snacks, drinks, free breakfast/lunch/dinner, all day,\"| __truncated__ \"You can't find a more well-regarded company that actually deserves the hype it gets.\" \"- You drive yourself here. If you want to grow, you have to seek out opportunities and prove that your worth. This keeps you mo\"| __truncated__ ...\n",
      " $ cons: chr  \"* It *is* becoming larger, and with it comes growing pains: bureaucracy, slow to respond to market threats, bloated teams, cros\"| __truncated__ \"1) Work/life balance. What balance? All those perks and benefits are an illusion. They keep you at work and they help you to be\"| __truncated__ \"I live in SF so the commute can take between 1.5 hours to 1.75 hours each way on the shuttle - sometimes 2 hours each way on a \"| __truncated__ \"- Google is a big company. So there are going to be winners and losers when it comes to career growth. Due to the high hiring b\"| __truncated__ ...\n"
     ]
    }
   ],
   "source": [
    "# Print the structure of amzn\n",
    "str(amzn)\n",
    "\n",
    "# Create amzn_pros\n",
    "amzn_pros <- amzn$pros\n",
    "\n",
    "# Create amzn_cons\n",
    "amzn_cons <- amzn$cons\n",
    "\n",
    "# Print the structure of goog\n",
    "str(goog)\n",
    "\n",
    "# Create goog_pros\n",
    "goog_pros <- goog$pros\n",
    "\n",
    "# Create goog_cons\n",
    "goog_cons <- goog$cons"
   ]
  },
  {
   "cell_type": "markdown",
   "metadata": {},
   "source": [
    "Text organization\n",
    "100xp\n",
    "Now that you have selected the exact text sources, you are ready to clean them up. You'll be using the two functions you just saw in the video: qdap_clean(), which applies a series of qdap functions to a text vector, and tm_clean(), which applies a series of tm functions to a corpus object. You can refer back to the video to remind yourself of how they work.\n",
    "\n",
    "In order to keep things simple, the functions have been defined for you and are available in your workspace. It's your job to apply them to amzn_pros and amzn_cons!\n",
    "\n",
    "Instructions\n",
    "- Alter amzn_pros by applying qdap_clean() to it.\n",
    "- Alter amzn_cons by applying qdap_clean() to it.\n",
    "- Apply VCorpus() to amzn_pros and store the result as az_p_corp.\n",
    "- Apply VCorpus() to amzn_cons and store the result as az_c_corp.\n",
    "- Create amzn_pros_corp by applying tm_clean() to az_p_corp.\n",
    "- Create amzn_cons_corp by applying tm_clean() to az_c_corp."
   ]
  },
  {
   "cell_type": "code",
   "execution_count": 18,
   "metadata": {
    "collapsed": false
   },
   "outputs": [],
   "source": [
    "qdap_clean <- function(x){\n",
    "                 x <- replace_abbreviation(x)\n",
    "                 x <- replace_contraction(x)\n",
    "                 x <- replace_number(x)\n",
    "                 x <- replace_ordinal(x)\n",
    "                 x <- replace_ordinal(x)\n",
    "                 x <- replace_symbol(x)\n",
    "                 x <- tolower(x)\n",
    "                 return(x)}"
   ]
  },
  {
   "cell_type": "code",
   "execution_count": 19,
   "metadata": {
    "collapsed": true
   },
   "outputs": [],
   "source": [
    "tm_clean <- function(corpus){\n",
    "  corpus <- tm_map(corpus, removePunctuation)\n",
    "  corpus <- tm_map(corpus, stripWhitespace)\n",
    "  corpus <- tm_map(corpus, removeWords, \n",
    "                   c(stopwords(\"en\"), \"Google\", \"Amazon\", \"company\"))\n",
    "  return(corpus)}"
   ]
  },
  {
   "cell_type": "code",
   "execution_count": 22,
   "metadata": {
    "collapsed": false
   },
   "outputs": [],
   "source": [
    "# Alter amzn_pros\n",
    "amzn_pros <- qdap_clean(amzn_pros)\n",
    "    \n",
    "# Alter amzn_cons\n",
    "amzn_cons <- qdap_clean(amzn_cons)\n",
    "\n",
    "# Create az_p_corp \n",
    "az_p_corp <- VCorpus(VectorSource(amzn_pros))\n",
    "\n",
    "# Create az_c_corp\n",
    "az_c_corp <- VCorpus(VectorSource(amzn_cons))\n",
    "\n",
    "# Create amzn_pros_corp\n",
    "amzn_pros_corp <- tm_clean(az_p_corp)\n",
    "\n",
    "# Create amzn_cons_corp\n",
    "amzn_cons_corp <- tm_clean(az_c_corp)"
   ]
  },
  {
   "cell_type": "markdown",
   "metadata": {},
   "source": [
    "## Now let's clean up the Google reviews."
   ]
  },
  {
   "cell_type": "markdown",
   "metadata": {},
   "source": [
    "### Working with Google reviews\n",
    "\n",
    "Now that the Amazon reviews have been cleaned, the same must be done for the Google reviews. qdap_clean() and tm_clean() are available in your workspace to help you clean goog_pros and goog_cons.\n",
    "\n",
    "Instructions\n",
    "- Alter goog_pros by applying qdap_clean() to it.\n",
    "- Alter goog_cons by applying qdap_clean() to it.\n",
    "- Apply VCorpus() to goog_pros and store the result as goog_p_corp.\n",
    "- Apply VCorpus() to goog_cons and store the result as goog_c_corp.\n",
    "- Create goog_pros_corp by applying tm_clean() to goog_p_corp.\n",
    "- Create goog_cons_corp by applying tm_clean() to goog_c_corp."
   ]
  },
  {
   "cell_type": "code",
   "execution_count": 23,
   "metadata": {
    "collapsed": true
   },
   "outputs": [],
   "source": [
    "# Alter goog_pros\n",
    "goog_pros <- qdap_clean(goog_pros)\n",
    "    \n",
    "# Alter goog_cons\n",
    "goog_cons <- qdap_clean(goog_cons)\n",
    "\n",
    "# Create az_p_corp \n",
    "goog_p_corp <- VCorpus(VectorSource(goog_pros))\n",
    "\n",
    "# Create az_c_corp\n",
    "goog_c_corp <- VCorpus(VectorSource(goog_cons))\n",
    "\n",
    "# Create goog_pros_corp\n",
    "goog_pros_corp <- tm_clean(goog_p_corp)\n",
    "\n",
    "# Create goog_cons_corp\n",
    "goog_cons_corp <- tm_clean(goog_c_corp)"
   ]
  },
  {
   "cell_type": "markdown",
   "metadata": {},
   "source": [
    "## Steps 4 & 5: Feature extraction & analysis - Video"
   ]
  },
  {
   "cell_type": "markdown",
   "metadata": {},
   "source": [
    "Feature extraction & analysis: amzn_pros\n",
    "100xp\n",
    "amzn_pros_corp, amzn_cons_corp, goog_pros_corp and goog_cons_corp have all been preprocessed, so now you can extract the features you want to examine. Since you are using the bag of words approach, you decide to create a bigram TermDocumentMatrix for Amazon's positive reviews corpus, amzn_pros_corp. From this, you can quickly create a wordcloud() to understand what phrases people positively associate with working at Amazon.\n",
    "\n",
    "The function below uses RWeka to tokenize two terms and is used behind the scenes in this exercise.\n",
    "\n",
    "tokenizer <- function(x) \n",
    "  NGramTokenizer(x, Weka_control(min = 2, max = 2))\n",
    "Instructions\n",
    "Create amzn_p_tdm as a TermDocumentMatrix from amzn_pros_corp. Make sure to add control = list(tokenize = tokenizer) so that the terms are bigrams.\n",
    "Create amzn_p_tdm_m from amzn_p_tdm by using the as.matrix() function.\n",
    "Create amzn_p_freq to obtain the term frequencies from amzn_p_tdm_m.\n",
    "Create a wordcloud() using names(amzn_p_freq) as the words, amzn_p_freq as their frequencies, and max.words = 25 and color = \"blue\" for asthetics."
   ]
  },
  {
   "cell_type": "code",
   "execution_count": 28,
   "metadata": {
    "collapsed": true
   },
   "outputs": [],
   "source": [
    "tokenizer <- function(x) \n",
    "  NGramTokenizer(x, Weka_control(min = 2, max = 2))"
   ]
  },
  {
   "cell_type": "code",
   "execution_count": 29,
   "metadata": {
    "collapsed": false
   },
   "outputs": [],
   "source": [
    "library(RWeka)\n",
    "library(wordcloud)"
   ]
  },
  {
   "cell_type": "code",
   "execution_count": 30,
   "metadata": {
    "collapsed": false
   },
   "outputs": [
    {
     "ename": "ERROR",
     "evalue": "Error in .jcall(\"RWekaInterfaces\", \"[S\", \"tokenize\", .jcast(tokenizer, : java.lang.NullPointerException\n",
     "output_type": "error",
     "traceback": [
      "Error in .jcall(\"RWekaInterfaces\", \"[S\", \"tokenize\", .jcast(tokenizer, : java.lang.NullPointerException\nTraceback:\n",
      "1. TermDocumentMatrix(amzn_pros_corp, control = list(tokenize = tokenizer))",
      "2. TermDocumentMatrix.VCorpus(amzn_pros_corp, control = list(tokenize = tokenizer))",
      "3. mclapply(unname(content(x)), termFreq, control)",
      "4. lapply(X, FUN, ...)",
      "5. FUN(X[[i]], ...)",
      "6. .tokenize(doc)",
      "7. NGramTokenizer(x, Weka_control(min = 2, max = 2))   # at line 1-2 of file <text>",
      "8. .jcall(\"RWekaInterfaces\", \"[S\", \"tokenize\", .jcast(tokenizer, \n .     \"weka/core/tokenizers/Tokenizer\"), .jarray(as.character(control)), \n .     .jarray(as.character(x)))",
      "9. .jcheck()"
     ]
    }
   ],
   "source": [
    "# Create amzn_p_tdm\n",
    "amzn_p_tdm <- TermDocumentMatrix(amzn_pros_corp, control=list(tokenize=tokenizer))\n",
    "\n",
    "# Create amzn_p_tdm_m\n",
    "amzn_p_tdm_m <- as.matrix(amzn_p_tdm)\n",
    "\n",
    "# Create amzn_p_freq\n",
    "amzn_p_freq <- rowSums(amzn_p_tdm_m)\n",
    "\n",
    "# Plot a wordcloud using amzn_p_freq values\n",
    "wordcloud(names(amzn_p_freq), amzn_p_freq, max.words=25, color=\"blue\")"
   ]
  },
  {
   "cell_type": "markdown",
   "metadata": {},
   "source": [
    "### Feature extraction & analysis: amzn_cons\n",
    "\n",
    "You now decide to contrast this with the amzn_cons_corp corpus in another bigram TDM. Of course, you expect to see some different phrases in your word cloud.\n",
    "\n",
    "Once again, you will use this custom function to extract your bigram features for the visual:\n",
    "\n",
    "tokenizer <- function(x) \n",
    "  NGramTokenizer(x, Weka_control(min = 2, max = 2))\n",
    "Instructions\n",
    "- Create amzn_c_tdm by converting amzn_cons_corp into a TermDocumentMatrix and incorporating the bigram function control = list(tokenize = tokenizer).\n",
    "- Create amzn_c_tdm_m as a matrix version of amzn_c_tdm.\n",
    "- Create amzn_c_freq by using rowSums() to get term frequencies from amzn_c_tdm_m.\n",
    "- Create a wordcloud() using names(amzn_c_freq) and the values amzn_c_freq. Use the arguments max.words = 25 and color = \"red\" as well."
   ]
  },
  {
   "cell_type": "code",
   "execution_count": 31,
   "metadata": {
    "collapsed": false
   },
   "outputs": [
    {
     "ename": "ERROR",
     "evalue": "Error in .jcall(\"RWekaInterfaces\", \"[S\", \"tokenize\", .jcast(tokenizer, : java.lang.NullPointerException\n",
     "output_type": "error",
     "traceback": [
      "Error in .jcall(\"RWekaInterfaces\", \"[S\", \"tokenize\", .jcast(tokenizer, : java.lang.NullPointerException\nTraceback:\n",
      "1. TermDocumentMatrix(amzn_cons_corp, control = list(tokenize = tokenizer))",
      "2. TermDocumentMatrix.VCorpus(amzn_cons_corp, control = list(tokenize = tokenizer))",
      "3. mclapply(unname(content(x)), termFreq, control)",
      "4. lapply(X, FUN, ...)",
      "5. FUN(X[[i]], ...)",
      "6. .tokenize(doc)",
      "7. NGramTokenizer(x, Weka_control(min = 2, max = 2))   # at line 1-2 of file <text>",
      "8. .jcall(\"RWekaInterfaces\", \"[S\", \"tokenize\", .jcast(tokenizer, \n .     \"weka/core/tokenizers/Tokenizer\"), .jarray(as.character(control)), \n .     .jarray(as.character(x)))",
      "9. .jcheck()"
     ]
    }
   ],
   "source": [
    "# Create amzn_c_tdm\n",
    "amzn_c_tdm <- TermDocumentMatrix(amzn_cons_corp, control=list(tokenize=tokenizer))\n",
    "\n",
    "# Create amzn_c_tdm_m\n",
    "amzn_c_tdm_m <- as.matrix(amzn_c_tdm)\n",
    "\n",
    "# Create amzn_c_freq\n",
    "amzn_c_freq <- rowSums(amzn_c_tdm_m)\n",
    "\n",
    "# Plot a wordcloud of negative Amazon bigrams\n",
    "wordcloud(names(amzn_c_freq), amzn_c_freq, max.words=25, color=\"blue\")"
   ]
  },
  {
   "cell_type": "markdown",
   "metadata": {},
   "source": [
    "### amzn_cons dendrogram\n",
    "\n",
    "It seems there is a strong indication of long working hours and poor work-life balance in the reviews. As a simple clustering technique, you decide to perform a hierarchical cluster and create a dendrogram to see how connected these phrases are.\n",
    "\n",
    "Instructions\n",
    "- Create amzn_c_tdm as a TermDocumentMatrix using amzn_cons_corp with control = list(tokenize = tokenizer).\n",
    "- Print amzn_c_tdm to the console.\n",
    "- Create amzn_c_tdm2 by applying the removeSparseTerms() function to amzn_c_tdm with the sparse argument equal to .993.\n",
    "- Create hc, a hierarchical cluster object by nesting the distance matrix dist(amzn_c_tdm2, method = \"euclidean\") inside the hclust() function. Make sure to also pass method = \"complete\" to the hclust() function.\n",
    "- Plot hc to view the clustered bigrams and see how the concepts in the Amazon cons section may lead you to a conclusion."
   ]
  },
  {
   "cell_type": "markdown",
   "metadata": {},
   "source": [
    "Word association\n",
    "100xp\n",
    "As expected, you see similar topics throughout the dendrogram. Switching back to positive comments, you decide to examine top phrases that appeared in the word clouds. You hope to find associated terms using the findAssocs()function from tm. You want to check for something surprising now that you have learned of long hours and a lack of work-life balance.\n",
    "\n",
    "Instructions\n",
    "The amzn_pros_corp corpus has been cleaned using the custom functions like before.\n",
    "\n",
    "- Construct a TDM called amzn_p_tdm from amzn_pros_corp and control = list(tokenize = tokenizer).\n",
    "- Create amzn_p_m by converting amzn_p_tdm to a matrix.\n",
    "- Create amzn_p_freq by applying rowSums() to amzn_p_m.\n",
    "- Create term_frequency using sort() on amzn_p_freq along with the argument decreasing = TRUE\n",
    "- Examine the first 5 bigrams using term_frequency[1:5].\n",
    "- You may be surprised to see \"fast paced\" as a top term because it could be a negative term related to \"long hours\". Look at the terms most associated with \"fast paced\". Use findAssocs() on amzn_p_tdm to examine \"fast paced\" with a 0.2 cutoff."
   ]
  },
  {
   "cell_type": "code",
   "execution_count": null,
   "metadata": {
    "collapsed": true
   },
   "outputs": [],
   "source": [
    "# Create amzn_p_tdm\n",
    "amzn_p_tdm <- TermDocumentMatrix(amzn_pros_corp, control=list(tokenize=tokenizer))\n",
    "\n",
    "# Create amzn_p_m\n",
    "amzn_p_m <- as.matrix(amzn_p_tdm)\n",
    "\n",
    "# Create amzn_p_freq\n",
    "amzn_p_freq <- rowSums(amzn_p_m)\n",
    "\n",
    "# Create term_frequency\n",
    "term_frequency <- sort(amzn_p_freq, decreasing=TRUE)\n",
    "\n",
    "# Print the 5 most common terms\n",
    "term_frequency[1:5]\n",
    "\n",
    "# Find associations with fast paced\n",
    "findAssocs(amzn_p_tdm, \"fast paced\", 0.2)"
   ]
  },
  {
   "cell_type": "markdown",
   "metadata": {},
   "source": [
    "Reviewing the associated terms reveals that some are still somewhat negative."
   ]
  },
  {
   "cell_type": "markdown",
   "metadata": {},
   "source": [
    "Quick review of Google reviews\n",
    "100xp\n",
    "You decide to create a comparison.cloud() of Google's positive and negative reviews for comparison to Amazon. This will give you a quick understanding of top terms without having to spend as much time as you did examining the Amazon reviews in the previous exercises.\n",
    "\n",
    "We've provided you with a corpus all_goog_corpus, which has the 500 positive and 500 negative reviews for Google. Here, you'll clean the corpus and create a comparison cloud comparing the common words in both pro and con reviews.\n",
    "\n",
    "Instructions\n",
    "The all_goog_corpus object consisting of Google pro and con reviews is loaded in your workspace.\n",
    "\n",
    "- Create all_goog_corp by cleaning all_goog_corpus with the predefined tm_clean() function.\n",
    "- Create all_tdm by converting all_goog_corp to a term-document matrix.\n",
    "- Name the TDM columns in the order they were constructed by assigning c(\"Goog_Pros\", \"Goog_Cons\") to colnames(all_tdm).\n",
    "- Create all_m by converting all_tdm to a matrix.\n",
    "- Construct a comparison.cloud() from all_m. Include colors = c(\"#F44336\", \"#2196f3\") and max.words = 100 as arguments to the function."
   ]
  },
  {
   "cell_type": "code",
   "execution_count": null,
   "metadata": {
    "collapsed": true
   },
   "outputs": [],
   "source": [
    "# Create all_goog_corp\n",
    "all_goog_corp <- tm_clean(all_goog_corpus)\n",
    "\n",
    "# Create all_tdm\n",
    "all_tdm <- TermDocumentMatrix(all_goog_corp)\n",
    "\n",
    "# Name the columns of all_tdm\n",
    "colnames(all_tdm) <- c(\"Goog_Pros\", \"Goog_Cons\")\n",
    "\n",
    "# Create all_m\n",
    "all_m <- as.matrix(all_tdm)\n",
    "\n",
    "# Build a comparison cloud\n",
    "comparison.cloud(all_m,colors = c(\"#F44336\", \"#2196f3\"), max.words=100)"
   ]
  },
  {
   "cell_type": "markdown",
   "metadata": {},
   "source": [
    "Cage match! Amazon vs. Google pro reviews\n",
    "100xp\n",
    "Amazon's positive reviews appear to mention bigrams such as \"good benefits\", while its negative reviews focus on bigrams such as \"work load\" and \"work-life balance\" issues.\n",
    "\n",
    "In contrast, Google's positive reviews mention \"great food\", \"perks\", \"smart people\", and \"fun culture\", among other things. Google's negative reviews discuss \"politics\", \"getting big\", \"bureaucracy\", and \"middle management\".\n",
    "\n",
    "You decide to make a pyramid plot lining up positive reviews for Amazon and Google so you can adequately see the differences between any shared birgrams.\n",
    "\n",
    "Instructions\n",
    "all_tdm_m is loaded in your workspace. It's a bigram TDM that has been preprocessed and converted to a simple matrix. Have a look with head(all_tdm_m).\n",
    "\n",
    "- Create common_words by using subset() on all_tdm_m to identify the bigrams that occur in both companies' pro reviews. Use the criteria all_tdm_m[, 1] > 0 & all_tdm_m[, 2] > 0.\n",
    "- Create difference by calculating the absolute differences between columns 1 and 2 of common_words using the abs() function.\n",
    "- Add difference as a column to the common_words object using cbind(). difference should be the second argument to cbind().\n",
    "- Reorder common_words by sorting the difference column in decreasing order. Within single brackets, call the order() function with the decreasing argument set equal to TRUE. Save the result to common_words.\n",
    "- Create a data frame called top15_df of the top 15 bigrams. This is done with data.frame() by assigning the first column x = common_words[1:15, 1], the second column y = common_words[1:15, 2], and the third column labels = rownames(common_words[1:15, ]).\n",
    "- Create a pyramid plot by passing top15_df$x,top15_df$y, and labels = top15_df$labels to the pyramid.plot() function. We've added some additional arguments for you to improve the plot's appearance."
   ]
  },
  {
   "cell_type": "code",
   "execution_count": null,
   "metadata": {
    "collapsed": true
   },
   "outputs": [],
   "source": [
    "# Create common_words\n",
    "common_words <- subset(all_tdm_m, all_tdm_m[, 1] > 0 & all_tdm_m[, 2] > 0)\n",
    "\n",
    "# Create difference\n",
    "difference <- abs(common_words[, 1] - common_words[, 2])\n",
    "\n",
    "# Add difference to common_words\n",
    "common_words <- cbind(common_words, difference)\n",
    "\n",
    "# Order the data frame from most differences to least\n",
    "common_words <- common_words[order(common_words[, 3],decreasing = TRUE), ]\n",
    "\n",
    "# Create top15_df\n",
    "top15_df <- data.frame(x = common_words[1:15, 1],\n",
    "y = common_words[1:15, 2],labels =rownames(common_words[1:15, ]))\n",
    "\n",
    "# Create the pyramid plot\n",
    "pyramid.plot(top15_df$x, top15_df$y,\n",
    "             labels = top15_df$labels, gap = 12, \n",
    "             top.labels = c(\"Amzn\", \"Pro Words\", \"Google\"), \n",
    "             main = \"Words in Common\", unit = NULL)"
   ]
  },
  {
   "cell_type": "markdown",
   "metadata": {},
   "source": [
    "### Cage match, part 2! Negative reviews\n",
    "\n",
    "Interestingly, some Amazon employees discussed \"work-life balance\" as a positive. In both organizations, people mentioned \"culture\" and \"smart people\", so there are some similar positive aspects between the two companies.\n",
    "\n",
    "You now decide to turn your attention to negative reviews and make the same visual. This time, all_tdm_m contains the negative reviews, or cons, from both organizations.\n",
    "\n",
    "Instructions\n",
    "- Create common_words using subset(). Pass in the all_tdm_m matrix, then add the logical expression all_tdm_m[, 1] > 0 & all_tdm_m[, 2] > 0\n",
    "- Create difference by calculating the absolute differences by using abs() on the first column minus the second column.\n",
    "- Attach differences to common_words using cbind().\n",
    "- Reorder the common_words matrix using the third column common_words[, 3]. Save the result back to common_words.\n",
    "- Create a data frame called top15_df of the top 15 terms. This is done with data.frame() by assigning the first column x = common_words[1:15, 1], the second column y = common_words[1:15, 2], and the third column labels = rownames(common_words[1:15, ]).\n",
    "- Lastly, create another pyramid.plot() using the plotrix package. Pass in top15_df$x, top15_df$y, and labels = top15_df$labels. Add the following additional arguments to make the labels correct:\n",
    "    - gap = 12\n",
    "    - top.labels = c(\"Amzn\", \"Cons Words\", \"Google\")\n",
    "    - main = \"Words in Common\"\n",
    "    - unit = NULL"
   ]
  },
  {
   "cell_type": "code",
   "execution_count": null,
   "metadata": {
    "collapsed": true
   },
   "outputs": [],
   "source": [
    "# Create common_words\n",
    "common_words <- subset(all_tdm_m, all_tdm_m[, 1] > 0 & all_tdm_m[, 2] > 0)\n",
    "\n",
    "# Create difference\n",
    "difference <- abs(common_words[, 1] - common_words[, 2])\n",
    "\n",
    "# Add difference to common_words\n",
    "common_words <- cbind(common_words, difference)\n",
    "\n",
    "# Order the data frame from most differences to least\n",
    "common_words <- common_words[order(common_words[, 3],decreasing = TRUE), ]\n",
    "\n",
    "# Create top15_df\n",
    "top15_df <- data.frame(x = common_words[1:15, 1],\n",
    "y = common_words[1:15, 2],labels =rownames(common_words[1:15, ]))\n",
    "\n",
    "# Create the pyramid plot\n",
    "pyramid.plot(top15_df$x, top15_df$y,\n",
    "             labels = top15_df$labels, \n",
    "             gap = 12, \n",
    "             top.labels = c(\"Amzn\", \"Cons Words\", \"Google\"), \n",
    "             main = \"Words in Common\", \n",
    "             unit = NULL)"
   ]
  }
 ],
 "metadata": {
  "anaconda-cloud": {},
  "kernelspec": {
   "display_name": "R",
   "language": "R",
   "name": "ir"
  },
  "language_info": {
   "codemirror_mode": "r",
   "file_extension": ".r",
   "mimetype": "text/x-r-source",
   "name": "R",
   "pygments_lexer": "r",
   "version": "3.3.2"
  }
 },
 "nbformat": 4,
 "nbformat_minor": 1
}
