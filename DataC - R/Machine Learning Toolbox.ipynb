{
 "cells": [
  {
   "cell_type": "markdown",
   "metadata": {},
   "source": [
    "# In-sample RMSE for linear regression on diamonds"
   ]
  },
  {
   "cell_type": "markdown",
   "metadata": {},
   "source": [
    "As you saw in the video, included in the course is the diamonds dataset, which is a classic dataset from the ggplot2 package. The dataset contains physical attributes of diamonds as well as the price they sold for. One interesting modeling challenge is predicting diamond price based on their attributes using something like a linear regression.\n",
    "\n",
    "Recall that to fit a linear regression, you use the lm() function in the following format:\n",
    "\n",
    "mod <- lm(y ~ x, my_data)\n",
    "To make predictions using mod on the original data, you call the predict() function:\n",
    "\n",
    "pred <- predict(mod, my_data)"
   ]
  },
  {
   "cell_type": "markdown",
   "metadata": {},
   "source": [
    "Instructions\n",
    "Fit a linear model on the diamonds dataset predicting price using all other variables as predictors (i.e. price ~ .). Save the result to model.\n",
    "Make predictions using model on the full original dataset and save the result to p.\n",
    "Compute errors using the formula errors=predicted−actualerrors=predicted−actual. Save the result to error.\n",
    "Compute RMSE using the formula you learned in the video and print it to the console."
   ]
  },
  {
   "cell_type": "code",
   "execution_count": 1,
   "metadata": {
    "collapsed": false
   },
   "outputs": [
    {
     "data": {
      "text/html": [
       "<table>\n",
       "<thead><tr><th scope=col>carat</th><th scope=col>cut</th><th scope=col>color</th><th scope=col>clarity</th><th scope=col>depth</th><th scope=col>table</th><th scope=col>price</th><th scope=col>x</th><th scope=col>y</th><th scope=col>z</th></tr></thead>\n",
       "<tbody>\n",
       "\t<tr><td>0.23     </td><td>Ideal    </td><td>E        </td><td>SI2      </td><td>61.5     </td><td>55       </td><td>326      </td><td>3.95     </td><td>3.98     </td><td>2.43     </td></tr>\n",
       "\t<tr><td>0.21     </td><td>Premium  </td><td>E        </td><td>SI1      </td><td>59.8     </td><td>61       </td><td>326      </td><td>3.89     </td><td>3.84     </td><td>2.31     </td></tr>\n",
       "\t<tr><td>0.23     </td><td>Good     </td><td>E        </td><td>VS1      </td><td>56.9     </td><td>65       </td><td>327      </td><td>4.05     </td><td>4.07     </td><td>2.31     </td></tr>\n",
       "\t<tr><td>0.29     </td><td>Premium  </td><td>I        </td><td>VS2      </td><td>62.4     </td><td>58       </td><td>334      </td><td>4.20     </td><td>4.23     </td><td>2.63     </td></tr>\n",
       "\t<tr><td>0.31     </td><td>Good     </td><td>J        </td><td>SI2      </td><td>63.3     </td><td>58       </td><td>335      </td><td>4.34     </td><td>4.35     </td><td>2.75     </td></tr>\n",
       "\t<tr><td>0.24     </td><td>Very Good</td><td>J        </td><td>VVS2     </td><td>62.8     </td><td>57       </td><td>336      </td><td>3.94     </td><td>3.96     </td><td>2.48     </td></tr>\n",
       "</tbody>\n",
       "</table>\n"
      ],
      "text/latex": [
       "\\begin{tabular}{r|llllllllll}\n",
       " carat & cut & color & clarity & depth & table & price & x & y & z\\\\\n",
       "\\hline\n",
       "\t 0.23      & Ideal     & E         & SI2       & 61.5      & 55        & 326       & 3.95      & 3.98      & 2.43     \\\\\n",
       "\t 0.21      & Premium   & E         & SI1       & 59.8      & 61        & 326       & 3.89      & 3.84      & 2.31     \\\\\n",
       "\t 0.23      & Good      & E         & VS1       & 56.9      & 65        & 327       & 4.05      & 4.07      & 2.31     \\\\\n",
       "\t 0.29      & Premium   & I         & VS2       & 62.4      & 58        & 334       & 4.20      & 4.23      & 2.63     \\\\\n",
       "\t 0.31      & Good      & J         & SI2       & 63.3      & 58        & 335       & 4.34      & 4.35      & 2.75     \\\\\n",
       "\t 0.24      & Very Good & J         & VVS2      & 62.8      & 57        & 336       & 3.94      & 3.96      & 2.48     \\\\\n",
       "\\end{tabular}\n"
      ],
      "text/markdown": [
       "\n",
       "carat | cut | color | clarity | depth | table | price | x | y | z | \n",
       "|---|---|---|---|---|---|\n",
       "| 0.23      | Ideal     | E         | SI2       | 61.5      | 55        | 326       | 3.95      | 3.98      | 2.43      | \n",
       "| 0.21      | Premium   | E         | SI1       | 59.8      | 61        | 326       | 3.89      | 3.84      | 2.31      | \n",
       "| 0.23      | Good      | E         | VS1       | 56.9      | 65        | 327       | 4.05      | 4.07      | 2.31      | \n",
       "| 0.29      | Premium   | I         | VS2       | 62.4      | 58        | 334       | 4.20      | 4.23      | 2.63      | \n",
       "| 0.31      | Good      | J         | SI2       | 63.3      | 58        | 335       | 4.34      | 4.35      | 2.75      | \n",
       "| 0.24      | Very Good | J         | VVS2      | 62.8      | 57        | 336       | 3.94      | 3.96      | 2.48      | \n",
       "\n",
       "\n"
      ],
      "text/plain": [
       "  carat cut       color clarity depth table price x    y    z   \n",
       "1 0.23  Ideal     E     SI2     61.5  55    326   3.95 3.98 2.43\n",
       "2 0.21  Premium   E     SI1     59.8  61    326   3.89 3.84 2.31\n",
       "3 0.23  Good      E     VS1     56.9  65    327   4.05 4.07 2.31\n",
       "4 0.29  Premium   I     VS2     62.4  58    334   4.20 4.23 2.63\n",
       "5 0.31  Good      J     SI2     63.3  58    335   4.34 4.35 2.75\n",
       "6 0.24  Very Good J     VVS2    62.8  57    336   3.94 3.96 2.48"
      ]
     },
     "metadata": {},
     "output_type": "display_data"
    }
   ],
   "source": [
    "library(ggplot2)\n",
    "head(diamonds)"
   ]
  },
  {
   "cell_type": "code",
   "execution_count": 2,
   "metadata": {
    "collapsed": false
   },
   "outputs": [
    {
     "name": "stdout",
     "output_type": "stream",
     "text": [
      "[1] 1129.843\n"
     ]
    }
   ],
   "source": [
    "# Fit lm model: model\n",
    "model <- lm(price~., diamonds)\n",
    "\n",
    "# Predict on full data: p\n",
    "p <- predict(model, diamonds, type=\"response\")\n",
    "\n",
    "# Compute errors: error\n",
    "error = p-diamonds$price\n",
    "\n",
    "# Calculate RMSE\n",
    "print(sqrt(mean(error^2)))"
   ]
  },
  {
   "cell_type": "code",
   "execution_count": 3,
   "metadata": {
    "collapsed": true
   },
   "outputs": [],
   "source": [
    "rm(model)"
   ]
  },
  {
   "cell_type": "code",
   "execution_count": 9,
   "metadata": {
    "collapsed": false
   },
   "outputs": [
    {
     "name": "stdout",
     "output_type": "stream",
     "text": [
      "[1] 1129.843\n"
     ]
    }
   ],
   "source": [
    "# Fit lm model: model\n",
    "model <- lm(price~., diamonds)\n",
    "\n",
    "# Predict on full data: p\n",
    "p <- predict(model, diamonds[,-7], type=\"response\")\n",
    "\n",
    "# Compute errors: error\n",
    "error = p-diamonds$price\n",
    "\n",
    "# Calculate RMSE\n",
    "print(sqrt(mean(error^2)))"
   ]
  },
  {
   "cell_type": "code",
   "execution_count": 11,
   "metadata": {
    "collapsed": false
   },
   "outputs": [
    {
     "data": {
      "text/html": [
       "<table>\n",
       "<thead><tr><th scope=col>carat</th><th scope=col>cut</th><th scope=col>color</th><th scope=col>clarity</th><th scope=col>depth</th><th scope=col>table</th><th scope=col>x</th><th scope=col>y</th><th scope=col>z</th></tr></thead>\n",
       "<tbody>\n",
       "\t<tr><td>0.23     </td><td>Ideal    </td><td>E        </td><td>SI2      </td><td>61.5     </td><td>55       </td><td>3.95     </td><td>3.98     </td><td>2.43     </td></tr>\n",
       "\t<tr><td>0.21     </td><td>Premium  </td><td>E        </td><td>SI1      </td><td>59.8     </td><td>61       </td><td>3.89     </td><td>3.84     </td><td>2.31     </td></tr>\n",
       "\t<tr><td>0.23     </td><td>Good     </td><td>E        </td><td>VS1      </td><td>56.9     </td><td>65       </td><td>4.05     </td><td>4.07     </td><td>2.31     </td></tr>\n",
       "\t<tr><td>0.29     </td><td>Premium  </td><td>I        </td><td>VS2      </td><td>62.4     </td><td>58       </td><td>4.20     </td><td>4.23     </td><td>2.63     </td></tr>\n",
       "\t<tr><td>0.31     </td><td>Good     </td><td>J        </td><td>SI2      </td><td>63.3     </td><td>58       </td><td>4.34     </td><td>4.35     </td><td>2.75     </td></tr>\n",
       "\t<tr><td>0.24     </td><td>Very Good</td><td>J        </td><td>VVS2     </td><td>62.8     </td><td>57       </td><td>3.94     </td><td>3.96     </td><td>2.48     </td></tr>\n",
       "</tbody>\n",
       "</table>\n"
      ],
      "text/latex": [
       "\\begin{tabular}{r|lllllllll}\n",
       " carat & cut & color & clarity & depth & table & x & y & z\\\\\n",
       "\\hline\n",
       "\t 0.23      & Ideal     & E         & SI2       & 61.5      & 55        & 3.95      & 3.98      & 2.43     \\\\\n",
       "\t 0.21      & Premium   & E         & SI1       & 59.8      & 61        & 3.89      & 3.84      & 2.31     \\\\\n",
       "\t 0.23      & Good      & E         & VS1       & 56.9      & 65        & 4.05      & 4.07      & 2.31     \\\\\n",
       "\t 0.29      & Premium   & I         & VS2       & 62.4      & 58        & 4.20      & 4.23      & 2.63     \\\\\n",
       "\t 0.31      & Good      & J         & SI2       & 63.3      & 58        & 4.34      & 4.35      & 2.75     \\\\\n",
       "\t 0.24      & Very Good & J         & VVS2      & 62.8      & 57        & 3.94      & 3.96      & 2.48     \\\\\n",
       "\\end{tabular}\n"
      ],
      "text/markdown": [
       "\n",
       "carat | cut | color | clarity | depth | table | x | y | z | \n",
       "|---|---|---|---|---|---|\n",
       "| 0.23      | Ideal     | E         | SI2       | 61.5      | 55        | 3.95      | 3.98      | 2.43      | \n",
       "| 0.21      | Premium   | E         | SI1       | 59.8      | 61        | 3.89      | 3.84      | 2.31      | \n",
       "| 0.23      | Good      | E         | VS1       | 56.9      | 65        | 4.05      | 4.07      | 2.31      | \n",
       "| 0.29      | Premium   | I         | VS2       | 62.4      | 58        | 4.20      | 4.23      | 2.63      | \n",
       "| 0.31      | Good      | J         | SI2       | 63.3      | 58        | 4.34      | 4.35      | 2.75      | \n",
       "| 0.24      | Very Good | J         | VVS2      | 62.8      | 57        | 3.94      | 3.96      | 2.48      | \n",
       "\n",
       "\n"
      ],
      "text/plain": [
       "  carat cut       color clarity depth table x    y    z   \n",
       "1 0.23  Ideal     E     SI2     61.5  55    3.95 3.98 2.43\n",
       "2 0.21  Premium   E     SI1     59.8  61    3.89 3.84 2.31\n",
       "3 0.23  Good      E     VS1     56.9  65    4.05 4.07 2.31\n",
       "4 0.29  Premium   I     VS2     62.4  58    4.20 4.23 2.63\n",
       "5 0.31  Good      J     SI2     63.3  58    4.34 4.35 2.75\n",
       "6 0.24  Very Good J     VVS2    62.8  57    3.94 3.96 2.48"
      ]
     },
     "metadata": {},
     "output_type": "display_data"
    }
   ],
   "source": [
    "head(subset(diamonds, select = c(-price)))"
   ]
  },
  {
   "cell_type": "markdown",
   "metadata": {},
   "source": [
    "# Randomly order the data frame"
   ]
  },
  {
   "cell_type": "markdown",
   "metadata": {},
   "source": [
    "One way you can take a train/test split of a dataset is to order the dataset randomly, then divide it into the two sets. This ensures that the training set and test set are both random samples and that any biases in the ordering of the dataset (e.g. if it had originally been ordered by price or size) are not retained in the samples we take for training and testing your models. You can think of this like shuffling a brand new deck of playing cards before dealing hands.\n",
    "\n",
    "First, you set a random seed so that your work is reproducible and you get the same random split each time you run your script:\n",
    "\n",
    "set.seed(42)\n",
    "Next, you use the sample() function to shuffle the row indices of the diamonds dataset. You can later use these these indices to reorder the dataset.\n",
    "\n",
    "rows <- sample(nrow(diamonds))\n",
    "Finally, you can use this random vector to reorder the diamonds dataset:\n",
    "\n",
    "diamonds <- diamonds[rows, ]"
   ]
  },
  {
   "cell_type": "markdown",
   "metadata": {},
   "source": [
    "Instructions\n",
    "Set the random seed to 42.\n",
    "Make a vector of row indices called rows.\n",
    "Randomly reorder the diamonds data frame."
   ]
  },
  {
   "cell_type": "code",
   "execution_count": null,
   "metadata": {
    "collapsed": true
   },
   "outputs": [],
   "source": [
    "# Set seed\n",
    "set.seed(42)\n",
    "\n",
    "# Shuffle row indices: rows\n",
    "rows <- sample(nrow(diamonds))\n",
    "\n",
    "# Randomly order data\n",
    "diamonds <- diamonds[rows,]"
   ]
  },
  {
   "cell_type": "markdown",
   "metadata": {},
   "source": [
    "Try an 80/20 split\n",
    "100xp\n",
    "Now that your dataset is randomly ordered, you can split the first 80% of it into a training set, and the last 20% into a test set. You can do this by choosing a split point approximately 80% of the way through your data:\n",
    "\n",
    "split <- round(nrow(mydata) * .80)\n",
    "You can then use this point to break off the first 80% of the dataset as a training set:\n",
    "\n",
    "mydata[1:split, ]\n",
    "And then you can use that same point to determine the test set:\n",
    "\n",
    "mydata[(split + 1):nrow(mydata), ]\n",
    "Instructions\n",
    "Choose a row index to split on so that the split point is approximately 80% of the way through the diamonds dataset. Call this index split.\n",
    "Create a training set called train using that index.\n",
    "Create a test set called test using that index."
   ]
  },
  {
   "cell_type": "code",
   "execution_count": 1,
   "metadata": {
    "collapsed": true
   },
   "outputs": [],
   "source": [
    "library(ggplot2)"
   ]
  },
  {
   "cell_type": "code",
   "execution_count": 2,
   "metadata": {
    "collapsed": true
   },
   "outputs": [],
   "source": [
    "# Determine row to split on: split\n",
    "split <- round(nrow(diamonds) * .80)\n",
    "\n",
    "# Create train\n",
    "train <- diamonds[1:split,]\n",
    "\n",
    "# Create test\n",
    "test <- diamonds[(split+1):nrow(diamonds),]"
   ]
  },
  {
   "cell_type": "markdown",
   "metadata": {},
   "source": [
    "Predict on test set\n",
    "100xp\n",
    "Now that you have a randomly split training set and test set, you can use the lm() function as you did in the first exercise to fit a model to your training set, rather than the entire dataset. Recall that you can use the formula interface to the linear regression function to fit a model with a specified target variable using all other variables in the dataset as predictors:\n",
    "\n",
    "mod <- lm(y ~ ., training_data)\n",
    "You can use the predict() function to make predictions from that model on new data. The new dataset must have all of the columns from the training data, but they can be in a different order with different values. Here, rather than re-predicting on the training set, you can predict on the test set, which you did not use for training the model. This will allow you to determine the out-of-sample error for the model in the next exercise:\n",
    "\n",
    "p <- predict(model, new_data)\n",
    "Instructions\n",
    "Fit an lm() model called model to predict price using all other variables as covariates. Be sure to use the training set, train.\n",
    "Predict on the test set, test, using predict(). Store these values in a vector called p."
   ]
  },
  {
   "cell_type": "code",
   "execution_count": 3,
   "metadata": {
    "collapsed": true
   },
   "outputs": [],
   "source": [
    "# Fit lm model on train: model\n",
    "model = lm(price~., train)\n",
    "\n",
    "# Predict on test: p\n",
    "p <- predict(model, test)"
   ]
  },
  {
   "cell_type": "markdown",
   "metadata": {},
   "source": [
    "Calculate test set RMSE by hand\n",
    "100xp\n",
    "Now that you have predictions on the test set, you can use these predictions to calculate an error metric (in this case RMSE) on the test set and see how the model performs out-of-sample, rather than in-sample as you did in the first exercise. You first do this by calculating the errors between the predicted diamond prices and the actual diamond prices by subtracting the predictions from the actual values.\n",
    "\n",
    "Once you have an error vector, calculating RMSE is as simple as squaring it, taking the mean, then taking the square root:\n",
    "\n",
    "sqrt(mean(error^2))\n",
    "Instructions\n",
    "test, model, and p are loaded in your workspace.\n",
    "\n",
    "Calculate the error between the predictions on the test set and the actual diamond prices in the test set. Call this error.\n",
    "Calculate RMSE using this error vector, just printing the result to the console."
   ]
  },
  {
   "cell_type": "code",
   "execution_count": 4,
   "metadata": {
    "collapsed": false
   },
   "outputs": [
    {
     "name": "stdout",
     "output_type": "stream",
     "text": [
      "[1] 796.8922\n"
     ]
    }
   ],
   "source": [
    "# Compute errors: error\n",
    "error <- p-test$price\n",
    "\n",
    "# Calculate RMSE\n",
    "print(sqrt(mean(error^2)))"
   ]
  },
  {
   "cell_type": "markdown",
   "metadata": {},
   "source": [
    "# Cross-validation"
   ]
  },
  {
   "cell_type": "markdown",
   "metadata": {},
   "source": [
    "Advantage of cross-validation\n",
    "50xp\n",
    "What is the advantage of cross-validation over a single train/test split?\n",
    "\n",
    "Correct! If all of your estimates give similar outputs, you can be more certain of the model's accuracy. If your estimates give different outputs, that tells you the model does not perform consistently and suggests a problem with it."
   ]
  },
  {
   "cell_type": "markdown",
   "metadata": {},
   "source": [
    "### 10-fold cross-validation\n",
    "100xp\n",
    "As you saw in the video, a better approach to validating models is to use multiple systematic test sets, rather than a single random train/test split. Fortunately, the caret package makes this very easy to do:\n",
    "\n",
    "model <- train(y ~ ., my_data)\n",
    "caret supports many types of cross-validation, and you can specify which type of cross-validation and the number of cross-validation folds with the trainControl() function, which you pass to the trControl argument in train():\n",
    "\n",
    "model <- train(\n",
    "  y ~ ., my_data,\n",
    "  method = \"lm\",\n",
    "  trControl = trainControl(\n",
    "    method = \"cv\", number = 10,\n",
    "    verboseIter = TRUE\n",
    "  )\n",
    ")\n",
    "It's important to note that you pass the method for modeling to the main train() function and the method for cross-validation to the trainControl() function.\n",
    "\n",
    "Instructions\n",
    "Fit a linear regression to model price using all other variables in the diamonds dataset as predictors. Use the train() function and 10-fold cross-validation. (Note that we've taken a subset of the full diamonds dataset to speed up this operation, but it's still named diamonds.)\n",
    "Print the model to the console and examine the results."
   ]
  },
  {
   "cell_type": "code",
   "execution_count": 6,
   "metadata": {
    "collapsed": false
   },
   "outputs": [
    {
     "name": "stderr",
     "output_type": "stream",
     "text": [
      "Loading required package: lattice\n"
     ]
    }
   ],
   "source": [
    "library(caret)"
   ]
  },
  {
   "cell_type": "code",
   "execution_count": 7,
   "metadata": {
    "collapsed": false
   },
   "outputs": [
    {
     "name": "stdout",
     "output_type": "stream",
     "text": [
      "+ Fold01: intercept=TRUE \n",
      "- Fold01: intercept=TRUE \n",
      "+ Fold02: intercept=TRUE \n",
      "- Fold02: intercept=TRUE \n",
      "+ Fold03: intercept=TRUE \n",
      "- Fold03: intercept=TRUE \n",
      "+ Fold04: intercept=TRUE \n",
      "- Fold04: intercept=TRUE \n",
      "+ Fold05: intercept=TRUE \n",
      "- Fold05: intercept=TRUE \n",
      "+ Fold06: intercept=TRUE \n",
      "- Fold06: intercept=TRUE \n",
      "+ Fold07: intercept=TRUE \n",
      "- Fold07: intercept=TRUE \n",
      "+ Fold08: intercept=TRUE \n",
      "- Fold08: intercept=TRUE \n",
      "+ Fold09: intercept=TRUE \n",
      "- Fold09: intercept=TRUE \n",
      "+ Fold10: intercept=TRUE \n",
      "- Fold10: intercept=TRUE \n",
      "Aggregating results\n",
      "Fitting final model on full training set\n",
      "Linear Regression \n",
      "\n",
      "53940 samples\n",
      "    9 predictor\n",
      "\n",
      "No pre-processing\n",
      "Resampling: Cross-Validated (10 fold) \n",
      "Summary of sample sizes: 48547, 48545, 48547, 48546, 48546, 48546, ... \n",
      "Resampling results:\n",
      "\n",
      "  RMSE      Rsquared \n",
      "  1130.893  0.9196817\n",
      "\n",
      "Tuning parameter 'intercept' was held constant at a value of TRUE\n",
      " \n"
     ]
    }
   ],
   "source": [
    "# Fit lm model using 10-fold CV: model\n",
    "model <- train(\n",
    "  price~., diamonds,\n",
    "  method = \"lm\",\n",
    "  trControl = trainControl(\n",
    "    method = \"cv\", number = 10,\n",
    "    verboseIter = TRUE\n",
    "  )\n",
    ")\n",
    "\n",
    "# Print model to console\n",
    "print(model)"
   ]
  },
  {
   "cell_type": "markdown",
   "metadata": {},
   "source": [
    "### 5-fold cross-validation\n",
    "100xp\n",
    "In this course, you will use a wide variety of datasets to explore the full flexibility of the caret package. Here, you will use the famous Boston housing dataset, where the goal is to predict median home values in various Boston suburbs.\n",
    "\n",
    "You can use exactly the same code as in the previous exercise, but change the dataset used by the model:\n",
    "\n",
    "model <- train(\n",
    "  medv ~ ., Boston,\n",
    "  method = \"lm\",\n",
    "  trControl = trainControl(\n",
    "    method = \"cv\", number = 10,\n",
    "    verboseIter = TRUE\n",
    "  )\n",
    ")\n",
    "Next, you can reduce the number of cross-validation folds from 10 to 5 using the number argument to the trainControl() argument:\n",
    "\n",
    "trControl = trainControl(\n",
    "  method = \"cv\", number = 5,\n",
    "  verboseIter = TRUE\n",
    ")\n",
    "Instructions\n",
    "Fit an lm() model to the Boston housing dataset, such that medv is the response variable and all other variables are explanatory variables.\n",
    "Use 5-fold cross-validation rather than 10-fold cross-validation.\n",
    "Print the model to the console and inspect the results."
   ]
  },
  {
   "cell_type": "code",
   "execution_count": null,
   "metadata": {
    "collapsed": true
   },
   "outputs": [],
   "source": [
    "# Fit lm model using 5-fold CV: model\n",
    "model <- train(\n",
    "  medv~., Boston,\n",
    "  method = \"lm\",\n",
    "  trControl = trainControl(\n",
    "    method = \"cv\", number = 5,\n",
    "    verboseIter = TRUE\n",
    "  )\n",
    ")\n",
    "\n",
    "# Print model to console\n",
    "print(model)"
   ]
  },
  {
   "cell_type": "markdown",
   "metadata": {},
   "source": [
    "### 5 x 5-fold cross-validation\n",
    "100xp\n",
    "You can do more than just one iteration of cross-validation. Repeated cross-validation gives you a better estimate of the test-set error. You can also repeat the entire cross-validation procedure. This takes longer, but gives you many more out-of-sample datasets to look at and much more precise assessments of how well the model performs.\n",
    "\n",
    "One of the awesome things about the train() function in caret is how easy it is to run very different models or methods of cross-validation just by tweaking a few simple arguments to the function call. For example, you could repeat your entire cross-validation procedure 5 times for greater confidence in your estimates of the model's out-of-sample accuracy, e.g.:\n",
    "\n",
    "trControl = trainControl(\n",
    "  method = \"cv\", number = 5,\n",
    "  repeats = 5, verboseIter = TRUE\n",
    ")\n",
    "Instructions\n",
    "Re-fit the linear regression model to the Boston housing dataset.\n",
    "Use 5 repeats of 5-fold cross-validation.\n",
    "Print the model to the console."
   ]
  },
  {
   "cell_type": "code",
   "execution_count": 12,
   "metadata": {
    "collapsed": false
   },
   "outputs": [
    {
     "name": "stdout",
     "output_type": "stream",
     "text": [
      "+ Fold1: intercept=TRUE \n",
      "- Fold1: intercept=TRUE \n",
      "+ Fold2: intercept=TRUE \n",
      "- Fold2: intercept=TRUE \n",
      "+ Fold3: intercept=TRUE \n",
      "- Fold3: intercept=TRUE \n",
      "+ Fold4: intercept=TRUE \n",
      "- Fold4: intercept=TRUE \n",
      "+ Fold5: intercept=TRUE \n",
      "- Fold5: intercept=TRUE \n",
      "Aggregating results\n",
      "Fitting final model on full training set\n",
      "Linear Regression \n",
      "\n",
      "506 samples\n",
      " 13 predictor\n",
      "\n",
      "No pre-processing\n",
      "Resampling: Cross-Validated (5 fold) \n",
      "Summary of sample sizes: 404, 405, 405, 404, 406 \n",
      "Resampling results:\n",
      "\n",
      "  RMSE      Rsquared \n",
      "  4.787659  0.7290551\n",
      "\n",
      "Tuning parameter 'intercept' was held constant at a value of TRUE\n",
      " \n"
     ]
    }
   ],
   "source": [
    "library(MASS)\n",
    "data(Boston)\n",
    "# Fit lm model using 5 x 5-fold CV: model\n",
    "model <- train(\n",
    "  medv ~ ., Boston,\n",
    "  method = \"lm\",\n",
    "  trControl = trainControl(\n",
    "    method = \"cv\", number = 5,\n",
    "    repeats = 5, verboseIter = TRUE\n",
    "  )\n",
    ")\n",
    "\n",
    "# Print model to console\n",
    "print(model)"
   ]
  },
  {
   "cell_type": "markdown",
   "metadata": {},
   "source": [
    "Making predictions on new data\n",
    "100xp\n",
    "Finally, the model you fit with the train() function has the exact same predict() interface as the linear regression models you fit earlier in this chapter.\n",
    "\n",
    "After fitting a model with train(), you can simply call predict() with new data, e.g:\n",
    "\n",
    "predict(my_model, new_data)\n",
    "Instructions\n",
    "Use the predict() function to make predictions with model on the full Boston housing dataset. Print the result to the console."
   ]
  },
  {
   "cell_type": "code",
   "execution_count": null,
   "metadata": {
    "collapsed": true
   },
   "outputs": [],
   "source": [
    "# Predict on full Boston dataset\n",
    "predict(model, Boston)"
   ]
  },
  {
   "cell_type": "markdown",
   "metadata": {},
   "source": [
    "# Logistic regression on sonar"
   ]
  },
  {
   "cell_type": "markdown",
   "metadata": {},
   "source": [
    "Try a 60/40 split\n",
    "100xp\n",
    "As you saw in the video, you'll be working with the Sonar dataset in this chapter, using a 60% training set and a 40% test set. We'll practice making a train/test split one more time, just to be sure you have the hang of it. Recall that you can use the sample() function to get a random permutation of the row indices in a dataset, to use when making train/test splits, e.g.:\n",
    "\n",
    "rows <- sample(nrow(my_data))\n",
    "And then use those row indices to randomly reorder the dataset, e.g.:\n",
    "\n",
    "my_data <- my_data[rows, ]\n",
    "Once your dataset is randomly ordered, you can split off the first 60% as a training set and the last 40% as a test set.\n",
    "\n",
    "Instructions\n",
    "Shuffle the row indices of Sonar and store the result in rows.\n",
    "Use rows to randomly reorder the rows of Sonar.\n",
    "Identify the proper row to split on for a 60/40 split. Store this row number as split.\n",
    "Save the first 60% as a training set.\n",
    "Save the last 40% as the test set."
   ]
  },
  {
   "cell_type": "code",
   "execution_count": 15,
   "metadata": {
    "collapsed": false
   },
   "outputs": [
    {
     "data": {
      "text/html": [
       "<table>\n",
       "<thead><tr><th scope=col>V1</th><th scope=col>V2</th><th scope=col>V3</th><th scope=col>V4</th><th scope=col>V5</th><th scope=col>V6</th><th scope=col>V7</th><th scope=col>V8</th><th scope=col>V9</th><th scope=col>V10</th><th scope=col>...</th><th scope=col>V52</th><th scope=col>V53</th><th scope=col>V54</th><th scope=col>V55</th><th scope=col>V56</th><th scope=col>V57</th><th scope=col>V58</th><th scope=col>V59</th><th scope=col>V60</th><th scope=col>Class</th></tr></thead>\n",
       "<tbody>\n",
       "\t<tr><td>0.0200</td><td>0.0371</td><td>0.0428</td><td>0.0207</td><td>0.0954</td><td>0.0986</td><td>0.1539</td><td>0.1601</td><td>0.3109</td><td>0.2111</td><td>...   </td><td>0.0027</td><td>0.0065</td><td>0.0159</td><td>0.0072</td><td>0.0167</td><td>0.0180</td><td>0.0084</td><td>0.0090</td><td>0.0032</td><td>R     </td></tr>\n",
       "\t<tr><td>0.0453</td><td>0.0523</td><td>0.0843</td><td>0.0689</td><td>0.1183</td><td>0.2583</td><td>0.2156</td><td>0.3481</td><td>0.3337</td><td>0.2872</td><td>...   </td><td>0.0084</td><td>0.0089</td><td>0.0048</td><td>0.0094</td><td>0.0191</td><td>0.0140</td><td>0.0049</td><td>0.0052</td><td>0.0044</td><td>R     </td></tr>\n",
       "\t<tr><td>0.0262</td><td>0.0582</td><td>0.1099</td><td>0.1083</td><td>0.0974</td><td>0.2280</td><td>0.2431</td><td>0.3771</td><td>0.5598</td><td>0.6194</td><td>...   </td><td>0.0232</td><td>0.0166</td><td>0.0095</td><td>0.0180</td><td>0.0244</td><td>0.0316</td><td>0.0164</td><td>0.0095</td><td>0.0078</td><td>R     </td></tr>\n",
       "\t<tr><td>0.0100</td><td>0.0171</td><td>0.0623</td><td>0.0205</td><td>0.0205</td><td>0.0368</td><td>0.1098</td><td>0.1276</td><td>0.0598</td><td>0.1264</td><td>...   </td><td>0.0121</td><td>0.0036</td><td>0.0150</td><td>0.0085</td><td>0.0073</td><td>0.0050</td><td>0.0044</td><td>0.0040</td><td>0.0117</td><td>R     </td></tr>\n",
       "\t<tr><td>0.0762</td><td>0.0666</td><td>0.0481</td><td>0.0394</td><td>0.0590</td><td>0.0649</td><td>0.1209</td><td>0.2467</td><td>0.3564</td><td>0.4459</td><td>...   </td><td>0.0031</td><td>0.0054</td><td>0.0105</td><td>0.0110</td><td>0.0015</td><td>0.0072</td><td>0.0048</td><td>0.0107</td><td>0.0094</td><td>R     </td></tr>\n",
       "\t<tr><td>0.0286</td><td>0.0453</td><td>0.0277</td><td>0.0174</td><td>0.0384</td><td>0.0990</td><td>0.1201</td><td>0.1833</td><td>0.2105</td><td>0.3039</td><td>...   </td><td>0.0045</td><td>0.0014</td><td>0.0038</td><td>0.0013</td><td>0.0089</td><td>0.0057</td><td>0.0027</td><td>0.0051</td><td>0.0062</td><td>R     </td></tr>\n",
       "</tbody>\n",
       "</table>\n"
      ],
      "text/latex": [
       "\\begin{tabular}{r|lllllllllllllllllllllllllllllllllllllllllllllllllllllllllllll}\n",
       " V1 & V2 & V3 & V4 & V5 & V6 & V7 & V8 & V9 & V10 & ... & V52 & V53 & V54 & V55 & V56 & V57 & V58 & V59 & V60 & Class\\\\\n",
       "\\hline\n",
       "\t 0.0200 & 0.0371 & 0.0428 & 0.0207 & 0.0954 & 0.0986 & 0.1539 & 0.1601 & 0.3109 & 0.2111 & ...    & 0.0027 & 0.0065 & 0.0159 & 0.0072 & 0.0167 & 0.0180 & 0.0084 & 0.0090 & 0.0032 & R     \\\\\n",
       "\t 0.0453 & 0.0523 & 0.0843 & 0.0689 & 0.1183 & 0.2583 & 0.2156 & 0.3481 & 0.3337 & 0.2872 & ...    & 0.0084 & 0.0089 & 0.0048 & 0.0094 & 0.0191 & 0.0140 & 0.0049 & 0.0052 & 0.0044 & R     \\\\\n",
       "\t 0.0262 & 0.0582 & 0.1099 & 0.1083 & 0.0974 & 0.2280 & 0.2431 & 0.3771 & 0.5598 & 0.6194 & ...    & 0.0232 & 0.0166 & 0.0095 & 0.0180 & 0.0244 & 0.0316 & 0.0164 & 0.0095 & 0.0078 & R     \\\\\n",
       "\t 0.0100 & 0.0171 & 0.0623 & 0.0205 & 0.0205 & 0.0368 & 0.1098 & 0.1276 & 0.0598 & 0.1264 & ...    & 0.0121 & 0.0036 & 0.0150 & 0.0085 & 0.0073 & 0.0050 & 0.0044 & 0.0040 & 0.0117 & R     \\\\\n",
       "\t 0.0762 & 0.0666 & 0.0481 & 0.0394 & 0.0590 & 0.0649 & 0.1209 & 0.2467 & 0.3564 & 0.4459 & ...    & 0.0031 & 0.0054 & 0.0105 & 0.0110 & 0.0015 & 0.0072 & 0.0048 & 0.0107 & 0.0094 & R     \\\\\n",
       "\t 0.0286 & 0.0453 & 0.0277 & 0.0174 & 0.0384 & 0.0990 & 0.1201 & 0.1833 & 0.2105 & 0.3039 & ...    & 0.0045 & 0.0014 & 0.0038 & 0.0013 & 0.0089 & 0.0057 & 0.0027 & 0.0051 & 0.0062 & R     \\\\\n",
       "\\end{tabular}\n"
      ],
      "text/markdown": [
       "\n",
       "V1 | V2 | V3 | V4 | V5 | V6 | V7 | V8 | V9 | V10 | ... | V52 | V53 | V54 | V55 | V56 | V57 | V58 | V59 | V60 | Class | \n",
       "|---|---|---|---|---|---|\n",
       "| 0.0200 | 0.0371 | 0.0428 | 0.0207 | 0.0954 | 0.0986 | 0.1539 | 0.1601 | 0.3109 | 0.2111 | ...    | 0.0027 | 0.0065 | 0.0159 | 0.0072 | 0.0167 | 0.0180 | 0.0084 | 0.0090 | 0.0032 | R      | \n",
       "| 0.0453 | 0.0523 | 0.0843 | 0.0689 | 0.1183 | 0.2583 | 0.2156 | 0.3481 | 0.3337 | 0.2872 | ...    | 0.0084 | 0.0089 | 0.0048 | 0.0094 | 0.0191 | 0.0140 | 0.0049 | 0.0052 | 0.0044 | R      | \n",
       "| 0.0262 | 0.0582 | 0.1099 | 0.1083 | 0.0974 | 0.2280 | 0.2431 | 0.3771 | 0.5598 | 0.6194 | ...    | 0.0232 | 0.0166 | 0.0095 | 0.0180 | 0.0244 | 0.0316 | 0.0164 | 0.0095 | 0.0078 | R      | \n",
       "| 0.0100 | 0.0171 | 0.0623 | 0.0205 | 0.0205 | 0.0368 | 0.1098 | 0.1276 | 0.0598 | 0.1264 | ...    | 0.0121 | 0.0036 | 0.0150 | 0.0085 | 0.0073 | 0.0050 | 0.0044 | 0.0040 | 0.0117 | R      | \n",
       "| 0.0762 | 0.0666 | 0.0481 | 0.0394 | 0.0590 | 0.0649 | 0.1209 | 0.2467 | 0.3564 | 0.4459 | ...    | 0.0031 | 0.0054 | 0.0105 | 0.0110 | 0.0015 | 0.0072 | 0.0048 | 0.0107 | 0.0094 | R      | \n",
       "| 0.0286 | 0.0453 | 0.0277 | 0.0174 | 0.0384 | 0.0990 | 0.1201 | 0.1833 | 0.2105 | 0.3039 | ...    | 0.0045 | 0.0014 | 0.0038 | 0.0013 | 0.0089 | 0.0057 | 0.0027 | 0.0051 | 0.0062 | R      | \n",
       "\n",
       "\n"
      ],
      "text/plain": [
       "  V1     V2     V3     V4     V5     V6     V7     V8     V9     V10    ...\n",
       "1 0.0200 0.0371 0.0428 0.0207 0.0954 0.0986 0.1539 0.1601 0.3109 0.2111 ...\n",
       "2 0.0453 0.0523 0.0843 0.0689 0.1183 0.2583 0.2156 0.3481 0.3337 0.2872 ...\n",
       "3 0.0262 0.0582 0.1099 0.1083 0.0974 0.2280 0.2431 0.3771 0.5598 0.6194 ...\n",
       "4 0.0100 0.0171 0.0623 0.0205 0.0205 0.0368 0.1098 0.1276 0.0598 0.1264 ...\n",
       "5 0.0762 0.0666 0.0481 0.0394 0.0590 0.0649 0.1209 0.2467 0.3564 0.4459 ...\n",
       "6 0.0286 0.0453 0.0277 0.0174 0.0384 0.0990 0.1201 0.1833 0.2105 0.3039 ...\n",
       "  V52    V53    V54    V55    V56    V57    V58    V59    V60    Class\n",
       "1 0.0027 0.0065 0.0159 0.0072 0.0167 0.0180 0.0084 0.0090 0.0032 R    \n",
       "2 0.0084 0.0089 0.0048 0.0094 0.0191 0.0140 0.0049 0.0052 0.0044 R    \n",
       "3 0.0232 0.0166 0.0095 0.0180 0.0244 0.0316 0.0164 0.0095 0.0078 R    \n",
       "4 0.0121 0.0036 0.0150 0.0085 0.0073 0.0050 0.0044 0.0040 0.0117 R    \n",
       "5 0.0031 0.0054 0.0105 0.0110 0.0015 0.0072 0.0048 0.0107 0.0094 R    \n",
       "6 0.0045 0.0014 0.0038 0.0013 0.0089 0.0057 0.0027 0.0051 0.0062 R    "
      ]
     },
     "metadata": {},
     "output_type": "display_data"
    }
   ],
   "source": [
    "library(mlbench)\n",
    "data(Sonar)\n",
    "head(Sonar)"
   ]
  },
  {
   "cell_type": "code",
   "execution_count": 19,
   "metadata": {
    "collapsed": true
   },
   "outputs": [],
   "source": [
    "# Set seed\n",
    "set.seed(42)"
   ]
  },
  {
   "cell_type": "code",
   "execution_count": 20,
   "metadata": {
    "collapsed": false
   },
   "outputs": [],
   "source": [
    "# Shuffle row indices: rows\n",
    "rows <- sample(nrow(Sonar))\n",
    "\n",
    "# Randomly order data: Sonar\n",
    "Sonar <- Sonar[rows,]\n",
    "\n",
    "# Identify row to split on: split\n",
    "split <- round(nrow(Sonar) * 0.6)\n",
    "\n",
    "# Create train\n",
    "train <- Sonar[1:split,]\n",
    "\n",
    "# Create test\n",
    "test <- Sonar[(split+1):nrow(Sonar),]"
   ]
  },
  {
   "cell_type": "markdown",
   "metadata": {},
   "source": [
    "Fit a logistic regression model\n",
    "100xp\n",
    "Once you have your random training and test sets you can fit a logistic regression model to your training set using the glm() function. glm() is a more advanced version of lm() that allows for more varied types of regression models, aside from plain vanilla ordinary least squares regression.\n",
    "\n",
    "Be sure to pass the argument family = \"binomial\" to glm() to specify that you want to do logistic (rather than linear) regression. For example:\n",
    "\n",
    "glm(Target ~ ., family = \"binomial\", dataset)\n",
    "Don't worry about warnings like glm.fit: algorithm did not converge or glm.fit: fitted probabilities numerically 0 or 1 occurred. These are common on smaller datasets and usually don't cause any issues. They typically mean your dataset is perfectly seperable, which can cause problems for the math behind the model, but R's glm() function is almost always robust enough to handle this case with no problems.\n",
    "\n",
    "Once you have a glm() model fit to your dataset, you can predict the outcome (e.g. rock or mine) on the test set using the predict() function with the argument type = \"response\":\n",
    "\n",
    "predict(my_model, test, type = \"response\")\n",
    "Instructions\n",
    "Fit a logistic regression called model to predict Class using all other variables as predictors. Use the training set for Sonar.\n",
    "Predict on the test set using that model. Call the result p like you've done before."
   ]
  },
  {
   "cell_type": "code",
   "execution_count": 21,
   "metadata": {
    "collapsed": false
   },
   "outputs": [
    {
     "name": "stderr",
     "output_type": "stream",
     "text": [
      "Warning message:\n",
      "\"glm.fit: algorithm did not converge\"Warning message:\n",
      "\"glm.fit: fitted probabilities numerically 0 or 1 occurred\""
     ]
    }
   ],
   "source": [
    "# Fit glm model: model\n",
    "model <- glm(Class~., family=\"binomial\", train)\n",
    "\n",
    "# Predict on test: p\n",
    "p <- predict(model, test, type=\"response\")"
   ]
  },
  {
   "cell_type": "markdown",
   "metadata": {},
   "source": [
    "# Confusion matrix"
   ]
  },
  {
   "cell_type": "markdown",
   "metadata": {},
   "source": [
    "Calculate a confusion matrix\n",
    "100xp\n",
    "As you saw in the video, a confusion matrix is a very useful tool for calibrating the output of a model and examining all possible outcomes of your predictions (true postive, true negative, false positive, false negative).\n",
    "\n",
    "Before you make your confusion matrix, you need to \"cut\" your predicted probabilities at a given threshold to turn probabilities into class predictions. You can do this easily with the ifelse() function, e.g.:\n",
    "\n",
    "class_prediction <-\n",
    "  ifelse(probability_prediction > 0.50,\n",
    "         \"positive_class\",\n",
    "         \"negative_class\"\n",
    "  )\n",
    "You could make such a contingency table with the table() function in base R, but confusionMatrix() in caret yields a lot of useful ancillary statistics in addition to the base rates in the table. You can calculate the confusion matrix (and the associated statistics) using the predicted outcomes as well as the actual outcomes, e.g.:\n",
    "\n",
    "confusionMatrix(predicted, actual)\n",
    "Instructions\n",
    "Turn the numeric predictions p into a vector of class predictions called p_class, using a prediction cutoff of 0.50. Make sure to use \"M\" for the positive class and \"R\" for the negative class when making predictions, to match the classes in the original data.\n",
    "Make a confusion matrix using p_class, the actual values in the test set, and the confusionMatrix() function."
   ]
  },
  {
   "cell_type": "code",
   "execution_count": 22,
   "metadata": {
    "collapsed": false
   },
   "outputs": [
    {
     "data": {
      "text/plain": [
       "Confusion Matrix and Statistics\n",
       "\n",
       "          Reference\n",
       "Prediction  M  R\n",
       "         M 11 22\n",
       "         R 34 16\n",
       "                                         \n",
       "               Accuracy : 0.3253         \n",
       "                 95% CI : (0.2265, 0.437)\n",
       "    No Information Rate : 0.5422         \n",
       "    P-Value [Acc > NIR] : 1.0000         \n",
       "                                         \n",
       "                  Kappa : -0.3265        \n",
       " Mcnemar's Test P-Value : 0.1416         \n",
       "                                         \n",
       "            Sensitivity : 0.2444         \n",
       "            Specificity : 0.4211         \n",
       "         Pos Pred Value : 0.3333         \n",
       "         Neg Pred Value : 0.3200         \n",
       "             Prevalence : 0.5422         \n",
       "         Detection Rate : 0.1325         \n",
       "   Detection Prevalence : 0.3976         \n",
       "      Balanced Accuracy : 0.3327         \n",
       "                                         \n",
       "       'Positive' Class : M              \n",
       "                                         "
      ]
     },
     "metadata": {},
     "output_type": "display_data"
    }
   ],
   "source": [
    "# Calculate class probabilities: p_class\n",
    "p_class <- ifelse(p > 0.50, \"M\",\"R\")\n",
    "\n",
    "# Create confusion matrix\n",
    "confusionMatrix(p_class, test$Class)"
   ]
  },
  {
   "cell_type": "markdown",
   "metadata": {},
   "source": [
    "### Calculating accuracy\n",
    "50xp\n",
    "Use confusionMatrix(p_class, test[[\"Class\"]]) to calculate a confusion matrix on the test set.\n",
    "\n",
    "What is the test set accuracy of this model (rounded to the nearest percent)?"
   ]
  },
  {
   "cell_type": "markdown",
   "metadata": {},
   "source": [
    "70%"
   ]
  },
  {
   "cell_type": "markdown",
   "metadata": {},
   "source": [
    "### Calculating true postive rate\n",
    "50xp\n",
    "Use confusionMatrix(p_class, test[[\"Class\"]]) to calculate a confusion matrix on the test set.\n",
    "\n",
    "What is the test set true positive rate (or sensitivity) of this model (rounded to the nearest percent)?"
   ]
  },
  {
   "cell_type": "markdown",
   "metadata": {},
   "source": [
    "83%"
   ]
  },
  {
   "cell_type": "markdown",
   "metadata": {},
   "source": [
    "### Calculating true negative rate\n",
    "50xp\n",
    "Use confusionMatrix(p_class, test[[\"Class\"]]) to calculate a confusion matrix on the test set.\n",
    "\n",
    "What is the test set true negative rate (or specificity) of this model (rounded to the nearest percent)?"
   ]
  },
  {
   "cell_type": "markdown",
   "metadata": {},
   "source": [
    "51%"
   ]
  },
  {
   "cell_type": "markdown",
   "metadata": {},
   "source": [
    "Probabilities and classes\n",
    "50xp\n",
    "What's the relationship between the predicted probabilities and the predicted classes?\n",
    "\n",
    "You determine the predicted probabilities by looking at the average accuracy of the predicted classes.\n",
    "1\n",
    "There is no relationship; they're completely different things.\n",
    "2\n",
    "Predicted classes are based off of predicted probabilities plus a classification threshold.(Correct)"
   ]
  },
  {
   "cell_type": "markdown",
   "metadata": {},
   "source": [
    "Try another threshold\n",
    "100xp\n",
    "In the previous exercises, you used a threshold of 0.50 to cut your predicted probabilities to make class predictions (rock vs mine). However, this classification threshold does not always align with the goals for a given modeling problem.\n",
    "\n",
    "For example, pretend you want to identify the objects you are really certain are mines. In this case, you might want to use a probability threshold of 0.90 to get fewer predicted mines, but with greater confidence in each prediction.\n",
    "\n",
    "In this exercise, you will simply look at the highly likely mines, which you can isolate using the ifelse() function in R:\n",
    "\n",
    "pred <- ifelse(probability > threshold, \"M\", \"R\")\n",
    "You can then call the confusionMatrix() function in the same way as in the previous exercise.\n",
    "\n",
    "confusionMatrix(pred, actual)\n",
    "Instructions\n",
    "Turn the numeric predictions p into a vector of class predictions called p_class, using a prediction cutoff of 0.90.\n",
    "Make sure to use \"M\" for the positive class and \"R\" for the negative class when making predictions, to match the classes in the original data.\n",
    "Make a confusion matrix using p_class, the actual values from the test set, and the confusionMatrix() function."
   ]
  },
  {
   "cell_type": "code",
   "execution_count": null,
   "metadata": {
    "collapsed": true
   },
   "outputs": [],
   "source": [
    "# Apply threshold of 0.9: p_class\n",
    "p_class <- ifelse(p > 0.9, \"M\",\"R\")\n",
    "\n",
    "# Create confusion matrix\n",
    "confusionMatrix(p_class, test$Class)"
   ]
  },
  {
   "cell_type": "markdown",
   "metadata": {},
   "source": [
    "From probabilites to confusion matrix\n",
    "100xp\n",
    "Conversely, say you want to be really certain that your model correctly identifies all the mines as mines. In this case, you might use a prediction threshold of 0.10, instead of 0.90.\n",
    "\n",
    "You can construct the confusion matrix in the same way you did before, using your new predicted classes:\n",
    "\n",
    "pred <- ifelse(probability > threshold, \"M\", \"R\")\n",
    "You can then call the confusionMatrix() function in the same way as in the previous exercise:\n",
    "\n",
    "confusionMatrix(pred, actual)\n",
    "Instructions\n",
    "Turn the numeric predictions p into a vector of class predictions called p_class, using a prediction cutoff of 0.10.\n",
    "Make sure to use \"M\" for the positive class and \"R\" for the negative class when making predictions to match the classes in the original data.\n",
    "Make a confusion matrix using p_class and the confusionMatrix() function."
   ]
  },
  {
   "cell_type": "code",
   "execution_count": null,
   "metadata": {
    "collapsed": true
   },
   "outputs": [],
   "source": [
    "# Apply threshold of 0.10: p_class\n",
    "p_class <- ifelse(p > 0.1, \"M\",\"R\")\n",
    "\n",
    "# Create confusion matrix\n",
    "confusionMatrix(p_class, test$Class)"
   ]
  },
  {
   "cell_type": "markdown",
   "metadata": {},
   "source": [
    "# Introducing the ROC curve"
   ]
  },
  {
   "cell_type": "markdown",
   "metadata": {},
   "source": [
    "What's the value of a ROC curve?\n",
    "50xp\n",
    "What is the primary value of an ROC curve?\n",
    "\n",
    "Possible Answers\n",
    "It has a cool acronym.\n",
    "It can be used to determine the true positive and false positive rates for a particular classification threshold.\n",
    "It evaluates all possible thresholds for splitting predicted probabilities into predicted classes. (Correct)"
   ]
  },
  {
   "cell_type": "markdown",
   "metadata": {},
   "source": [
    "### Plot an ROC curve\n",
    "100xp\n",
    "As you saw in the video, an ROC curve is a really useful shortcut for summarizing the performance of a classifier over all possible thresholds. This saves you a lot of tedious work computing class predictions for many different thresholds and examining the confusion matrix for each.\n",
    "\n",
    "My favorite package for computing ROC curves is caTools, which contains a function called colAUC(). This function is very user-friendly and can actually calculate ROC curves for multiple predictors at once. In this case, you only need to calculate the ROC curve for one predictor, e.g.:\n",
    "\n",
    "colAUC(predicted_probabilities, actual, plotROC = TRUE)\n",
    "The function will return a score called AUC (more on that later) and the plotROC = TRUE argument will return the plot of the ROC curve for visual inspection.\n",
    "\n",
    "Instructions\n",
    "model, test, and train from the last exercise using the sonar data are loaded in your workspace.\n",
    "\n",
    "Predict probabilities (i.e. type = \"response\") on the test set, then store the result as p.\n",
    "Make an ROC curve using the predicted test set probabilities."
   ]
  },
  {
   "cell_type": "code",
   "execution_count": 23,
   "metadata": {
    "collapsed": false
   },
   "outputs": [
    {
     "data": {
      "text/html": [
       "<table>\n",
       "<tbody>\n",
       "\t<tr><th scope=row>M vs. R</th><td>0.6976608</td></tr>\n",
       "</tbody>\n",
       "</table>\n"
      ],
      "text/latex": [
       "\\begin{tabular}{r|l}\n",
       "\tM vs. R & 0.6976608\\\\\n",
       "\\end{tabular}\n"
      ],
      "text/markdown": [
       "\n",
       "| M vs. R | 0.6976608 | \n",
       "\n",
       "\n"
      ],
      "text/plain": [
       "        [,1]     \n",
       "M vs. R 0.6976608"
      ]
     },
     "metadata": {},
     "output_type": "display_data"
    },
    {
     "data": {
      "image/png": "[encoded data removed]",
      "text/plain": [
       "Plot with title \"ROC Curves\""
      ]
     },
     "metadata": {},
     "output_type": "display_data"
    }
   ],
   "source": [
    "library(caTools)\n",
    "# Predict on test: p\n",
    "p <- predict(model, test, type=\"response\")\n",
    "\n",
    "# Make ROC curve\n",
    "colAUC(p, test$Class, plotROC=TRUE)"
   ]
  },
  {
   "cell_type": "markdown",
   "metadata": {},
   "source": [
    "### Area under the curve"
   ]
  },
  {
   "cell_type": "markdown",
   "metadata": {},
   "source": [
    "Model, ROC, and AUC\n",
    "50xp\n",
    "What is the AUC of a perfect model?\n",
    "\n",
    "Possible Answers\n",
    "0.00\n",
    "0.50\n",
    "1.00 (Correct)"
   ]
  },
  {
   "cell_type": "markdown",
   "metadata": {},
   "source": [
    "Customizing trainControl\n",
    "100xp\n",
    "As you saw in the video, area under the ROC curve is a very useful, single-number summary of a model's ability to discriminate the positive from the negative class (e.g. mines from rocks). An AUC of 0.5 is no better than random guessing, an AUC of 1.0 is a perfectly predictive model, and an AUC of 0.0 is perfectly anti-predictive (which rarely happens).\n",
    "\n",
    "This is often a much more useful metric than simply ranking models by their accuracy at a set threshold, as different models might require different calibration steps (looking at a confusion matrix at each step) to find the optimal classification threshold for that model.\n",
    "\n",
    "You can use the trainControl() function in caret to use AUC (instead of acccuracy), to tune the parameters of your models. The twoClassSummary() convenience function allows you to do this easily.\n",
    "\n",
    "When using twoClassSummary(), be sure to always include the argument classProbs = TRUE or your model will throw an error! (You cannot calculate AUC with just class predictions. You need to have class probabilities as well.)\n",
    "\n",
    "Instructions\n",
    "Customize the trainControl object to use twoClassSummary rather than defaultSummary.\n",
    "Use 10-fold cross-validation.\n",
    "Be sure to tell trainControl() to return class probabilities."
   ]
  },
  {
   "cell_type": "code",
   "execution_count": null,
   "metadata": {
    "collapsed": true
   },
   "outputs": [],
   "source": [
    "# Create trainControl object: myControl\n",
    "myControl <- trainControl(\n",
    "  method = \"cv\",\n",
    "  number = 10,\n",
    "  summaryFunction = twoClassSummary,\n",
    "  classProbs = TRUE, # IMPORTANT!\n",
    "  verboseIter = TRUE\n",
    ")"
   ]
  },
  {
   "cell_type": "markdown",
   "metadata": {},
   "source": [
    "### Using custom trainControl\n",
    "100xp\n",
    "Now that you have a custom trainControl object, it's easy to fit caret models that use AUC rather than accuracy to tune and evaluate the model. You can just pass your custom trainControl object to the train() function via the trControl argument, e.g.:\n",
    "\n",
    "train(<standard arguments here>, trControl = myControl)\n",
    "This syntax gives you a convenient way to store a lot of custom modeling parameters and then use them across multiple different calls to train(). You will make extensive use of this trick in Chapter 5.\n",
    "\n",
    "Instructions\n",
    "Use train() to fit a glm model (i.e. method = \"glm\") to Sonar using your custom trainControl object, myControl. You want to predict Class from all other variables in the data (i.e. Class ~ .). Save the result to model.\n",
    "Print the model to the console and examine its output."
   ]
  },
  {
   "cell_type": "code",
   "execution_count": null,
   "metadata": {
    "collapsed": true
   },
   "outputs": [],
   "source": [
    "# Train glm with custom trainControl: model\n",
    "model <- train(Class~.,Sonar, method=\"glm\", trControl=myControl)\n",
    "\n",
    "\n",
    "# Print model to console\n",
    "print(model)"
   ]
  },
  {
   "cell_type": "markdown",
   "metadata": {},
   "source": [
    "# Random forests and wine"
   ]
  },
  {
   "cell_type": "markdown",
   "metadata": {},
   "source": [
    "Fit a random forest\n",
    "100xp\n",
    "As you saw in the video, random forest models are much more flexible than linear models, and can model complicated nonlinear effects as well as automatically capture interactions between variables. They tend to give very good results on real world data, so let's try one out on the wine quality dataset, where the goal is to predict the human-evaluated quality of a batch of wine, given some of the machine-measured chemical and physical properties of that batch.\n",
    "\n",
    "Fitting a random forest model is exactly the same as fitting a generalized linear regression model, as you did in the previous chapter. You simply change the method argument in the train function to be \"ranger\". The ranger package is a rewrite of R's classic randomForest package and fits models much faster, but gives almost exactly the same results. We suggest that all beginners use the ranger package for random forest modeling.\n",
    "\n",
    "Instructions\n",
    "Train a random forest called model on the wine quality dataset, wine, such that quality is the response variable and all other variables are explanatory variables.\n",
    "Use method = \"ranger\".\n",
    "Use a tuneLength of 1.\n",
    "Use 5 CV folds.\n",
    "Print model to the console."
   ]
  },
  {
   "cell_type": "code",
   "execution_count": null,
   "metadata": {
    "collapsed": true
   },
   "outputs": [],
   "source": [
    "# Fit random forest: model\n",
    "model <- train(\n",
    "  quality~.,\n",
    "  tuneLength = 1,\n",
    "  data = wine, method = \"ranger\",\n",
    "  trControl = trainControl(method = \"cv\", number = 5, verboseIter = TRUE)\n",
    ")\n",
    "\n",
    "# Print model to console\n",
    "print(model)"
   ]
  },
  {
   "cell_type": "markdown",
   "metadata": {},
   "source": [
    "### Explore a wider model space"
   ]
  },
  {
   "cell_type": "markdown",
   "metadata": {},
   "source": [
    "Try a longer tune length\n",
    "100xp\n",
    "Recall from the video that random forest models have a primary tuning parameter of mtry, which controls how many variables are exposed to the splitting search routine at each split. For example, suppose that a tree has a total of 10 splits and mtry = 2. This means that there are 10 samples of 2 predictors each time a split is evaluated.\n",
    "\n",
    "Use a larger tuning grid this time, but stick to the defaults provided by the train() function. Try a tuneLength of 3, rather than 1, to explore some more potential models, and plot the resulting model using the plot function.\n",
    "\n",
    "Instructions\n",
    "Train a random forest model, model, using the wine dataset on the quality variable with all other variables as explanatory variables. (This will take a few seconds to run, so be patient!)\n",
    "Use method = \"ranger\".\n",
    "Use a tuneLength of 3.\n",
    "Use 5 CV folds.\n",
    "Print model to the console.\n",
    "Plot the model after fitting it."
   ]
  },
  {
   "cell_type": "code",
   "execution_count": null,
   "metadata": {
    "collapsed": true
   },
   "outputs": [],
   "source": [
    "# Fit random forest: model\n",
    "model <- train(\n",
    "  quality~.,\n",
    "  tuneLength = 3,\n",
    "  data = wine, method = \"ranger\",\n",
    "  trControl = trainControl(method = \"cv\", number = 5, verboseIter = TRUE)\n",
    ")\n",
    "\n",
    "# Print model to console\n",
    "print(model)\n",
    "\n",
    "# Plot model\n",
    "plot(model)"
   ]
  },
  {
   "cell_type": "markdown",
   "metadata": {},
   "source": [
    "### Custom tuning grids"
   ]
  },
  {
   "cell_type": "markdown",
   "metadata": {},
   "source": [
    "Fit a random forest with custom tuning\n",
    "100xp\n",
    "Now that you've explored the default tuning grids provided by the train() function, let's customize your models a bit more.\n",
    "\n",
    "You can provide any number of values for mtry, from 2 up to the number of columns in the dataset. In practice, there are diminishing returns for much larger values of mtry, so you will use a custom tuning grid that explores 2 simple models (mtry = 2 and mtry = 3) as well as one more complicated model (mtry = 7).\n",
    "\n",
    "Instructions\n",
    "Train another random forest model, model, using the wine dataset on the quality variable with all other variables as explanatory variables.\n",
    "Use method = \"ranger\".\n",
    "Use a custom tuneGrid with data.frame(mtry = c(2, 3, 7)).\n",
    "Use 5 CV folds.\n",
    "Print model to the console.\n",
    "Plot the model after fitting it using plot()."
   ]
  },
  {
   "cell_type": "code",
   "execution_count": null,
   "metadata": {
    "collapsed": true
   },
   "outputs": [],
   "source": [
    "# Fit random forest: model\n",
    "model <- train(\n",
    "  quality~.,\n",
    "  tuneGrid = data.frame(mtry = c(2, 3, 7)),\n",
    "  data = wine, method = \"ranger\",\n",
    "  trControl = trainControl(method = \"cv\", number = 5, verboseIter = TRUE)\n",
    ")\n",
    "\n",
    "# Print model to console\n",
    "print(model)\n",
    "\n",
    "# Plot model"
   ]
  },
  {
   "cell_type": "markdown",
   "metadata": {},
   "source": [
    "### Introducing glmnet"
   ]
  },
  {
   "cell_type": "markdown",
   "metadata": {},
   "source": [
    "Advantage of glmnet\n",
    "50xp\n",
    "What's the advantage of glmnet over regular glm models?\n",
    "\n",
    "Possible Answers\n",
    "glmnet models automatically find interaction variables.\n",
    "glmnet models don't provide p-values or confidence intervals on predictions.\n",
    "glmnet models place constraints on your coefficients, which helps prevent overfitting. (Correct)"
   ]
  },
  {
   "cell_type": "markdown",
   "metadata": {},
   "source": [
    "Make a custom trainControl\n",
    "100xp\n",
    "The wine quality dataset was a regression problem, but now you are looking at a classification problem. This is a simulated dataset based on the \"don't overfit\" competition on Kaggle a number of years ago.\n",
    "\n",
    "Classification problems are a little more complicated than regression problems because you have to provide a custom summaryFunction to the train() function to use the AUC metric to rank your models. Start by making a custom trainControl, as you did in the previous chapter. Be sure to set classProbs = TRUE, otherwise the twoClassSummary for summaryFunction will break.\n",
    "\n",
    "Instructions\n",
    "Make a custom trainControl called myControl for classification using the trainControl function.\n",
    "\n",
    "Use 10 CV folds.\n",
    "Use twoClassSummary for the summaryFunction.\n",
    "Be sure to set classProbs = TRUE."
   ]
  },
  {
   "cell_type": "code",
   "execution_count": null,
   "metadata": {
    "collapsed": true
   },
   "outputs": [],
   "source": [
    "# Create custom trainControl: myControl\n",
    "myControl <- trainControl(\n",
    "  method = \"cv\", number = 10,\n",
    "  summaryFunction = twoClassSummary,\n",
    "  classProbs = TRUE, # IMPORTANT!\n",
    "  verboseIter = TRUE\n",
    ")"
   ]
  },
  {
   "cell_type": "markdown",
   "metadata": {},
   "source": [
    "Fit glmnet with custom trainControl\n",
    "100xp\n",
    "Now that you have a custom trainControl object, fit a glmnet model to the \"don't overfit\" dataset. Recall from the video that glmnet is an extention of the generalized linear regression model (or glm) that places constraints on the magnitude of the coefficients to prevent overfitting. This is more commonly known as \"penalized\" regression modeling and is a very useful technique on datasets with many predictors and few values.\n",
    "\n",
    "glmnet is capable of fitting two different kinds of penalized models, controlled by the alpha parameter:\n",
    "\n",
    "Ridge regression (or alpha = 0)\n",
    "Lasso regression (or alpha = 1)\n",
    "You'll now fit a glmnet model to the \"don't overfit\" dataset using the defaults provided by the caret package.\n",
    "\n",
    "Instructions\n",
    "Train a glmnet model called model on the overfit data. Use the custom trainControl from the previous exercise (myControl). The variable y is the response variable and all other variables are explanatory variables.\n",
    "Print the model to the console.\n",
    "Use the max() function to find the maximum of the ROC statistic contained somewhere in model[[\"results\"]]."
   ]
  },
  {
   "cell_type": "code",
   "execution_count": null,
   "metadata": {
    "collapsed": true
   },
   "outputs": [],
   "source": [
    "# Fit glmnet model: model\n",
    "model <- train(\n",
    "  y~., data=overfit,\n",
    "  method = \"glmnet\",\n",
    "  trControl = myControl\n",
    ")\n",
    "\n",
    "# Print model to console\n",
    "print(model)\n",
    "\n",
    "# Print maximum ROC statistic\n",
    "print(max(model[[\"results\"]]))"
   ]
  },
  {
   "cell_type": "markdown",
   "metadata": {},
   "source": [
    "### glmnet with custom tuning grid"
   ]
  },
  {
   "cell_type": "markdown",
   "metadata": {},
   "source": [
    "glmnet with custom trainControl and tuning\n",
    "100xp\n",
    "As you saw in the video, the glmnet model actually fits many models at once (one of the great things about the package). You can exploit this by passing a large number of lambda values, which control the amount of penalization in the model. train() is smart enough to only fit one model per alpha value and pass all of the lambda values at once for simultaneous fitting.\n",
    "\n",
    "My favorite tuning grid for glmnet models is:\n",
    "\n",
    "expand.grid(alpha = 0:1,\n",
    "  lambda = seq(0.0001, 1, length = 100))\n",
    "This grid explores a large number of lambda values (100, in fact), from a very small one to a very large one. (You could increase the maximum lambda to 10, but in this exercise 1 is a good upper bound.)\n",
    "\n",
    "If you want to explore fewer models, you can use a shorter lambda sequence. For example, lambda = seq(0.0001, 1, length = 10) would fit 10 models per value of alpha.\n",
    "\n",
    "You also look at the two forms of penalized models with this tuneGrid: ridge regression and lasso regression. alpha = 0 is pure ridge regression, and alpha = 1 is pure lasso regression. You can fit a mixture of the two models (i.e. an elastic net) using an alpha between 0 and 1. For example, alpha = .05 would be 95% ridge regression and 5% lasso regression.\n",
    "\n",
    "In this problem you'll just explore the 2 extremes--pure ridge and pure lasso regression--for the purpose of illustrating their differences.\n",
    "\n",
    "Instructions\n",
    "Train a glmnet model on the overfit data such that y is the response variable and all other variables are explanatory variables. Make sure to use your custom trainControl from the previous exercise (myControl). Also, use a custom tuneGrid to explore alpha = 0:1 and 20 values of lambda between 0.0001 and 1 per value of alpha.\n",
    "Print model to the console.\n",
    "Print the max() of the ROC statistic in model[[\"results\"]]. You can access it using model[[\"results\"]][[\"ROC\"]]."
   ]
  },
  {
   "cell_type": "code",
   "execution_count": null,
   "metadata": {
    "collapsed": true
   },
   "outputs": [],
   "source": [
    "# Train glmnet with custom trainControl and tuning: model\n",
    "model <- train(\n",
    "  y~., overfit,\n",
    "  tuneGrid = expand.grid(alpha = 0:1,lambda = seq(0.0001,1,length = 20)),\n",
    "  method = \"glmnet\",\n",
    "  trControl = myControl\n",
    ")\n",
    "\n",
    "# Print model to console\n",
    "print(model)\n",
    "\n",
    "# Print maximum ROC statistic\n",
    "print(max(model[[\"results\"]][[\"ROC\"]]))"
   ]
  },
  {
   "cell_type": "markdown",
   "metadata": {},
   "source": [
    "# Median imputation"
   ]
  },
  {
   "cell_type": "markdown",
   "metadata": {},
   "source": [
    "Apply median imputation\n",
    "100xp\n",
    "In this chapter, you'll be using a version of the Wisconsin Breast Cancer dataset. This dataset presents a classic binary classification problem: 50% of the samples are benign, 50% are malignant, and the challenge is to identify which are which.\n",
    "\n",
    "This dataset is interesting because many of the predictors contain missing values and most rows of the dataset have at least one missing value. This presents a modeling challenge, because most machine learning algorithms cannot handle missing values out of the box. For example, your first instinct might be to fit a logistic regression model to this data, but prior to doing this you need a strategy for handling the NAs.\n",
    "\n",
    "Fortunately, the train() function in caret contains an argument called preProcess, which allows you to specify that median imputation should be used to fill in the missing values. In previous chapters, you created models with the train() function using formulas such as y ~ .. An alternative way is to specify the x and y arguments to train(), where x is an object with samples in rows and features in columns and y is a numeric or factor vector containing the outcomes. Said differently, x is a matrix or data frame that contains the whole dataset you'd use for the data argument to the lm() call, for example, but excludes the response variable column; y is a vector that contains just the response variable column.\n",
    "\n",
    "For this exercise, the argument x to train() is loaded in your workspace as breast_cancer_x and y as breast_cancer_y.\n",
    "\n",
    "Instructions\n",
    "Use the train() function to fit a glm model called model to the breast cancer dataset. Use preProcess = \"medianImpute\" to handle the missing values.\n",
    "Print model to the console."
   ]
  },
  {
   "cell_type": "code",
   "execution_count": null,
   "metadata": {
    "collapsed": true
   },
   "outputs": [],
   "source": [
    "# Apply median imputation: model\n",
    "model <- train(\n",
    "  x = breast_cancer_x, y = breast_cancer_y,\n",
    "  method = \"glm\",\n",
    "  trControl = myControl,\n",
    "  preProcess = \"medianImpute\"\n",
    ")\n",
    "\n",
    "# Print model to console\n",
    "print(model)"
   ]
  },
  {
   "cell_type": "markdown",
   "metadata": {},
   "source": [
    "### KNN imputation"
   ]
  },
  {
   "cell_type": "markdown",
   "metadata": {},
   "source": [
    "Use KNN imputation\n",
    "100xp\n",
    "In the previous exercise, you used median imputation to fill in missing values in the breast cancer dataset, but that is not the only possible method for dealing with missing data.\n",
    "\n",
    "An alternative to median imputation is k-nearest neighbors, or KNN, imputation. This is a more advanced form of imputation where missing values are replaced with values from other rows that are similar to the current row. While this is a lot more complicated to implement in practice than simple median imputation, it is very easy to explore in caret using the preProcess argument to train(). You can simply use preProcess = \"knnImpute\" to change the method of imputation used prior to model fitting.\n",
    "\n",
    "Instructions\n",
    "breast_cancer_x and breast_cancer_y are loaded in your workspace.\n",
    "\n",
    "Use the train() function to fit a glm model called model2 to the breast cancer dataset.\n",
    "Use KNN imputation to handle missing values."
   ]
  },
  {
   "cell_type": "code",
   "execution_count": null,
   "metadata": {
    "collapsed": true
   },
   "outputs": [],
   "source": [
    "# Apply KNN imputation: model2\n",
    "model2 <- train(\n",
    "  x = breast_cancer_x, y = breast_cancer_y,\n",
    "  method = \"glm\",\n",
    "  trControl = myControl,\n",
    "  preProcess = \"knnImpute\"\n",
    ")\n",
    "\n",
    "# Print model to console\n",
    "print(model2)"
   ]
  },
  {
   "cell_type": "markdown",
   "metadata": {},
   "source": [
    "Compare KNN and median imputation\n",
    "100xp\n",
    "All of the preprocessing steps in the train() function happen in the training set of each cross-validation fold, so the error metrics reported include the effects of the preprocessing.\n",
    "\n",
    "This includes the imputation method used (e.g. knnImputate or medianImpute). This is useful because it allows you to compare different methods of imputation and choose the one that performs the best out-of-sample.\n",
    "\n",
    "median_model and knn_model are available in your workspace, as is resamples, which contains the resampled results of both models. Look at the results of the models by calling\n",
    "\n",
    "dotplot(resamples, metric = \"ROC\")\n",
    "and choose the one that performs the best out-of-sample. Which method of imputation yields the highest out-of-sample ROC score for your glm model?\n",
    "\n",
    "Possible Answers\n",
    "KNN imputation is much better than median imputation.\n",
    "KNN imputation is slightly better than median imputation. (Correct)\n",
    "Median imputation is much better than KNN imputation.\n",
    "Median imputation is slightly better than KNN imputation."
   ]
  },
  {
   "cell_type": "markdown",
   "metadata": {},
   "source": [
    "### Multiple preprocessing methods"
   ]
  },
  {
   "cell_type": "markdown",
   "metadata": {},
   "source": [
    "Order of operations\n",
    "50xp\n",
    "Which comes first in caret's preProcess() function: median imputation or centering and scaling of variables?\n",
    "\n",
    "Possible Answers\n",
    "Median imputation comes before centering and scaling.(Correct)\n",
    "Centering and scaling come before median imputation."
   ]
  },
  {
   "cell_type": "markdown",
   "metadata": {},
   "source": [
    "Combining preprocessing methods\n",
    "100xp\n",
    "The preProcess argument to train() doesn't just limit you to imputing missing values. It also includes a wide variety of other preProcess techniques to make your life as a data scientist much easier. You can read a full list of them by typing ?preProcess and reading the help page for this function.\n",
    "\n",
    "One set of preprocessing functions that is particularly useful for fitting regression models is standardization: centering and scaling. You first center by subtracting the mean of each column from each value in that column, then you scale by dividing by the standard deviation.\n",
    "\n",
    "Standardization transforms your data such that for each column, the mean is 0 and the standard deviation is 1. This makes it easier for regression models to find a good solution.\n",
    "\n",
    "Instructions\n",
    "breast_cancer_x and breast_cancer_y are loaded in your workspace. Fit two models called model1 and model2 to the breast cancer data, then print each to the console:\n",
    "\n",
    "A logistic regression model using only median imputation: model1\n",
    "A logistic regression model using median imputation, centering, and scaling (in that order): model2"
   ]
  },
  {
   "cell_type": "code",
   "execution_count": null,
   "metadata": {
    "collapsed": true
   },
   "outputs": [],
   "source": [
    "# Fit glm with median imputation: model1\n",
    "model1 <- train(\n",
    "  x = breast_cancer_x, y = breast_cancer_y,\n",
    "  method = \"glm\",\n",
    "  trControl = myControl,\n",
    "  preProcess = \"medianImpute\"\n",
    ")\n",
    "\n",
    "# Print model1\n",
    "print(model1)\n",
    "\n",
    "# Fit glm with median imputation and standardization: model2\n",
    "model2 <- train(\n",
    "  x = breast_cancer_x, y = breast_cancer_y,\n",
    "  method = \"glm\",\n",
    "  trControl = myControl,\n",
    "  preProcess = c(\"medianImpute\",\"center\", \"scale\")\n",
    ")\n",
    "\n",
    "# Print model2\n",
    "print(model2)"
   ]
  },
  {
   "cell_type": "markdown",
   "metadata": {},
   "source": [
    "### Handling low-information predictors"
   ]
  },
  {
   "cell_type": "markdown",
   "metadata": {},
   "source": [
    "Why remove near zero variance predictors?\n",
    "50xp\n",
    "What's the best reason to remove near zero variance predictors from your data before building a model?\n",
    "\n",
    "Possible Answers\n",
    "Because they are guaranteed to have no effect on your model.\n",
    "Because their p-values in a linear regression will always be low.\n",
    "To reduce model-fitting time without reducing model accuracy. (Correct)"
   ]
  },
  {
   "cell_type": "markdown",
   "metadata": {},
   "source": [
    "Remove near zero variance predictors\n",
    "100xp\n",
    "As you saw in the video, for the next set of exercises, you'll be using the blood-brain dataset. This is a biochemical dataset in which the task is to predict the following value for a set of biochemical compounds:\n",
    "\n",
    "log((concentration of compound in brain) /\n",
    "      (concentration of compound in blood))\n",
    "This gives a quantitative metric of the compound's ability to cross the blood-brain barrier, and is useful for understanding the biological properties of that barrier.\n",
    "\n",
    "One interesting aspect of this dataset is that it contains many variables and many of these variables have extemely low variances. This means that there is very little information in these variables because they mostly consist of a single value (e.g. zero).\n",
    "\n",
    "Fortunately, caret contains a utility function called nearZeroVar() for removing such variables to save time during modeling.\n",
    "\n",
    "nearZeroVar() takes in data x, then looks at the ratio of the most common value to the second most common value, freqCut, and the percentage of distinct values out of the number of total samples, uniqueCut. By default, caret uses freqCut = 19 and uniqueCut = 10, which is fairly conservative. I like to be a little more aggressive and use freqCut = 2 and uniqueCut = 20 when calling nearZeroVar().\n",
    "\n",
    "Instructions\n",
    "bloodbrain_x and bloodbrain_y are loaded in your workspace.\n",
    "\n",
    "Identify the near zero variance predictors by running nearZeroVar() on the blood-brain dataset. Store the result as an object called remove_cols. Use freqCut = 2 and uniqueCut = 20 in the call to nearZeroVar().\n",
    "Use names() to create a vector containing all column names of bloodbrain_x. Call this all_cols.\n",
    "Make a new data frame called bloodbrain_x_small with the near-zero variance variables removed. Use setdiff() to isolate the column names that you wish to keep (i.e. that you don't want to remove.)"
   ]
  },
  {
   "cell_type": "code",
   "execution_count": null,
   "metadata": {
    "collapsed": true
   },
   "outputs": [],
   "source": [
    "# Identify near zero variance predictors: remove_cols\n",
    "remove_cols <- nearZeroVar(bloodbrain_x, names = TRUE, \n",
    "                           freqCut = 2, uniqueCut = 20)\n",
    "\n",
    "# Get all column names from bloodbrain_x: all_cols\n",
    "all_cols <- names(bloodbrain_x)\n",
    "\n",
    "# Remove from data: bloodbrain_x_small\n",
    "bloodbrain_x_small <- bloodbrain_x[ , setdiff(all_cols, remove_cols)]"
   ]
  },
  {
   "cell_type": "markdown",
   "metadata": {},
   "source": [
    "preProcess() and nearZeroVar()\n",
    "50xp\n",
    "Can you use the preProcess argument in caret to remove near-zero variance predictors? Or do you have to do this by hand, prior to modeling, using the nearZeroVar() function?\n",
    "\n",
    "Possible Answers\n",
    "Yes! Set the preProcess argument equal to \"nzv\". (Correct)\n",
    "No, unfortunately. You have to do this by hand."
   ]
  },
  {
   "cell_type": "markdown",
   "metadata": {},
   "source": [
    "Fit model on reduced blood-brain data\n",
    "100xp\n",
    "Now that you've reduced your dataset, you can fit a glm model to it using the train() function. This model will run faster than using the full dataset and will yield very similar predictive accuracy.\n",
    "\n",
    "Furthermore, zero variance variables can cause problems with cross-validation (e.g. if one fold ends up with only a single unique value for that variable), so removing them prior to modeling means you are less likely to get errors during the fitting process.\n",
    "\n",
    "Instructions\n",
    "bloodbrain_x, bloodbrain_y, remove, and bloodbrain_x_small are loaded in your workspace.\n",
    "\n",
    "Fit a glm model using the train() function and the reduced blood-brain dataset you created in the previous exercise.\n",
    "Print the result to the console."
   ]
  },
  {
   "cell_type": "code",
   "execution_count": null,
   "metadata": {
    "collapsed": true
   },
   "outputs": [],
   "source": [
    "# Fit model on reduced data: model\n",
    "model <- train(x = bloodbrain_x_small, y = bloodbrain_y, method = \"glm\")\n",
    "\n",
    "# Print model to console\n",
    "print(model)"
   ]
  },
  {
   "cell_type": "markdown",
   "metadata": {},
   "source": [
    "### Principle components analysis (PCA)"
   ]
  },
  {
   "cell_type": "markdown",
   "metadata": {},
   "source": [
    "Using PCA as an alternative to nearZeroVar()\n",
    "100xp\n",
    "An alternative to removing low-variance predictors is to run PCA on your dataset. This is sometimes preferable because it does not throw out all of your data: many different low variance predictors may end up combined into one high variance PCA variable, which might have a positive impact on your model's accuracy.\n",
    "\n",
    "This is an especially good trick for linear models: the pca option in the preProcess argument will center and scale your data, combine low variance variables, and ensure that all of your predictors are orthogonal. This creates an ideal dataset for linear regression modeling, and can often improve the accuracy of your models.\n",
    "\n",
    "Instructions\n",
    "bloodbrain_x and bloodbrain_y are loaded in your workspace.\n",
    "\n",
    "Fit a glm model to the full blood-brain dataset using the \"pca\" option to preProcess.\n",
    "Print the model to the console and inspect the result."
   ]
  },
  {
   "cell_type": "code",
   "execution_count": null,
   "metadata": {
    "collapsed": true
   },
   "outputs": [],
   "source": [
    "# Fit glm model using PCA: model\n",
    "model <- train(\n",
    "  x = bloodbrain_x, y = bloodbrain_y,\n",
    "  method = \"glm\", preProcess = \"pca\"\n",
    ")\n",
    "\n",
    "# Print model to console\n",
    "print(model)"
   ]
  },
  {
   "cell_type": "markdown",
   "metadata": {},
   "source": [
    "# Case Study"
   ]
  },
  {
   "cell_type": "markdown",
   "metadata": {},
   "source": [
    "# Reusing a trainControl"
   ]
  },
  {
   "cell_type": "markdown",
   "metadata": {},
   "source": [
    "Why reuse a trainControl?\n",
    "50xp\n",
    "Why reuse a trainControl?\n",
    "\n",
    "Possible Answers\n",
    "So you can use the same summaryFunction and tuning parameters for multiple models.\n",
    "So you don't have to repeat code when fitting multiple models.\n",
    "So you can compare models on the exact same training and test data.\n",
    "All of the above. (Correct)"
   ]
  },
  {
   "cell_type": "markdown",
   "metadata": {},
   "source": [
    "#### Make custom train/test indices\n",
    "100xp\n",
    "As you saw in the video, for this chapter you will focus on a real-world dataset that brings together all of the concepts discussed in the previous chapters.\n",
    "\n",
    "The churn dataset contains data on a variety of telecom customers and the modeling challenge is to predict which customers will cancel their service (or churn).\n",
    "\n",
    "In this chapter, you will be exploring two different types of predictive models: glmnet and rf, so the first order of business is to create a reusable trainControl object you can use to reliably compare them.\n",
    "\n",
    "Instructions\n",
    "churn_x and churn_y are loaded in your workspace.\n",
    "\n",
    "Use createFolds() to create 5 CV folds on churn_y, your target variable for this exercise.\n",
    "Pass them to trainControl() to create a reusable trainControl for comparing models."
   ]
  },
  {
   "cell_type": "code",
   "execution_count": null,
   "metadata": {
    "collapsed": true
   },
   "outputs": [],
   "source": [
    "# Create custom indices: myFolds\n",
    "myFolds <- createFolds(churn_y, k = 5)\n",
    "\n",
    "# Create reusable trainControl object: myControl\n",
    "myControl <- trainControl(\n",
    "  summaryFunction = twoClassSummary,\n",
    "  classProbs = TRUE, # IMPORTANT!\n",
    "  verboseIter = TRUE,\n",
    "  savePredictions = TRUE,\n",
    "  index = myFolds\n",
    ")"
   ]
  },
  {
   "cell_type": "markdown",
   "metadata": {},
   "source": [
    "#### Reintroduce glmnet"
   ]
  },
  {
   "cell_type": "markdown",
   "metadata": {},
   "source": [
    "glmnet as a baseline model\n",
    "50xp\n",
    "What makes glmnet a good baseline model?\n",
    "\n",
    "Possible Answers\n",
    "It's simple, fast, and easy to interpret. (Correct)\n",
    "It always gives poor predictions, so your other models will look good by comparison.\n",
    "Linear models with penalties on their coefficients always give better results."
   ]
  },
  {
   "cell_type": "markdown",
   "metadata": {},
   "source": [
    "Fit the baseline model\n",
    "100xp\n",
    "Now that you have a reusable trainControl object called myControl, you can start fitting different predictive models to your churn dataset and evaluate their predictive accuracy.\n",
    "\n",
    "You'll start with one of my favorite models, glmnet, which penalizes linear and logistic regression models on the size and number of coefficients to help prevent overfitting.\n",
    "\n",
    "Instructions\n",
    "Fit a glmnet model to the churn dataset called model_glmnet. Make sure to use myControl, which you created in the first exercise and is available in your workspace, as the trainControl object."
   ]
  },
  {
   "cell_type": "code",
   "execution_count": null,
   "metadata": {
    "collapsed": true
   },
   "outputs": [],
   "source": [
    "# Fit glmnet model: model_glmnet\n",
    "model_glmnet <- train(\n",
    "  x = churn_x, y = churn_y,\n",
    "  metric = \"ROC\",\n",
    "  method = \"glmnet\",\n",
    "  trControl = myControl\n",
    ")"
   ]
  },
  {
   "cell_type": "markdown",
   "metadata": {},
   "source": [
    "#### Reintroduce random forest"
   ]
  },
  {
   "cell_type": "markdown",
   "metadata": {},
   "source": [
    "Random forest drawback\n",
    "50xp\n",
    "What's the drawback of using a random forest model for churn prediction?\n",
    "\n",
    "Possible Answers\n",
    "Tree-based models are usually less accurate than linear models.\n",
    "You no longer have model coefficients to help interpret the model. (Correct)\n",
    "Nobody else uses random forests to predict churn."
   ]
  },
  {
   "cell_type": "markdown",
   "metadata": {},
   "source": [
    "Random forest with custom trainControl\n",
    "100xp\n",
    "Another one of my favorite models is the random forest, which combines an ensemble of non-linear decision trees into a highly flexible (and usually quite accurate) model.\n",
    "\n",
    "Rather than using the classic randomForest package, you'll be using the ranger package, which is a re-implementation of randomForest that produces almost the exact same results, but is faster, more stable, and uses less memory. I highly recommend it as a starting point for random forest modeling in R.\n",
    "\n",
    "Instructions\n",
    "churn_x and churn_y are loaded in your workspace.\n",
    "\n",
    "Fit a random forest model to the churn dataset. Be sure to use myControl as the trainControl like you've done before and implement the \"ranger\" method."
   ]
  },
  {
   "cell_type": "code",
   "execution_count": null,
   "metadata": {
    "collapsed": true
   },
   "outputs": [],
   "source": [
    "# Fit random forest: model_rf\n",
    "model_rf <- train(\n",
    "  x = churn_x, y = churn_y,\n",
    "  metric = \"ROC\",\n",
    "  method = \"ranger\",\n",
    "  trControl = myControl\n",
    ")"
   ]
  },
  {
   "cell_type": "markdown",
   "metadata": {},
   "source": [
    "#### Comparing models"
   ]
  },
  {
   "cell_type": "markdown",
   "metadata": {},
   "source": [
    "What's the primary reason that train/test indices need to match when comparing two models?\n",
    "\n",
    "Possible Answers\n",
    "You can save a lot of time when fitting your models because you don't have to remake the datasets.\n",
    "There's no real reason; it just makes your plots look better.\n",
    "Because otherwise you wouldn't be doing a fair comparison of your models and your results could be due to chance. (Correct)\n"
   ]
  },
  {
   "cell_type": "markdown",
   "metadata": {},
   "source": [
    "Create a resamples object\n",
    "100xp\n",
    "Now that you have fit two models to the churn dataset, it's time to compare their out-of-sample predictions and choose which one is the best model for your dataset.\n",
    "\n",
    "You can compare models in caret using the resamples() function, provided they have the same training data and use the same trainControl object with preset cross-validation folds. resamples() takes as input a list of models and can be used to compare dozens of models at once (though in this case you are only comparing two models).\n",
    "\n",
    "Instructions\n",
    "model_glmnet and model_rf are loaded in your workspace.\n",
    "\n",
    "Create a list() containing the glmnet model as item1 and the ranger model as item2.\n",
    "Pass this list to the resamples() function and save the resulting object as resamples.\n",
    "Summarize the results by calling summary() on resamples."
   ]
  },
  {
   "cell_type": "code",
   "execution_count": null,
   "metadata": {
    "collapsed": true
   },
   "outputs": [],
   "source": [
    "# Create model_list\n",
    "model_list <- list(item1 = model_glmnet, item2 = model_rf)\n",
    "\n",
    "# Pass model_list to resamples(): resamples\n",
    "resamples <- resamples(model_list)\n",
    "\n",
    "# Summarize the results\n",
    "summary(resamples)"
   ]
  },
  {
   "cell_type": "markdown",
   "metadata": {},
   "source": [
    "### More on resamples "
   ]
  },
  {
   "cell_type": "markdown",
   "metadata": {},
   "source": [
    "#### Create a box-and-whisker plot\n",
    "100xp\n",
    "caret provides a variety of methods to use for comparing models. All of these methods are based on the resamples() function. My favorite is the box-and-whisker plot, which allows you to compare the distribution of predictive accuracy (in this case AUC) for the two models.\n",
    "\n",
    "In general, you want the model with the higher median AUC, as well as a smaller range between min and max AUC.\n",
    "\n",
    "You can make this plot using the bwplot() function, which makes a box and whisker plot of the model's out of sample scores. Box and whisker plots show the median of each distribution as a line and the interquartile range of each distribution as a box around the median line. You can pass the metric = \"ROC\" argument to the bwplot() function to show a plot of the model's out-of-sample ROC scores and choose the model with the highest median ROC.\n",
    "\n",
    "If you do not specify a metric to plot, bwplot() will automatically plot 3 of them.\n",
    "\n",
    "Instructions\n",
    "Pass the resamples object to the bwplot() function to make a box-and-whisker plot. Look at the resulting plot and note which model has the higher median ROC statistic. Be sure to specify which metric you want to plot."
   ]
  },
  {
   "cell_type": "code",
   "execution_count": null,
   "metadata": {
    "collapsed": true
   },
   "outputs": [],
   "source": [
    "# Create bwplot\n",
    "bwplot(resamples, metric=\"ROC\")"
   ]
  },
  {
   "cell_type": "markdown",
   "metadata": {},
   "source": [
    "Create a scatterplot\n",
    "100xp\n",
    "Another useful plot for comparing models is the scatterplot, also known as the xy-plot. This plot shows you how similar the two models' performances are on different folds.\n",
    "\n",
    "It's particularly useful for identifying if one model is consistently better than the other across all folds, or if there are situations when the inferior model produces better predictions on a particular subset of the data.\n",
    "\n",
    "Instructions\n",
    "Pass the resamples object to the xyplot() function. Look at the resulting plot and note how similar the two models' predictions are (or are not) on the different folds. Be sure to specify which metric you want to plot."
   ]
  },
  {
   "cell_type": "code",
   "execution_count": null,
   "metadata": {
    "collapsed": true
   },
   "outputs": [],
   "source": [
    "# Create xyplot\n",
    "xyplot(resamples, metric=\"ROC\")"
   ]
  },
  {
   "cell_type": "markdown",
   "metadata": {},
   "source": [
    "Ensembling models\n",
    "100xp\n",
    "That concludes the course! As a teaser for a future course on making ensembles of caret models, I'll show you how to fit a stacked ensemble of models using the caretEnsemble package.\n",
    "\n",
    "caretEnsemble provides the caretList() function for creating multiple caret models at once on the same dataset, using the same resampling folds. You can also create your own lists of caret models.\n",
    "\n",
    "In this exercise, I've made a caretList for you, containing the glmnet and ranger models you fit on the churn dataset. Use the caretStack() function to make a stack of caret models, with the two sub-models (glmnet and ranger) feeding into another (hopefully more accurate!) caret model.\n",
    "\n",
    "Instructions\n",
    "Call the caretStack() function with two arguments, model_list and method = \"glm\", to ensemble the two models using a logistic regression. Store the result as stack.\n",
    "Summarize the resulting model with the summary() function."
   ]
  },
  {
   "cell_type": "code",
   "execution_count": null,
   "metadata": {
    "collapsed": true
   },
   "outputs": [],
   "source": [
    "# Create ensemble model: stack\n",
    "stack <- caretStack(model_list , method = \"glm\")\n",
    "\n",
    "# Look at summary\n",
    "summary(stack)"
   ]
  }
 ],
 "metadata": {
  "anaconda-cloud": {},
  "kernelspec": {
   "display_name": "R",
   "language": "R",
   "name": "ir"
  },
  "language_info": {
   "codemirror_mode": "r",
   "file_extension": ".r",
   "mimetype": "text/x-r-source",
   "name": "R",
   "pygments_lexer": "r",
   "version": "3.3.2"
  }
 },
 "nbformat": 4,
 "nbformat_minor": 1
}
