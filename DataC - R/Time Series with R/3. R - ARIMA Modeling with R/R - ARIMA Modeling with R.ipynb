{
 "cells": [
  {
   "cell_type": "code",
   "execution_count": 1,
   "metadata": {
    "collapsed": true
   },
   "outputs": [],
   "source": [
    "?AirPassengers"
   ]
  },
  {
   "cell_type": "code",
   "execution_count": null,
   "metadata": {
    "collapsed": true
   },
   "outputs": [],
   "source": [
    "Data Play\n",
    "100xp\n",
    "In the video, you saw various types of data. In this exercise, you will plot additional time series data and compare them to what you saw in the video. It is useful to think about how these time series compare to the series in the video. In particular, concentrate on the type of trend, seasonality or periodicity, and homoscedasticity.\n",
    "\n",
    "Before you use a data set for the first time, you should use the help system to see the details of the data. For example, use help(AirPassengers) or ?AirPassengers to see the details of the series.\n",
    "\n",
    "Instructions\n",
    "The packages astsa and xts are preloaded in your R environment.\n",
    "Use help() to view the specifics of the AirPassengers data file.\n",
    "Use plot() to plot the airline passenger data (AirPassengers) and compare it to a series you saw in the video.\n",
    "Plot the DJIA daily closings (djia$Close) and compare it to a series you saw in the video.\n",
    "Plot the Southern Oscillation Index (soi) and inspect it for trend, seasonality, and homoscedasticity."
   ]
  },
  {
   "cell_type": "code",
   "execution_count": null,
   "metadata": {
    "collapsed": true
   },
   "outputs": [],
   "source": []
  },
  {
   "cell_type": "code",
   "execution_count": null,
   "metadata": {
    "collapsed": true
   },
   "outputs": [],
   "source": []
  },
  {
   "cell_type": "code",
   "execution_count": null,
   "metadata": {
    "collapsed": true
   },
   "outputs": [],
   "source": [
    "Elements of Time Series\n",
    "50xp\n",
    "Look at the AirPassengers series again. Select the answer that is FALSE.\n",
    "\n",
    "Possible Answers\n",
    "There is seasonality.\n",
    "There is trend.\n",
    "There is heteroscedasticity.\n",
    "The series is white noise.\n",
    "Over the time period of this data, it was still ok to smoke on planes.\n",
    "Take Hint (-15xp)"
   ]
  },
  {
   "cell_type": "code",
   "execution_count": null,
   "metadata": {
    "collapsed": true
   },
   "outputs": [],
   "source": []
  },
  {
   "cell_type": "code",
   "execution_count": null,
   "metadata": {
    "collapsed": true
   },
   "outputs": [],
   "source": [
    "## Stationarity and Nonstationarity - Video"
   ]
  },
  {
   "cell_type": "markdown",
   "metadata": {},
   "source": [
    "Differencing\n",
    "100xp\n",
    "As seen in the video, when a time series is trend stationary, it will have stationary behavior around a trend. A simple example is Yt=α+βt+XtYt=α+βt+Xt where XtXt is stationary.\n",
    "\n",
    "A different type of model for trend is random walk, which has the form Xt=Xt−1+WtXt=Xt−1+Wt, where WtWt is white noise. It is called a random walk because at time tt the process is where it was at time t−1t−1 plus a completely random movement. For a random walk with drift, a constant is added to the model and will cause the random walk to drift in the direction (positve or negative) of the drift.\n",
    "\n",
    "We simulated and plotted data from these models. Note the difference in the behavior of the two models.\n",
    "\n",
    "In both cases, simple differencing can remove the trend and coerce the data to stationarity. Differencing looks at the difference between the value of a time series at a certain point in time and its preceding value. That is, Xt−Xt−1Xt−Xt−1 is computed.\n",
    "\n",
    "To check that it works, you will difference each generated time series and plot the detrended series. If a time series is in x, then diff(x) will have the detrended series obtained by differencing the data. To plot the detrended series, simply use plot(diff(x)).\n",
    "\n",
    "Instructions\n",
    "In one line, difference and plot the detrended trend stationary data in y by nesting a call to diff() within a call to plot(). Does the result look stationary?\n",
    "Do the same for x. Does the result look stationary?"
   ]
  },
  {
   "cell_type": "code",
   "execution_count": null,
   "metadata": {
    "collapsed": true
   },
   "outputs": [],
   "source": [
    "# Plot detrended y (trend stationary)\n",
    "plot(diff(y))\n",
    "\n",
    "# Plot detrended x (random walk)\n",
    "plot(diff(x))\n"
   ]
  },
  {
   "cell_type": "markdown",
   "metadata": {},
   "source": [
    "Well done! As you can see, differencing both your trend stationary data and your random walk data has the effect of removing the trends, despite the important differences between the two datasets."
   ]
  },
  {
   "cell_type": "markdown",
   "metadata": {},
   "source": [
    "Detrending Data\n",
    "100xp\n",
    "As you have seen in the previous exercise, differencing is generally good for removing trend from time series data. Recall that differencing looks at the difference between the value of a time series at a certain point in time and its preceding value.\n",
    "\n",
    "In this exercise, you will use differencing diff() to detrend and plot real time series data.\n",
    "\n",
    "Instructions\n",
    "The package astsa is preloaded.\n",
    "Generate a multifigure plot comparing the global temperature data (globtemp) with the detrended series. You can create a multifigure plot by running the pre-written par() command followed by two separate calls to plot().\n",
    "Generate another multifigure plot comparing the weekly cardiovascular mortality in Los Angeles County (cmort) with the detrended series."
   ]
  },
  {
   "cell_type": "code",
   "execution_count": null,
   "metadata": {
    "collapsed": true
   },
   "outputs": [],
   "source": [
    "# Plot globtemp and detrended globtemp\n",
    "par(mfrow = c(2,1))\n",
    "plot(globtemp)\n",
    "plot(diff(globtemp))\n",
    "\n",
    "\n",
    "# Plot cmort and detrended cmort\n",
    "par(mfrow = c(2,1))\n",
    "plot(cmort)\n",
    "plot(diff(cmort))"
   ]
  },
  {
   "cell_type": "code",
   "execution_count": null,
   "metadata": {
    "collapsed": true
   },
   "outputs": [],
   "source": [
    "Differencing is a great way to remove trends from your data."
   ]
  },
  {
   "cell_type": "markdown",
   "metadata": {},
   "source": [
    "Dealing with Trend and Heteroscedasticity\n",
    "100xp\n",
    "Here, we will coerce nonstationary data to stationarity by calculating the return or growth rate as follows.\n",
    "\n",
    "Often time series are generated as\n",
    "Xt=(1+pt)Xt−1\n",
    "Xt=(1+pt)Xt−1\n",
    "meaning that the value of the time series observed at time tt equals the value observed at time t−1t−1 and a small percent change ptpt at time tt.\n",
    "\n",
    "A simple deterministic example is putting money into a bank with a fixed interest pp. In this case, XtXt is the value of the account at time period tt with an initial deposit of X0X0.\n",
    "\n",
    "Typically, ptpt is referred to as the return or growth rate of a time series, and this process is often stable.\n",
    "\n",
    "For reasons that are outside the scope of this course, it can be shown that the growth rate ptpt can be approximated by\n",
    "Yt=logXt−logXt−1≈pt.\n",
    "Yt=log⁡Xt−log⁡Xt−1≈pt.\n",
    "In R, ptpt is often calculated as diff(log(x)) and plotting it can be done in one line plot(diff(log(x))).\n",
    "\n",
    "Instructions\n",
    "As before, the packages astsa and xts are preloaded.\n",
    "Generate a multifigure plot to (1) plot the quarterly US GNP (gnp) data and notice it is not stationary, and (2) plot the approximate growth rate of the US GNP using diff() and log().\n",
    "Use a multifigure plot to (1) plot the daily DJIA closings (djia$Close) and notice that it is not stationary. The data are an xts object. Then (2) plot the approximate DJIA returns using diff() and log(). How does this compare to the growth rate of the GNP?"
   ]
  },
  {
   "cell_type": "code",
   "execution_count": null,
   "metadata": {
    "collapsed": true
   },
   "outputs": [],
   "source": [
    "# astsa and xts are preloaded \n",
    "\n",
    "# Plot GNP series (gnp) and its growth rate\n",
    "par(mfrow = c(2,1))\n",
    "plot(gnp)\n",
    "plot(diff(log(gnp)))\n",
    "\n",
    "# Plot DJIA closings (djia$Close) and its returns\n",
    "par(mfrow = c(2,1))\n",
    "plot(djia$Close)\n",
    "plot(diff(log(djia$Close)))"
   ]
  },
  {
   "cell_type": "markdown",
   "metadata": {},
   "source": [
    "Once again, by combining a few commands to manipulate your data, you can coerce otherwise nonstationary data to stationarity."
   ]
  },
  {
   "cell_type": "markdown",
   "metadata": {},
   "source": [
    "## Stationary Time Series: ARMA - Video"
   ]
  },
  {
   "cell_type": "markdown",
   "metadata": {},
   "source": [
    "## Simulating ARMA Models\n",
    "\n",
    "As we saw in the video, any stationary time series can be written as a linear combination of white noise. In addition, any ARMA model has this form, so it is a good choice for modeling stationary time series.\n",
    "\n",
    "R provides a simple function called arima.sim() to generate data from an ARMA model. For example, the syntax for generating 100 observations from an MA(1) with parameter .9 is arima.sim(model = list(order = c(0, 0, 1), ma = .9 ), n = 100). You can also use order = c(0, 0, 0) to generate white noise.\n",
    "\n",
    "In this exercise, you will generate data from various ARMA models. For each command, generate 200 observations and plot the result.\n",
    "\n",
    "Instructions\n",
    "Use arima.sim() and plot() to generate and plot white noise.\n",
    "Use arima.sim() and plot() to generate and plot an MA(1) with parameter .9.\n",
    "Use arima.sim() and plot() to generate and plot an AR(2) with parameters 1.5 and -.75."
   ]
  },
  {
   "cell_type": "code",
   "execution_count": null,
   "metadata": {
    "collapsed": true
   },
   "outputs": [],
   "source": [
    "# Generate and plot white noise\n",
    "WN <- arima.sim(model=list(order = c(0, 0, 0)),n=200)\n",
    "plot(WN)\n",
    "\n",
    "# Generate and plot an MA(1) with parameter .9 \n",
    "MA <- arima.sim(model = list(order = c(0, 0, 1), ma = .9), n = 200)\n",
    "plot(MA)\n",
    "\n",
    "# Generate and plot an AR(2) with parameters 1.5 and -.75\n",
    "AR <- arima.sim(model = list(order = c(2, 0, 0), ar = c(1.5, -.75)), n = 200)\n",
    "plot(AR)"
   ]
  },
  {
   "cell_type": "code",
   "execution_count": null,
   "metadata": {
    "collapsed": true
   },
   "outputs": [],
   "source": [
    "The arima.sim() command is a very useful way to quickly simulate time series data."
   ]
  },
  {
   "cell_type": "code",
   "execution_count": 2,
   "metadata": {
    "collapsed": false
   },
   "outputs": [
    {
     "name": "stderr",
     "output_type": "stream",
     "text": [
      "Warning message:\n",
      "\"package 'qdap' was built under R version 3.3.3\"Loading required package: qdapDictionaries\n",
      "Loading required package: qdapRegex\n",
      "Warning message:\n",
      "\"package 'qdapRegex' was built under R version 3.3.3\"Loading required package: qdapTools\n",
      "Warning message:\n",
      "\"package 'qdapTools' was built under R version 3.3.3\"Loading required package: RColorBrewer\n",
      "\n",
      "Attaching package: 'qdap'\n",
      "\n",
      "The following object is masked from 'package:base':\n",
      "\n",
      "    Filter\n",
      "\n"
     ]
    }
   ],
   "source": [
    "library(qdap)"
   ]
  },
  {
   "cell_type": "code",
   "execution_count": 3,
   "metadata": {
    "collapsed": false
   },
   "outputs": [
    {
     "name": "stderr",
     "output_type": "stream",
     "text": [
      "Installing package into 'C:/Users/Lenovo/Documents/R/win-library/3.3'\n",
      "(as 'lib' is unspecified)\n"
     ]
    },
    {
     "ename": "ERROR",
     "evalue": "Error in contrib.url(repos, \"source\"): trying to use CRAN without setting a mirror\n",
     "output_type": "error",
     "traceback": [
      "Error in contrib.url(repos, \"source\"): trying to use CRAN without setting a mirror\nTraceback:\n",
      "1. install.packages(\"qdap\")",
      "2. contrib.url(repos, \"source\")",
      "3. stop(\"trying to use CRAN without setting a mirror\")"
     ]
    }
   ],
   "source": [
    "install.packages('qdap')"
   ]
  },
  {
   "cell_type": "code",
   "execution_count": null,
   "metadata": {
    "collapsed": true
   },
   "outputs": [],
   "source": []
  }
 ],
 "metadata": {
  "anaconda-cloud": {},
  "kernelspec": {
   "display_name": "R",
   "language": "R",
   "name": "ir"
  },
  "language_info": {
   "codemirror_mode": "r",
   "file_extension": ".r",
   "mimetype": "text/x-r-source",
   "name": "R",
   "pygments_lexer": "r",
   "version": "3.3.2"
  }
 },
 "nbformat": 4,
 "nbformat_minor": 1
}
